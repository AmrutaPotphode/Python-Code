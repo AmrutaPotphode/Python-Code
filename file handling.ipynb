{
 "cells": [
  {
   "cell_type": "markdown",
   "id": "d2165a19-cafa-45ad-acea-4998169216ce",
   "metadata": {},
   "source": [
    "# file handling"
   ]
  },
  {
   "cell_type": "code",
   "execution_count": 3,
   "id": "267c1264-b9dd-4e4d-98bc-772c023d7833",
   "metadata": {},
   "outputs": [
    {
     "name": "stdin",
     "output_type": "stream",
     "text": [
      "what is your name?? Snehal\n"
     ]
    }
   ],
   "source": [
    "name=input(\"what is your name??\")\n",
    "\n",
    "file=open(\"studentname.txt\",\"w\")\n",
    "file.write(name)\n",
    "file.close()"
   ]
  },
  {
   "cell_type": "markdown",
   "id": "f51f7f0e-69db-4ce7-b1ac-532d00badadd",
   "metadata": {},
   "source": [
    "# read file content using read mode"
   ]
  },
  {
   "cell_type": "code",
   "execution_count": 7,
   "id": "a2471d26-36e9-4d74-845a-cb8d6f8f009b",
   "metadata": {},
   "outputs": [
    {
     "name": "stdout",
     "output_type": "stream",
     "text": [
      "Snehal\n"
     ]
    }
   ],
   "source": [
    "file=open(\"studentname.txt\",\"r\")\n",
    "print(file.read())"
   ]
  },
  {
   "cell_type": "code",
   "execution_count": 6,
   "id": "c5af1946-3612-45ac-ad35-335e4aa3cd11",
   "metadata": {},
   "outputs": [
    {
     "name": "stdout",
     "output_type": "stream",
     "text": [
      "Snehal\n"
     ]
    }
   ],
   "source": [
    "file=open(\"studentname.txt\")\n",
    "print(file.read())"
   ]
  },
  {
   "cell_type": "markdown",
   "id": "60197307-45ab-4c62-b041-a7c97695fa79",
   "metadata": {},
   "source": [
    "# open file in append mode \"a\""
   ]
  },
  {
   "cell_type": "code",
   "execution_count": 9,
   "id": "eb8f266e-ed39-45ce-8795-8e1f6e9d5571",
   "metadata": {},
   "outputs": [
    {
     "name": "stdin",
     "output_type": "stream",
     "text": [
      "what is your name?? Trisha\n"
     ]
    },
    {
     "name": "stdout",
     "output_type": "stream",
     "text": [
      "Name is being written successfully in a file\n"
     ]
    }
   ],
   "source": [
    "name=input(\"what is your name??\")\n",
    "\n",
    "file=open(\"studentname.txt\", \"a\")\n",
    "file.write(name)\n",
    "file.close\n",
    "print(\"Name is being written successfully in a file\")"
   ]
  },
  {
   "cell_type": "code",
   "execution_count": 21,
   "id": "a0f0d9c0-e22e-49f3-b872-8b1cca2d83ba",
   "metadata": {},
   "outputs": [
    {
     "name": "stdout",
     "output_type": "stream",
     "text": [
      "SnehalTrishaKarishmaname \n",
      "pooja \n",
      "aks\n",
      "swaraasd \n",
      "\n"
     ]
    }
   ],
   "source": [
    "file=open(\"studentname.txt\",\"r\")\n",
    "print(file.read())"
   ]
  },
  {
   "cell_type": "code",
   "execution_count": 24,
   "id": "41593ff4-cab7-4b31-bda1-e6ac7742e4df",
   "metadata": {},
   "outputs": [
    {
     "name": "stdin",
     "output_type": "stream",
     "text": [
      "what is your name?? teja\n"
     ]
    },
    {
     "name": "stdout",
     "output_type": "stream",
     "text": [
      "Appended name successfully in a file\n"
     ]
    }
   ],
   "source": [
    "name=input(\"what is your name??\")\n",
    "\n",
    "file=open(\"studentname.txt\", \"a\")\n",
    "file.write(f\"\\n{name}\")\n",
    "file.close()\n",
    "print(\"Appended name successfully in a file\")"
   ]
  },
  {
   "cell_type": "code",
   "execution_count": 25,
   "id": "e2629710-0420-4c24-9361-6b61634e7aa0",
   "metadata": {},
   "outputs": [
    {
     "name": "stdout",
     "output_type": "stream",
     "text": [
      "SnehalTrishaKarishmaname \n",
      "pooja \n",
      "aks\n",
      "swaraasd \n",
      "\n",
      " chera\n",
      "teja\n"
     ]
    }
   ],
   "source": [
    "file=open(\"studentname.txt\",\"r\")\n",
    "print(file.read())"
   ]
  },
  {
   "cell_type": "markdown",
   "id": "273400cc-6a82-4f77-9b9d-abaa5c957234",
   "metadata": {},
   "source": [
    "# creating a file using with keyword and open() function:"
   ]
  },
  {
   "cell_type": "code",
   "execution_count": 26,
   "id": "9d677652-e252-43c1-9cfc-e0b4517a3f22",
   "metadata": {},
   "outputs": [
    {
     "name": "stdin",
     "output_type": "stream",
     "text": [
      "please specify fruit name?? kiwi\n"
     ]
    },
    {
     "name": "stdout",
     "output_type": "stream",
     "text": [
      "written successfully fruit name in a file\n"
     ]
    }
   ],
   "source": [
    "fruitname=input(\"please specify fruit name??\")\n",
    "with open(\"fruitnames.txt\",\"w\") as file:\n",
    "    file.write(fruitname)\n",
    "    print(\"written successfully fruit name in a file\")"
   ]
  },
  {
   "cell_type": "code",
   "execution_count": 27,
   "id": "c50f3814-40d1-4dfe-8278-f3d8bfe665eb",
   "metadata": {},
   "outputs": [
    {
     "name": "stdout",
     "output_type": "stream",
     "text": [
      "kiwi\n"
     ]
    }
   ],
   "source": [
    "with open(\"fruitnames.txt\") as file:\n",
    "    print(file.read())"
   ]
  },
  {
   "cell_type": "code",
   "execution_count": 29,
   "id": "c1898819-7662-4a58-97ff-4aec80fc7805",
   "metadata": {},
   "outputs": [
    {
     "name": "stdout",
     "output_type": "stream",
     "text": [
      "kiwi\n"
     ]
    }
   ],
   "source": [
    "with open(\"fruitnames.txt\",\"r\") as file:\n",
    "    print(file.read())"
   ]
  },
  {
   "cell_type": "code",
   "execution_count": 36,
   "id": "4a0cb4e1-cc3d-4b99-8a66-c1f51eadc51b",
   "metadata": {},
   "outputs": [
    {
     "name": "stdin",
     "output_type": "stream",
     "text": [
      "please specify fruit name?? banana\n"
     ]
    },
    {
     "name": "stdout",
     "output_type": "stream",
     "text": [
      "written successfully fruit name in a file\n"
     ]
    }
   ],
   "source": [
    "fruitname=input(\"please specify fruit name??\")\n",
    "with open(\"fruitnames.txt\",\"w\") as file:\n",
    "    file.write(fruitname)\n",
    "    print(\"written successfully fruit name in a file\")"
   ]
  },
  {
   "cell_type": "code",
   "execution_count": 37,
   "id": "c2aa892c-1f2b-4259-8243-12c05a2ae78e",
   "metadata": {},
   "outputs": [
    {
     "name": "stdout",
     "output_type": "stream",
     "text": [
      "banana\n"
     ]
    }
   ],
   "source": [
    "with open(\"fruitnames.txt\") as file:\n",
    "    print(file.read())"
   ]
  },
  {
   "cell_type": "code",
   "execution_count": 40,
   "id": "6f743a55-d0ac-49a0-85ac-389f4bce7742",
   "metadata": {},
   "outputs": [
    {
     "name": "stdin",
     "output_type": "stream",
     "text": [
      "please enter a fruit name kiwi\n"
     ]
    },
    {
     "name": "stdout",
     "output_type": "stream",
     "text": [
      "appended successfully in a file\n"
     ]
    }
   ],
   "source": [
    "fruitname=input(\"please enter a fruit name\")\n",
    "with open(\"fruitnames.txt\",\"a\") as file:\n",
    "    file.write(f\"\\n{fruitname}\")\n",
    "    print(\"appended successfully in a file\")"
   ]
  },
  {
   "cell_type": "code",
   "execution_count": 44,
   "id": "5b2fce64-f2ab-4357-b555-36dd0d874b5f",
   "metadata": {},
   "outputs": [
    {
     "name": "stdout",
     "output_type": "stream",
     "text": [
      "banana\n",
      " apple\n",
      "kiwi\n"
     ]
    }
   ],
   "source": [
    "with open(\"fruitnames.txt\") as file:\n",
    "    print(file.read())"
   ]
  },
  {
   "cell_type": "code",
   "execution_count": 51,
   "id": "c2dd06f1-145f-4f14-8777-d4c3f3693817",
   "metadata": {},
   "outputs": [
    {
     "name": "stdout",
     "output_type": "stream",
     "text": [
      "Fruitname:  banana\n",
      "\n",
      "Fruitname:   apple\n",
      "\n",
      "Fruitname:  kiwi\n"
     ]
    }
   ],
   "source": [
    "with open(\"fruitnames.txt\") as file:\n",
    "    lines=file.readlines()\n",
    "\n",
    "for line in lines:\n",
    "    print(\"Fruitname: \",line, end=\"\\n\")"
   ]
  },
  {
   "cell_type": "code",
   "execution_count": 52,
   "id": "f4c68f78-6f8c-465b-934e-c1816a2d4d20",
   "metadata": {},
   "outputs": [
    {
     "name": "stdout",
     "output_type": "stream",
     "text": [
      " apple\n",
      "\n",
      "banana\n",
      "\n",
      "kiwi\n"
     ]
    }
   ],
   "source": [
    "for i in sorted(lines):\n",
    "    print(i)"
   ]
  },
  {
   "cell_type": "code",
   "execution_count": 65,
   "id": "b3e7f03a-62f9-4339-a28e-bc0409c63f6d",
   "metadata": {},
   "outputs": [],
   "source": [
    "fruit=[]\n",
    "with open(\"fruitnames.txt\") as file:\n",
    "    for line in file:\n",
    "        fruit.append(line.strip())"
   ]
  },
  {
   "cell_type": "code",
   "execution_count": 67,
   "id": "c07d1980-bd34-45ed-9500-32b7c5fa4ed5",
   "metadata": {},
   "outputs": [
    {
     "name": "stdout",
     "output_type": "stream",
     "text": [
      "apple\n",
      "banana\n",
      "kiwi\n"
     ]
    }
   ],
   "source": [
    "for item in sorted(fruit):\n",
    "    print(item)"
   ]
  },
  {
   "cell_type": "code",
   "execution_count": null,
   "id": "51c8ff7d-269f-4c05-9dc9-05fc107a2702",
   "metadata": {},
   "outputs": [],
   "source": []
  },
  {
   "cell_type": "markdown",
   "id": "72c23158-b705-4db1-98e7-718ea23ac3e6",
   "metadata": {},
   "source": [
    " # create a file and store electronic product: 1. read() 2. write() 3. append() 4. read()"
   ]
  },
  {
   "cell_type": "code",
   "execution_count": 55,
   "id": "6cc99f90-9801-49e9-abb1-46096a60e314",
   "metadata": {},
   "outputs": [
    {
     "name": "stdin",
     "output_type": "stream",
     "text": [
      "enter electronic products mobile\n"
     ]
    },
    {
     "name": "stdout",
     "output_type": "stream",
     "text": [
      "pname enter successfully in the file\n"
     ]
    }
   ],
   "source": [
    "pname=input(\"enter electronic products\")\n",
    "\n",
    "file=open(\"productname.txt\",\"w\")\n",
    "file.write(pname)\n",
    "file.close()\n",
    "\n",
    "print(\"pname enter successfully in the file\")"
   ]
  },
  {
   "cell_type": "code",
   "execution_count": 57,
   "id": "fe7c2948-6f6a-4b11-8df4-5fb1bf58f9f3",
   "metadata": {},
   "outputs": [
    {
     "name": "stdout",
     "output_type": "stream",
     "text": [
      "mobile\n"
     ]
    }
   ],
   "source": [
    "file=open(\"productname.txt\",\"r\")\n",
    "print(file.read())"
   ]
  },
  {
   "cell_type": "code",
   "execution_count": 60,
   "id": "83640d8a-5287-48db-b2ef-273d0443a929",
   "metadata": {},
   "outputs": [
    {
     "name": "stdin",
     "output_type": "stream",
     "text": [
      "enter electronic products tablet\n"
     ]
    },
    {
     "name": "stdout",
     "output_type": "stream",
     "text": [
      "appended pname enter successfully in the file\n"
     ]
    }
   ],
   "source": [
    "pname=input(\"enter electronic products\")\n",
    "\n",
    "file=open(\"productname.txt\",\"a\")\n",
    "file.write(f\"\\n{pname}\")\n",
    "file.close()\n",
    "\n",
    "print(\"appended pname enter successfully in the file\")"
   ]
  },
  {
   "cell_type": "code",
   "execution_count": 61,
   "id": "170a54e6-3681-48a0-9ab1-f21f58ebccf2",
   "metadata": {},
   "outputs": [
    {
     "name": "stdout",
     "output_type": "stream",
     "text": [
      "mobilelaptop\n",
      "tablet\n"
     ]
    }
   ],
   "source": [
    "file=open(\"productname.txt\",\"r\")\n",
    "print(file.read())"
   ]
  },
  {
   "cell_type": "code",
   "execution_count": 68,
   "id": "0b0a5a3e-538f-48d1-b501-46cfddfd8cbf",
   "metadata": {},
   "outputs": [
    {
     "name": "stdin",
     "output_type": "stream",
     "text": [
      "enter electronic products mobile\n"
     ]
    },
    {
     "name": "stdout",
     "output_type": "stream",
     "text": [
      "written successfully product name in a file\n"
     ]
    }
   ],
   "source": [
    "productname=input(\"enter electronic products\")\n",
    "with open(\"productname.txt\",\"w\") as file:\n",
    "    file.write(productname)\n",
    "    print(\"written successfully product name in a file\")"
   ]
  },
  {
   "cell_type": "code",
   "execution_count": 71,
   "id": "c8e30271-db4d-4ec8-8642-8ae542c1504b",
   "metadata": {},
   "outputs": [
    {
     "name": "stdout",
     "output_type": "stream",
     "text": [
      "mobile\n",
      "tablet\n"
     ]
    }
   ],
   "source": [
    "with open(\"productname.txt\") as file:\n",
    "    print(file.read())"
   ]
  },
  {
   "cell_type": "code",
   "execution_count": 70,
   "id": "06edde3b-1d0f-4b2f-815b-6238a88f88c8",
   "metadata": {},
   "outputs": [
    {
     "name": "stdin",
     "output_type": "stream",
     "text": [
      "enter electronic products tablet\n"
     ]
    },
    {
     "name": "stdout",
     "output_type": "stream",
     "text": [
      "appended product name successfully in a file\n"
     ]
    }
   ],
   "source": [
    "productname=input(\"enter electronic products\")\n",
    "with open(\"productname.txt\",\"a\") as file:\n",
    "    file.write(f\"\\n{productname}\")\n",
    "    print(\"appended product name successfully in a file\")"
   ]
  },
  {
   "cell_type": "code",
   "execution_count": 1,
   "id": "23552ce6-d22e-4ad3-8933-a200911ab95d",
   "metadata": {},
   "outputs": [
    {
     "name": "stdout",
     "output_type": "stream",
     "text": [
      "productname:  mobile\n",
      "\n",
      "productname:  tablet\n"
     ]
    }
   ],
   "source": [
    "with open(\"productname.txt\") as file:\n",
    "    lines=file.readlines()\n",
    "\n",
    "for line in lines:\n",
    "    print(\"productname: \",line, end=\"\\n\")"
   ]
  },
  {
   "cell_type": "code",
   "execution_count": 2,
   "id": "5c2f3fa4-7719-4d29-89e9-99ca4de2f5ce",
   "metadata": {},
   "outputs": [
    {
     "name": "stdout",
     "output_type": "stream",
     "text": [
      "mobile\n",
      "\n",
      "tablet\n"
     ]
    }
   ],
   "source": [
    "for i in sorted(lines):\n",
    "    print(i)"
   ]
  },
  {
   "cell_type": "code",
   "execution_count": null,
   "id": "bf4a0bb1-2cf2-4934-9773-d06aecc30347",
   "metadata": {},
   "outputs": [],
   "source": []
  }
 ],
 "metadata": {
  "kernelspec": {
   "display_name": "Python 3 (ipykernel)",
   "language": "python",
   "name": "python3"
  },
  "language_info": {
   "codemirror_mode": {
    "name": "ipython",
    "version": 3
   },
   "file_extension": ".py",
   "mimetype": "text/x-python",
   "name": "python",
   "nbconvert_exporter": "python",
   "pygments_lexer": "ipython3",
   "version": "3.13.1"
  }
 },
 "nbformat": 4,
 "nbformat_minor": 5
}
