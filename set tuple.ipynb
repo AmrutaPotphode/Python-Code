{
 "cells": [
  {
   "cell_type": "markdown",
   "id": "81dd84fe-84ca-42b3-b71f-9d7973533953",
   "metadata": {},
   "source": [
    "# Tuple"
   ]
  },
  {
   "cell_type": "code",
   "execution_count": 2,
   "id": "fdab92fd-1d3c-4638-8d8d-2af1fcf33953",
   "metadata": {},
   "outputs": [],
   "source": [
    "t1 = tuple(('high','middle','low'))"
   ]
  },
  {
   "cell_type": "code",
   "execution_count": 3,
   "id": "6e0caf84-c7d9-4105-84e1-4bede82b92e4",
   "metadata": {},
   "outputs": [
    {
     "data": {
      "text/plain": [
       "('high', 'middle', 'low')"
      ]
     },
     "execution_count": 3,
     "metadata": {},
     "output_type": "execute_result"
    }
   ],
   "source": [
    "t1"
   ]
  },
  {
   "cell_type": "code",
   "execution_count": 4,
   "id": "e02cd1c0-ec83-4769-a5fa-3fb6e94050b2",
   "metadata": {},
   "outputs": [],
   "source": [
    "t1 = list(t1)"
   ]
  },
  {
   "cell_type": "code",
   "execution_count": 5,
   "id": "fe5a9ac7-6d2f-4985-8118-ecbc3dad1609",
   "metadata": {},
   "outputs": [
    {
     "data": {
      "text/plain": [
       "list"
      ]
     },
     "execution_count": 5,
     "metadata": {},
     "output_type": "execute_result"
    }
   ],
   "source": [
    "type(t1)"
   ]
  },
  {
   "cell_type": "code",
   "execution_count": 6,
   "id": "b3e0335d-bb2c-4393-8516-3dd8ec3b1612",
   "metadata": {},
   "outputs": [
    {
     "data": {
      "text/plain": [
       "['high', 'middle', 'low', 'upper middle']"
      ]
     },
     "execution_count": 6,
     "metadata": {},
     "output_type": "execute_result"
    }
   ],
   "source": [
    "t1.append(\"upper middle\")\n",
    "t1\n"
   ]
  },
  {
   "cell_type": "code",
   "execution_count": 7,
   "id": "11aca795-3ffe-41fb-9299-07a304da46b8",
   "metadata": {},
   "outputs": [
    {
     "data": {
      "text/plain": [
       "list"
      ]
     },
     "execution_count": 7,
     "metadata": {},
     "output_type": "execute_result"
    }
   ],
   "source": [
    "type(t1)"
   ]
  },
  {
   "cell_type": "code",
   "execution_count": 8,
   "id": "5e7e59a1-9c81-40c2-af29-7ad6bb2aaada",
   "metadata": {},
   "outputs": [
    {
     "data": {
      "text/plain": [
       "tuple"
      ]
     },
     "execution_count": 8,
     "metadata": {},
     "output_type": "execute_result"
    }
   ],
   "source": [
    "t1=tuple(t1)\n",
    "type(t1)"
   ]
  },
  {
   "cell_type": "markdown",
   "id": "0c922c41-f245-4c73-b185-3aeada992448",
   "metadata": {},
   "source": [
    "# set creation"
   ]
  },
  {
   "cell_type": "code",
   "execution_count": 9,
   "id": "8946a6e2-5a8d-4c01-ab1c-2a02fd4cae2e",
   "metadata": {},
   "outputs": [
    {
     "data": {
      "text/plain": [
       "{1, 2, 3}"
      ]
     },
     "execution_count": 9,
     "metadata": {},
     "output_type": "execute_result"
    }
   ],
   "source": [
    "set1={1,2,3}\n",
    "set1"
   ]
  },
  {
   "cell_type": "markdown",
   "id": "102933bd-b17c-4f4c-97cc-c9ab64eb5f72",
   "metadata": {},
   "source": [
    "# trying to have duplicate values in a set"
   ]
  },
  {
   "cell_type": "code",
   "execution_count": 12,
   "id": "1ccb7488-a633-4c81-9052-8be2367901a1",
   "metadata": {},
   "outputs": [
    {
     "data": {
      "text/plain": [
       "{1, 2, 3, 4}"
      ]
     },
     "execution_count": 12,
     "metadata": {},
     "output_type": "execute_result"
    }
   ],
   "source": [
    "set2={1,2,3,4,2,3}\n",
    "set2"
   ]
  },
  {
   "cell_type": "markdown",
   "id": "6d64f094-5ff9-45c7-bccd-fcf9ceea66ba",
   "metadata": {},
   "source": [
    "# different type of data"
   ]
  },
  {
   "cell_type": "code",
   "execution_count": 13,
   "id": "fb141160-d6b7-4101-baef-f38e58b3d1f5",
   "metadata": {},
   "outputs": [
    {
     "data": {
      "text/plain": [
       "{1, 2, 3, 'A', 'B', False, 'a', 'b', 'c'}"
      ]
     },
     "execution_count": 13,
     "metadata": {},
     "output_type": "execute_result"
    }
   ],
   "source": [
    "diff={1,2,3,\"a\",\"b\",\"c\",True,False,\"A\",\"B\"}\n",
    "diff"
   ]
  },
  {
   "cell_type": "code",
   "execution_count": 14,
   "id": "5c63d3a5-726c-413b-8f42-8cf48e995e0c",
   "metadata": {},
   "outputs": [
    {
     "data": {
      "text/plain": [
       "{True}"
      ]
     },
     "execution_count": 14,
     "metadata": {},
     "output_type": "execute_result"
    }
   ],
   "source": [
    "set3={True,1}\n",
    "set3"
   ]
  },
  {
   "cell_type": "code",
   "execution_count": 16,
   "id": "736b1f1a-653f-45f1-9c13-7acc7354dc0d",
   "metadata": {},
   "outputs": [
    {
     "data": {
      "text/plain": [
       "{1}"
      ]
     },
     "execution_count": 16,
     "metadata": {},
     "output_type": "execute_result"
    }
   ],
   "source": [
    "set4={1,True}\n",
    "set4"
   ]
  },
  {
   "cell_type": "code",
   "execution_count": 18,
   "id": "ae9739fd-8a0c-45cb-b287-4f14ad8f9467",
   "metadata": {},
   "outputs": [
    {
     "data": {
      "text/plain": [
       "{0}"
      ]
     },
     "execution_count": 18,
     "metadata": {},
     "output_type": "execute_result"
    }
   ],
   "source": [
    "set5={0,False}\n",
    "set5"
   ]
  },
  {
   "cell_type": "code",
   "execution_count": 20,
   "id": "26923f0b-f6a6-485b-aa6c-5c2145e18030",
   "metadata": {},
   "outputs": [
    {
     "data": {
      "text/plain": [
       "{0, 'False', True, 'true'}"
      ]
     },
     "execution_count": 20,
     "metadata": {},
     "output_type": "execute_result"
    }
   ],
   "source": [
    "set7={True,1,0,0,0,0,1,1,\"true\",\"False\"}\n",
    "set7"
   ]
  },
  {
   "cell_type": "code",
   "execution_count": 21,
   "id": "c46e4a7c-c3ac-44ed-b829-da2355990266",
   "metadata": {},
   "outputs": [
    {
     "data": {
      "text/plain": [
       "set"
      ]
     },
     "execution_count": 21,
     "metadata": {},
     "output_type": "execute_result"
    }
   ],
   "source": [
    "type(set7)"
   ]
  },
  {
   "cell_type": "markdown",
   "id": "b1fb8999-5890-47c9-bfbb-4e992b084a94",
   "metadata": {},
   "source": [
    "#add value in a set"
   ]
  },
  {
   "cell_type": "code",
   "execution_count": 24,
   "id": "006b9140-bee8-41e6-b315-9c508b6fc755",
   "metadata": {},
   "outputs": [
    {
     "data": {
      "text/plain": [
       "{0, 3, 'False', True, 'true'}"
      ]
     },
     "execution_count": 24,
     "metadata": {},
     "output_type": "execute_result"
    }
   ],
   "source": [
    "set7.add(3)\n",
    "set7"
   ]
  },
  {
   "cell_type": "markdown",
   "id": "18ed7188-ee18-461f-bfff-a6cbb9e7c88b",
   "metadata": {},
   "source": [
    "# removing elemnt from set"
   ]
  },
  {
   "cell_type": "code",
   "execution_count": 25,
   "id": "4077c22d-6757-4b25-84b1-d3dc145fde11",
   "metadata": {},
   "outputs": [
    {
     "data": {
      "text/plain": [
       "0"
      ]
     },
     "execution_count": 25,
     "metadata": {},
     "output_type": "execute_result"
    }
   ],
   "source": [
    "set7.pop()"
   ]
  },
  {
   "cell_type": "code",
   "execution_count": 2,
   "id": "b21c6104-a9a3-4c1b-8a56-083834b77268",
   "metadata": {},
   "outputs": [
    {
     "data": {
      "text/plain": [
       "{1, 2, 3, 4, 5, 6, 7, 8, 9, 10}"
      ]
     },
     "execution_count": 2,
     "metadata": {},
     "output_type": "execute_result"
    }
   ],
   "source": [
    "set8={1,2,3,4,5,6,7,8,9,10}\n",
    "set8"
   ]
  },
  {
   "cell_type": "code",
   "execution_count": 27,
   "id": "9ebae055-add6-44fd-a1bc-51fae6067b46",
   "metadata": {},
   "outputs": [
    {
     "data": {
      "text/plain": [
       "{1, 2, 3, 4, 5, 6, 7, 8, 9}"
      ]
     },
     "execution_count": 27,
     "metadata": {},
     "output_type": "execute_result"
    }
   ],
   "source": [
    "set8.remove(10)\n",
    "set8"
   ]
  },
  {
   "cell_type": "code",
   "execution_count": 28,
   "id": "b238524e-6a19-4f4b-b584-6155c13e5fe9",
   "metadata": {},
   "outputs": [
    {
     "data": {
      "text/plain": [
       "{1, 2, 3, 4, 5, 6, 7, 8, 9}"
      ]
     },
     "execution_count": 28,
     "metadata": {},
     "output_type": "execute_result"
    }
   ],
   "source": [
    "set8.discard(10)\n",
    "set8"
   ]
  },
  {
   "cell_type": "code",
   "execution_count": 3,
   "id": "831b4105-826e-42e9-9fd6-b4ad4ad00356",
   "metadata": {},
   "outputs": [],
   "source": [
    "set8.clear()"
   ]
  },
  {
   "cell_type": "code",
   "execution_count": 4,
   "id": "2a9250bc-5d6e-473b-a097-246a47384053",
   "metadata": {},
   "outputs": [
    {
     "data": {
      "text/plain": [
       "set()"
      ]
     },
     "execution_count": 4,
     "metadata": {},
     "output_type": "execute_result"
    }
   ],
   "source": [
    "set8"
   ]
  },
  {
   "cell_type": "code",
   "execution_count": 5,
   "id": "90c22813-736a-4afc-9099-c189cad1805e",
   "metadata": {},
   "outputs": [],
   "source": [
    "del set8"
   ]
  },
  {
   "cell_type": "code",
   "execution_count": 6,
   "id": "731fa9c6-107d-4932-a3c8-f188b1350281",
   "metadata": {},
   "outputs": [
    {
     "ename": "NameError",
     "evalue": "name 'set8' is not defined",
     "output_type": "error",
     "traceback": [
      "\u001b[1;31m---------------------------------------------------------------------------\u001b[0m",
      "\u001b[1;31mNameError\u001b[0m                                 Traceback (most recent call last)",
      "Cell \u001b[1;32mIn[6], line 1\u001b[0m\n\u001b[1;32m----> 1\u001b[0m \u001b[43mset8\u001b[49m\n",
      "\u001b[1;31mNameError\u001b[0m: name 'set8' is not defined"
     ]
    }
   ],
   "source": [
    "set8"
   ]
  },
  {
   "cell_type": "markdown",
   "id": "7a225ae3-3303-49c8-89e1-33b8818552ac",
   "metadata": {},
   "source": [
    "# write a python program to check whether duplicate value present in it or not"
   ]
  },
  {
   "cell_type": "code",
   "execution_count": 17,
   "id": "15a990b0-1fe8-4db8-ab73-bac0f76a06cb",
   "metadata": {},
   "outputs": [
    {
     "data": {
      "text/plain": [
       "[1, 2, 3, 4, 3, 2]"
      ]
     },
     "execution_count": 17,
     "metadata": {},
     "output_type": "execute_result"
    }
   ],
   "source": [
    "num=[1,2,3,4,3,2]\n",
    "num"
   ]
  },
  {
   "cell_type": "code",
   "execution_count": 20,
   "id": "67375842-d736-4a11-9e69-d248367866ba",
   "metadata": {},
   "outputs": [],
   "source": [
    "num1=set(num)"
   ]
  },
  {
   "cell_type": "code",
   "execution_count": 21,
   "id": "abaa629b-5177-4649-9f93-6b7c783d3323",
   "metadata": {},
   "outputs": [
    {
     "data": {
      "text/plain": [
       "{1, 2, 3, 4}"
      ]
     },
     "execution_count": 21,
     "metadata": {},
     "output_type": "execute_result"
    }
   ],
   "source": [
    "num1"
   ]
  },
  {
   "cell_type": "code",
   "execution_count": 18,
   "id": "19c95638-84fb-449c-89f1-0471f723843e",
   "metadata": {},
   "outputs": [
    {
     "data": {
      "text/plain": [
       "[1, 2, 3, 4, 3, 2]"
      ]
     },
     "execution_count": 18,
     "metadata": {},
     "output_type": "execute_result"
    }
   ],
   "source": [
    "num"
   ]
  },
  {
   "cell_type": "code",
   "execution_count": 22,
   "id": "2de23a89-5262-46f1-b212-be3a7bfa5925",
   "metadata": {},
   "outputs": [
    {
     "data": {
      "text/plain": [
       "{1, 2, 3, 4}"
      ]
     },
     "execution_count": 22,
     "metadata": {},
     "output_type": "execute_result"
    }
   ],
   "source": [
    "num1"
   ]
  },
  {
   "cell_type": "code",
   "execution_count": 23,
   "id": "c6cd48a9-2b5c-44bf-b033-5f816da62f03",
   "metadata": {},
   "outputs": [
    {
     "name": "stdout",
     "output_type": "stream",
     "text": [
      "duplicates\n"
     ]
    }
   ],
   "source": [
    "if len(num)==len(num1):\n",
    "    print(\"no duplicates\")\n",
    "else:\n",
    "    print(\"duplicates\")\n",
    "    "
   ]
  },
  {
   "cell_type": "markdown",
   "id": "addd384a-3395-4edd-8432-2276d0fd8fab",
   "metadata": {},
   "source": [
    "#tuple packing"
   ]
  },
  {
   "cell_type": "code",
   "execution_count": 7,
   "id": "37241aa7-a12d-4579-b0a0-1371ebed3740",
   "metadata": {},
   "outputs": [
    {
     "name": "stdout",
     "output_type": "stream",
     "text": [
      "(10, 20, 30)\n"
     ]
    }
   ],
   "source": [
    "a=10\n",
    "b=20\n",
    "c=30\n",
    "t1=a,b,c\n",
    "print(t1)"
   ]
  },
  {
   "cell_type": "code",
   "execution_count": 8,
   "id": "1315aad3-10ba-49a4-bb70-689bdad7daa0",
   "metadata": {},
   "outputs": [
    {
     "data": {
      "text/plain": [
       "tuple"
      ]
     },
     "execution_count": 8,
     "metadata": {},
     "output_type": "execute_result"
    }
   ],
   "source": [
    "type(t1)"
   ]
  },
  {
   "cell_type": "code",
   "execution_count": 14,
   "id": "e1f28d8a-5dfe-49eb-8a51-490abb1a1969",
   "metadata": {},
   "outputs": [],
   "source": [
    "x,y,z=t1"
   ]
  },
  {
   "cell_type": "raw",
   "id": "f37967f4-5783-4d71-84ac-c83b11b6bece",
   "metadata": {},
   "source": [
    "print(x)"
   ]
  },
  {
   "cell_type": "code",
   "execution_count": 10,
   "id": "a21fee41-ca33-45cb-b6b2-42c041f38936",
   "metadata": {},
   "outputs": [],
   "source": [
    "a,*b=t1"
   ]
  },
  {
   "cell_type": "code",
   "execution_count": 11,
   "id": "4f13260b-2ef1-4885-abd3-c513b0c6777e",
   "metadata": {},
   "outputs": [
    {
     "data": {
      "text/plain": [
       "list"
      ]
     },
     "execution_count": 11,
     "metadata": {},
     "output_type": "execute_result"
    }
   ],
   "source": [
    "type(b)"
   ]
  },
  {
   "cell_type": "code",
   "execution_count": 12,
   "id": "3f50aa69-3f70-4865-a73d-7522e9c3b8e5",
   "metadata": {},
   "outputs": [],
   "source": [
    "*a,b=t1"
   ]
  },
  {
   "cell_type": "code",
   "execution_count": 13,
   "id": "491e08f9-d466-4ab5-a8ea-c8ad360278d9",
   "metadata": {},
   "outputs": [
    {
     "data": {
      "text/plain": [
       "30"
      ]
     },
     "execution_count": 13,
     "metadata": {},
     "output_type": "execute_result"
    }
   ],
   "source": [
    "b"
   ]
  },
  {
   "cell_type": "code",
   "execution_count": 15,
   "id": "33b13619-60fd-4449-b559-a12020499069",
   "metadata": {},
   "outputs": [],
   "source": [
    "t1=(1,2,3,4,5,6,7,8)"
   ]
  },
  {
   "cell_type": "code",
   "execution_count": 16,
   "id": "99325412-ed51-4e25-a04b-5a16aa98d61c",
   "metadata": {},
   "outputs": [
    {
     "data": {
      "text/plain": [
       "(1, 2, 3, 4, 5, 6, 7, 8)"
      ]
     },
     "execution_count": 16,
     "metadata": {},
     "output_type": "execute_result"
    }
   ],
   "source": [
    "t1"
   ]
  },
  {
   "cell_type": "code",
   "execution_count": 17,
   "id": "054c927c-1b41-4243-b774-834c499af41b",
   "metadata": {},
   "outputs": [],
   "source": [
    "a,*b,c=t1"
   ]
  },
  {
   "cell_type": "code",
   "execution_count": 18,
   "id": "52ea6b88-e4c2-41c0-8451-40571578426d",
   "metadata": {},
   "outputs": [
    {
     "data": {
      "text/plain": [
       "1"
      ]
     },
     "execution_count": 18,
     "metadata": {},
     "output_type": "execute_result"
    }
   ],
   "source": [
    "a"
   ]
  },
  {
   "cell_type": "code",
   "execution_count": null,
   "id": "236595f0-e8c5-42bb-b0b5-cf73f09dc469",
   "metadata": {},
   "outputs": [],
   "source": []
  }
 ],
 "metadata": {
  "kernelspec": {
   "display_name": "Python 3 (ipykernel)",
   "language": "python",
   "name": "python3"
  },
  "language_info": {
   "codemirror_mode": {
    "name": "ipython",
    "version": 3
   },
   "file_extension": ".py",
   "mimetype": "text/x-python",
   "name": "python",
   "nbconvert_exporter": "python",
   "pygments_lexer": "ipython3",
   "version": "3.13.1"
  }
 },
 "nbformat": 4,
 "nbformat_minor": 5
}
