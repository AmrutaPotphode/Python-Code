{
 "cells": [
  {
   "cell_type": "markdown",
   "id": "8f984cbf-1d8d-4025-9352-fbd17e06f866",
   "metadata": {},
   "source": [
    "# set"
   ]
  },
  {
   "cell_type": "markdown",
   "id": "22f10a42-21a9-4686-86b7-4dcbf6e4d422",
   "metadata": {},
   "source": [
    "# set methods\n",
    "# 1. union method"
   ]
  },
  {
   "cell_type": "code",
   "execution_count": 1,
   "id": "752c85ef-1e8d-46e3-b115-dc738e63afc5",
   "metadata": {},
   "outputs": [],
   "source": [
    "a={1,2,3}\n",
    "b={3,4,5,6}"
   ]
  },
  {
   "cell_type": "code",
   "execution_count": 2,
   "id": "602d1fb9-0979-4fc2-9e67-b8feb0259185",
   "metadata": {},
   "outputs": [
    {
     "data": {
      "text/plain": [
       "{1, 2, 3}"
      ]
     },
     "execution_count": 2,
     "metadata": {},
     "output_type": "execute_result"
    }
   ],
   "source": [
    "a"
   ]
  },
  {
   "cell_type": "code",
   "execution_count": 3,
   "id": "ae1fd8da-26bc-46d2-9a2a-7202053487b5",
   "metadata": {},
   "outputs": [
    {
     "data": {
      "text/plain": [
       "{3, 4, 5, 6}"
      ]
     },
     "execution_count": 3,
     "metadata": {},
     "output_type": "execute_result"
    }
   ],
   "source": [
    "b"
   ]
  },
  {
   "cell_type": "code",
   "execution_count": 4,
   "id": "58bc0d11-76ce-46b6-a515-7070f5f64333",
   "metadata": {},
   "outputs": [
    {
     "data": {
      "text/plain": [
       "{1, 2, 3, 4, 5, 6}"
      ]
     },
     "execution_count": 4,
     "metadata": {},
     "output_type": "execute_result"
    }
   ],
   "source": [
    "a.union(b)"
   ]
  },
  {
   "cell_type": "code",
   "execution_count": 5,
   "id": "69be1fc9-07b5-4188-9c56-7e7d3ca82713",
   "metadata": {},
   "outputs": [
    {
     "data": {
      "text/plain": [
       "{1, 2, 3, 4, 5, 6}"
      ]
     },
     "execution_count": 5,
     "metadata": {},
     "output_type": "execute_result"
    }
   ],
   "source": [
    "a|b"
   ]
  },
  {
   "cell_type": "code",
   "execution_count": 6,
   "id": "63d65993-1a7f-40fe-ae79-6ec6b1510843",
   "metadata": {},
   "outputs": [],
   "source": [
    "c={5,6,9,10}"
   ]
  },
  {
   "cell_type": "code",
   "execution_count": 7,
   "id": "ca5f39eb-a570-4c9a-ae6f-8266003cbc79",
   "metadata": {},
   "outputs": [
    {
     "data": {
      "text/plain": [
       "{1, 2, 3, 4, 5, 6, 9, 10}"
      ]
     },
     "execution_count": 7,
     "metadata": {},
     "output_type": "execute_result"
    }
   ],
   "source": [
    "a|b|c"
   ]
  },
  {
   "cell_type": "markdown",
   "id": "c5489b1b-6f79-462b-b46a-da65390bcc1a",
   "metadata": {},
   "source": [
    "# 2. Intersection Method"
   ]
  },
  {
   "cell_type": "code",
   "execution_count": 8,
   "id": "af5d7289-29b5-4012-9bca-1c595bcad7f2",
   "metadata": {},
   "outputs": [
    {
     "data": {
      "text/plain": [
       "{3}"
      ]
     },
     "execution_count": 8,
     "metadata": {},
     "output_type": "execute_result"
    }
   ],
   "source": [
    "a.intersection(b)"
   ]
  },
  {
   "cell_type": "code",
   "execution_count": 9,
   "id": "a7e15609-a957-4690-8435-1880212d8534",
   "metadata": {},
   "outputs": [
    {
     "data": {
      "text/plain": [
       "{3}"
      ]
     },
     "execution_count": 9,
     "metadata": {},
     "output_type": "execute_result"
    }
   ],
   "source": [
    "a&b"
   ]
  },
  {
   "cell_type": "markdown",
   "id": "623e681a-5502-40b0-8164-4c163ee8994a",
   "metadata": {},
   "source": [
    "# 3. Difference Method"
   ]
  },
  {
   "cell_type": "code",
   "execution_count": 10,
   "id": "744bae89-2920-4cdb-9601-766b6c9b0a1e",
   "metadata": {},
   "outputs": [
    {
     "data": {
      "text/plain": [
       "{1, 2}"
      ]
     },
     "execution_count": 10,
     "metadata": {},
     "output_type": "execute_result"
    }
   ],
   "source": [
    "a.difference(b)"
   ]
  },
  {
   "cell_type": "code",
   "execution_count": 11,
   "id": "10195b25-1516-4e64-a069-dfc9f72efafd",
   "metadata": {},
   "outputs": [
    {
     "data": {
      "text/plain": [
       "{1, 2}"
      ]
     },
     "execution_count": 11,
     "metadata": {},
     "output_type": "execute_result"
    }
   ],
   "source": [
    "a-b"
   ]
  },
  {
   "cell_type": "code",
   "execution_count": 12,
   "id": "12b0203a-8194-41e8-bc8f-8fb216ae3319",
   "metadata": {},
   "outputs": [
    {
     "data": {
      "text/plain": [
       "{4, 5, 6}"
      ]
     },
     "execution_count": 12,
     "metadata": {},
     "output_type": "execute_result"
    }
   ],
   "source": [
    "b.difference(a)"
   ]
  },
  {
   "cell_type": "markdown",
   "id": "77208a85-27a4-4b40-8106-713e93605561",
   "metadata": {},
   "source": [
    "# 4. Symmetric difference"
   ]
  },
  {
   "cell_type": "code",
   "execution_count": 13,
   "id": "9847652b-31e4-4405-bdb6-68e9e9014cd7",
   "metadata": {},
   "outputs": [
    {
     "data": {
      "text/plain": [
       "{1, 2, 4, 5, 6}"
      ]
     },
     "execution_count": 13,
     "metadata": {},
     "output_type": "execute_result"
    }
   ],
   "source": [
    "a.symmetric_difference(b)"
   ]
  },
  {
   "cell_type": "code",
   "execution_count": 14,
   "id": "8ad43f5c-410a-439c-8019-69c9fdbd0af5",
   "metadata": {},
   "outputs": [
    {
     "data": {
      "text/plain": [
       "{1, 2, 4, 5, 6}"
      ]
     },
     "execution_count": 14,
     "metadata": {},
     "output_type": "execute_result"
    }
   ],
   "source": [
    "a^b"
   ]
  },
  {
   "cell_type": "markdown",
   "id": "2af34205-80f8-418c-9159-49b905d6d72e",
   "metadata": {},
   "source": [
    "# 5. issubset"
   ]
  },
  {
   "cell_type": "code",
   "execution_count": 15,
   "id": "cf242e3e-20ef-43e4-b129-c70dc9df1af8",
   "metadata": {},
   "outputs": [
    {
     "data": {
      "text/plain": [
       "False"
      ]
     },
     "execution_count": 15,
     "metadata": {},
     "output_type": "execute_result"
    }
   ],
   "source": [
    "a.issubset(b)"
   ]
  },
  {
   "cell_type": "code",
   "execution_count": 17,
   "id": "21d70005-c290-438c-bfa6-c1a0e2855c09",
   "metadata": {},
   "outputs": [
    {
     "data": {
      "text/plain": [
       "True"
      ]
     },
     "execution_count": 17,
     "metadata": {},
     "output_type": "execute_result"
    }
   ],
   "source": [
    "d={1,2,3,4}\n",
    "e={1,2}\n",
    "e.issubset(d)"
   ]
  },
  {
   "cell_type": "markdown",
   "id": "38daf7c0-7139-4d1b-8a49-c864251847ac",
   "metadata": {},
   "source": [
    "# 6. issuperset"
   ]
  },
  {
   "cell_type": "code",
   "execution_count": 18,
   "id": "626b5a39-8633-48aa-a910-0a9eeddc9c66",
   "metadata": {},
   "outputs": [
    {
     "data": {
      "text/plain": [
       "True"
      ]
     },
     "execution_count": 18,
     "metadata": {},
     "output_type": "execute_result"
    }
   ],
   "source": [
    "d.issuperset(e)"
   ]
  },
  {
   "cell_type": "markdown",
   "id": "d4ca6c29-5ab4-4cff-bbad-79a5de888962",
   "metadata": {},
   "source": [
    "## Dictionary"
   ]
  },
  {
   "cell_type": "code",
   "execution_count": 19,
   "id": "733417d1-4183-4d1d-b32c-7b1635335bbf",
   "metadata": {},
   "outputs": [],
   "source": [
    "dict1={\"name\":\"Amruta\",\"age\":21,\"city\":\"Shevgaon\"}"
   ]
  },
  {
   "cell_type": "code",
   "execution_count": 20,
   "id": "e197a7b3-637c-4c52-9d81-e5ee246d520c",
   "metadata": {},
   "outputs": [
    {
     "data": {
      "text/plain": [
       "{'name': 'Amruta', 'age': 21, 'city': 'Shevgaon'}"
      ]
     },
     "execution_count": 20,
     "metadata": {},
     "output_type": "execute_result"
    }
   ],
   "source": [
    "dict1"
   ]
  },
  {
   "cell_type": "code",
   "execution_count": 21,
   "id": "434408be-5210-4c4c-ba82-24c0129941c1",
   "metadata": {},
   "outputs": [
    {
     "data": {
      "text/plain": [
       "dict"
      ]
     },
     "execution_count": 21,
     "metadata": {},
     "output_type": "execute_result"
    }
   ],
   "source": [
    "type(dict1)"
   ]
  },
  {
   "cell_type": "code",
   "execution_count": 23,
   "id": "0ef46418-762d-4825-9407-e099c4f4880d",
   "metadata": {},
   "outputs": [
    {
     "data": {
      "text/plain": [
       "dict_keys(['name', 'age', 'city'])"
      ]
     },
     "execution_count": 23,
     "metadata": {},
     "output_type": "execute_result"
    }
   ],
   "source": [
    "dict1.keys()\n"
   ]
  },
  {
   "cell_type": "code",
   "execution_count": 24,
   "id": "f7c5b12c-5624-47de-a3c9-94b2e6736def",
   "metadata": {},
   "outputs": [
    {
     "data": {
      "text/plain": [
       "dict_values(['Amruta', 21, 'Shevgaon'])"
      ]
     },
     "execution_count": 24,
     "metadata": {},
     "output_type": "execute_result"
    }
   ],
   "source": [
    "dict1.values()"
   ]
  },
  {
   "cell_type": "code",
   "execution_count": 26,
   "id": "b61d914a-d760-46d0-935a-4e8c8fae19ed",
   "metadata": {},
   "outputs": [
    {
     "data": {
      "text/plain": [
       "dict_items([('name', 'Amruta'), ('age', 21), ('city', 'Shevgaon')])"
      ]
     },
     "execution_count": 26,
     "metadata": {},
     "output_type": "execute_result"
    }
   ],
   "source": [
    "dict1.items()"
   ]
  },
  {
   "cell_type": "code",
   "execution_count": 28,
   "id": "49847be0-8b9c-482c-bd6c-ce6e2b8ab195",
   "metadata": {},
   "outputs": [],
   "source": [
    "dict1[\"Email\"]=\"amrutapotphode001@gmail.com\""
   ]
  },
  {
   "cell_type": "code",
   "execution_count": 29,
   "id": "33eb5133-d168-4d87-889e-15ceee6858fa",
   "metadata": {},
   "outputs": [
    {
     "data": {
      "text/plain": [
       "{'name': 'Amruta',\n",
       " 'age': 21,\n",
       " 'city': 'Shevgaon',\n",
       " 'Email': 'amrutapotphode001@gmail.com'}"
      ]
     },
     "execution_count": 29,
     "metadata": {},
     "output_type": "execute_result"
    }
   ],
   "source": [
    "dict1"
   ]
  },
  {
   "cell_type": "code",
   "execution_count": 31,
   "id": "d0dd6ea8-7f94-4961-87b0-b1661fe9a392",
   "metadata": {},
   "outputs": [],
   "source": [
    "dict1[\"email\"]=\"amgbki\""
   ]
  },
  {
   "cell_type": "code",
   "execution_count": 32,
   "id": "85b9a202-dfb1-46e1-a400-410fc5aed562",
   "metadata": {},
   "outputs": [
    {
     "data": {
      "text/plain": [
       "{'name': 'Amruta',\n",
       " 'age': 21,\n",
       " 'city': 'Shevgaon',\n",
       " 'Email': 'amrutapotphode001@gmail.com',\n",
       " 'email': 'amgbki'}"
      ]
     },
     "execution_count": 32,
     "metadata": {},
     "output_type": "execute_result"
    }
   ],
   "source": [
    "dict1"
   ]
  },
  {
   "cell_type": "code",
   "execution_count": 33,
   "id": "b94c051c-cf17-40bd-90e9-2603ab27928a",
   "metadata": {},
   "outputs": [],
   "source": [
    "dict1[\"age1\"]=25"
   ]
  },
  {
   "cell_type": "code",
   "execution_count": 34,
   "id": "06a62cdb-2de6-4475-a82e-9e1d4d6481b4",
   "metadata": {},
   "outputs": [
    {
     "data": {
      "text/plain": [
       "{'name': 'Amruta',\n",
       " 'age': 21,\n",
       " 'city': 'Shevgaon',\n",
       " 'Email': 'amrutapotphode001@gmail.com',\n",
       " 'email': 'amgbki',\n",
       " 'age1': 25}"
      ]
     },
     "execution_count": 34,
     "metadata": {},
     "output_type": "execute_result"
    }
   ],
   "source": [
    "dict1"
   ]
  },
  {
   "cell_type": "code",
   "execution_count": 35,
   "id": "008b78f3-77a9-41a2-bae4-0e455fc58570",
   "metadata": {},
   "outputs": [],
   "source": [
    "dict1[\"age1\"]=22"
   ]
  },
  {
   "cell_type": "code",
   "execution_count": 36,
   "id": "a9640774-295f-4aec-903a-961a4c68523e",
   "metadata": {},
   "outputs": [
    {
     "data": {
      "text/plain": [
       "{'name': 'Amruta',\n",
       " 'age': 21,\n",
       " 'city': 'Shevgaon',\n",
       " 'Email': 'amrutapotphode001@gmail.com',\n",
       " 'email': 'amgbki',\n",
       " 'age1': 22}"
      ]
     },
     "execution_count": 36,
     "metadata": {},
     "output_type": "execute_result"
    }
   ],
   "source": [
    "dict1"
   ]
  },
  {
   "cell_type": "code",
   "execution_count": 37,
   "id": "89216134-6fd5-4b61-aa5f-a6723a692513",
   "metadata": {},
   "outputs": [
    {
     "data": {
      "text/plain": [
       "'Amruta'"
      ]
     },
     "execution_count": 37,
     "metadata": {},
     "output_type": "execute_result"
    }
   ],
   "source": [
    "dict1[\"name\"]"
   ]
  },
  {
   "cell_type": "code",
   "execution_count": 40,
   "id": "8bbf3169-9321-4cd3-b7eb-8cdebdbd33b7",
   "metadata": {},
   "outputs": [
    {
     "data": {
      "text/plain": [
       "22"
      ]
     },
     "execution_count": 40,
     "metadata": {},
     "output_type": "execute_result"
    }
   ],
   "source": [
    "dict1.pop(\"age1\")"
   ]
  },
  {
   "cell_type": "code",
   "execution_count": 41,
   "id": "32f1be35-21e7-4499-a9f5-299a47275bea",
   "metadata": {},
   "outputs": [
    {
     "data": {
      "text/plain": [
       "{'name': 'Amruta',\n",
       " 'age': 21,\n",
       " 'city': 'Shevgaon',\n",
       " 'Email': 'amrutapotphode001@gmail.com',\n",
       " 'email': 'amgbki'}"
      ]
     },
     "execution_count": 41,
     "metadata": {},
     "output_type": "execute_result"
    }
   ],
   "source": [
    "dict1"
   ]
  },
  {
   "cell_type": "code",
   "execution_count": 43,
   "id": "98035590-df21-469d-8801-247d7f98354f",
   "metadata": {},
   "outputs": [],
   "source": [
    "del dict1[\"email\"]"
   ]
  },
  {
   "cell_type": "code",
   "execution_count": 44,
   "id": "6a898aed-6151-43dd-9617-653d33f85d52",
   "metadata": {},
   "outputs": [
    {
     "data": {
      "text/plain": [
       "{'name': 'Amruta',\n",
       " 'age': 21,\n",
       " 'city': 'Shevgaon',\n",
       " 'Email': 'amrutapotphode001@gmail.com'}"
      ]
     },
     "execution_count": 44,
     "metadata": {},
     "output_type": "execute_result"
    }
   ],
   "source": [
    "dict1"
   ]
  },
  {
   "cell_type": "code",
   "execution_count": 45,
   "id": "610fd925-2940-4335-ba9b-ad5d62c4de38",
   "metadata": {},
   "outputs": [],
   "source": [
    "dict1.clear()"
   ]
  },
  {
   "cell_type": "code",
   "execution_count": 46,
   "id": "e72b380a-b6fe-4deb-abf7-2d454904de6d",
   "metadata": {},
   "outputs": [
    {
     "data": {
      "text/plain": [
       "{}"
      ]
     },
     "execution_count": 46,
     "metadata": {},
     "output_type": "execute_result"
    }
   ],
   "source": [
    "dict1"
   ]
  },
  {
   "cell_type": "code",
   "execution_count": 47,
   "id": "67df2d84-9c6c-43eb-877a-7322ba0b30cf",
   "metadata": {},
   "outputs": [],
   "source": [
    "del dict1"
   ]
  },
  {
   "cell_type": "code",
   "execution_count": 49,
   "id": "9c1b8a6e-8148-4735-af03-2c3b9eae1cff",
   "metadata": {},
   "outputs": [
    {
     "name": "stdout",
     "output_type": "stream",
     "text": [
      "{'name': 'Amruta', 'age': 20}\n",
      "{'city': 'Pune', 'dob': '04-02-2003'}\n"
     ]
    }
   ],
   "source": [
    "#update() dictionary\n",
    "d1={\"name\":\"Amruta\",\"age\":20}\n",
    "d2={\"city\":\"Pune\",\"dob\":\"04-02-2003\"}\n",
    "print(d1)\n",
    "print(d2)"
   ]
  },
  {
   "cell_type": "code",
   "execution_count": 51,
   "id": "3ab28431-33f0-44c0-89f3-c227e76166d4",
   "metadata": {},
   "outputs": [],
   "source": [
    "d1.update(d2)"
   ]
  },
  {
   "cell_type": "code",
   "execution_count": 52,
   "id": "6bbaf3f7-c2d4-420f-9b79-c02f9ea04a8d",
   "metadata": {},
   "outputs": [
    {
     "data": {
      "text/plain": [
       "{'name': 'Amruta', 'age': 20, 'city': 'Pune', 'dob': '04-02-2003'}"
      ]
     },
     "execution_count": 52,
     "metadata": {},
     "output_type": "execute_result"
    }
   ],
   "source": [
    "d1"
   ]
  },
  {
   "cell_type": "markdown",
   "id": "1cefc3a5-2f4b-4b25-9e09-d854842e71fa",
   "metadata": {},
   "source": [
    "#join two dictionaries in d3"
   ]
  },
  {
   "cell_type": "code",
   "execution_count": 54,
   "id": "cebcd3a8-fb21-464d-9358-10427ef6b000",
   "metadata": {},
   "outputs": [],
   "source": [
    "d3=d1|d2"
   ]
  },
  {
   "cell_type": "code",
   "execution_count": 55,
   "id": "e2144836-67ee-4322-adbc-5dbf59c1cf3b",
   "metadata": {},
   "outputs": [
    {
     "data": {
      "text/plain": [
       "{'name': 'Amruta', 'age': 20, 'city': 'Pune', 'dob': '04-02-2003'}"
      ]
     },
     "execution_count": 55,
     "metadata": {},
     "output_type": "execute_result"
    }
   ],
   "source": [
    "d3"
   ]
  },
  {
   "cell_type": "code",
   "execution_count": 58,
   "id": "4427500f-a0c3-41a3-87e7-988725d8fc7e",
   "metadata": {},
   "outputs": [],
   "source": [
    "d1={\"name\":\"Amruta\"}\n",
    "d2={\"age\":21}"
   ]
  },
  {
   "cell_type": "code",
   "execution_count": 61,
   "id": "7194cf97-aa1e-4c02-822e-2401813a93dc",
   "metadata": {},
   "outputs": [],
   "source": [
    "d3=dict(**d1,**d2)"
   ]
  },
  {
   "cell_type": "code",
   "execution_count": 62,
   "id": "b538aab4-2008-4a1f-a778-0ea85da52b36",
   "metadata": {},
   "outputs": [
    {
     "data": {
      "text/plain": [
       "{'name': 'Amruta', 'age': 21}"
      ]
     },
     "execution_count": 62,
     "metadata": {},
     "output_type": "execute_result"
    }
   ],
   "source": [
    "d3"
   ]
  },
  {
   "cell_type": "markdown",
   "id": "691c3453-9543-4458-87ef-06d27ef7c267",
   "metadata": {},
   "source": [
    "# create dictionary using dict()"
   ]
  },
  {
   "cell_type": "code",
   "execution_count": 67,
   "id": "2efae1bc-1d07-424a-96fd-c3e9b87cf437",
   "metadata": {},
   "outputs": [],
   "source": [
    "student=dict(name=\"Amruta\",age=21,city=\"Pune\")"
   ]
  },
  {
   "cell_type": "code",
   "execution_count": 68,
   "id": "facbf511-0751-49ee-bb39-a208aa826773",
   "metadata": {},
   "outputs": [
    {
     "data": {
      "text/plain": [
       "{'name': 'Amruta', 'age': 21, 'city': 'Pune'}"
      ]
     },
     "execution_count": 68,
     "metadata": {},
     "output_type": "execute_result"
    }
   ],
   "source": [
    "student"
   ]
  },
  {
   "cell_type": "code",
   "execution_count": 69,
   "id": "c47ed523-8672-481f-a80e-c1af297f6aeb",
   "metadata": {},
   "outputs": [
    {
     "data": {
      "text/plain": [
       "dict"
      ]
     },
     "execution_count": 69,
     "metadata": {},
     "output_type": "execute_result"
    }
   ],
   "source": [
    "type(student)"
   ]
  },
  {
   "cell_type": "markdown",
   "id": "eca37047-43b9-423d-a27f-ff2fcb27fe13",
   "metadata": {},
   "source": [
    "# dictionary within dictionary"
   ]
  },
  {
   "cell_type": "code",
   "execution_count": 74,
   "id": "68e86f49-d453-4736-83f7-e006605ef767",
   "metadata": {},
   "outputs": [],
   "source": [
    "student={\"student1\":{\"name\":\"Amruta\",\"age\":20},\"student2\":{\"name\":\"Karishma\",\"age\":24},\"student3\":{\"name\":\"Pooja\",\"age\":35}}"
   ]
  },
  {
   "cell_type": "code",
   "execution_count": 75,
   "id": "3f8c5739-844e-4108-b198-337bd274a5e6",
   "metadata": {},
   "outputs": [
    {
     "data": {
      "text/plain": [
       "{'student1': {'name': 'Amruta', 'age': 20},\n",
       " 'student2': {'name': 'Karishma', 'age': 24},\n",
       " 'student3': {'name': 'Pooja', 'age': 35}}"
      ]
     },
     "execution_count": 75,
     "metadata": {},
     "output_type": "execute_result"
    }
   ],
   "source": [
    "student"
   ]
  },
  {
   "cell_type": "code",
   "execution_count": 76,
   "id": "172f2055-dabf-4807-92dc-2fd2053f1e4f",
   "metadata": {},
   "outputs": [
    {
     "data": {
      "text/plain": [
       "{'name': 'Amruta', 'age': 20}"
      ]
     },
     "execution_count": 76,
     "metadata": {},
     "output_type": "execute_result"
    }
   ],
   "source": [
    "student[\"student1\"]"
   ]
  },
  {
   "cell_type": "code",
   "execution_count": 77,
   "id": "fdf0da68-3f92-4081-ac10-8b3c0bd69c4d",
   "metadata": {},
   "outputs": [
    {
     "data": {
      "text/plain": [
       "dict_keys(['name', 'age'])"
      ]
     },
     "execution_count": 77,
     "metadata": {},
     "output_type": "execute_result"
    }
   ],
   "source": [
    "student[\"student1\"].keys()"
   ]
  },
  {
   "cell_type": "code",
   "execution_count": 79,
   "id": "6dc186b1-bf60-4fe7-ab8b-d405b4f21b61",
   "metadata": {},
   "outputs": [
    {
     "data": {
      "text/plain": [
       "dict_values(['Karishma', 24])"
      ]
     },
     "execution_count": 79,
     "metadata": {},
     "output_type": "execute_result"
    }
   ],
   "source": [
    "student[\"student2\"].values()"
   ]
  },
  {
   "cell_type": "code",
   "execution_count": 80,
   "id": "1d6e8856-6bbb-44db-9bfe-d734a88ad16b",
   "metadata": {},
   "outputs": [
    {
     "data": {
      "text/plain": [
       "dict_items([('name', 'Amruta'), ('age', 20)])"
      ]
     },
     "execution_count": 80,
     "metadata": {},
     "output_type": "execute_result"
    }
   ],
   "source": [
    "student[\"student1\"].items()"
   ]
  },
  {
   "cell_type": "code",
   "execution_count": 81,
   "id": "264ef196-8a43-4a49-9a98-cc28a309b407",
   "metadata": {},
   "outputs": [],
   "source": [
    "student[\"student1\"][\"email\"]=\"amrutapotphode001@gmail.com\""
   ]
  },
  {
   "cell_type": "code",
   "execution_count": 83,
   "id": "8b1f7cf6-0269-479b-9bb2-ad30b3e5ef06",
   "metadata": {},
   "outputs": [
    {
     "data": {
      "text/plain": [
       "{'name': 'Amruta', 'age': 20, 'email': 'amrutapotphode001@gmail.com'}"
      ]
     },
     "execution_count": 83,
     "metadata": {},
     "output_type": "execute_result"
    }
   ],
   "source": [
    "student[\"student1\"]"
   ]
  },
  {
   "cell_type": "code",
   "execution_count": 84,
   "id": "b6b871e6-0597-43fa-a64c-bf9e49c4300b",
   "metadata": {},
   "outputs": [],
   "source": [
    "student[\"student1\"][\"email\"]=\"amrutaodifd@gmail.com\""
   ]
  },
  {
   "cell_type": "code",
   "execution_count": 85,
   "id": "6a16bc7b-6a36-4e52-a6b4-7a909348c471",
   "metadata": {},
   "outputs": [
    {
     "data": {
      "text/plain": [
       "{'name': 'Amruta', 'age': 20, 'email': 'amrutaodifd@gmail.com'}"
      ]
     },
     "execution_count": 85,
     "metadata": {},
     "output_type": "execute_result"
    }
   ],
   "source": [
    "student[\"student1\"]"
   ]
  },
  {
   "cell_type": "code",
   "execution_count": 86,
   "id": "7428e818-feb1-48fe-a2d4-2ee163cf7188",
   "metadata": {},
   "outputs": [],
   "source": [
    "del student[\"student1\"][\"email\"]"
   ]
  },
  {
   "cell_type": "code",
   "execution_count": 87,
   "id": "738cfc92-0362-4c30-8e27-d9bacd0b5e6c",
   "metadata": {},
   "outputs": [
    {
     "data": {
      "text/plain": [
       "{'name': 'Amruta', 'age': 20}"
      ]
     },
     "execution_count": 87,
     "metadata": {},
     "output_type": "execute_result"
    }
   ],
   "source": [
    "student[\"student1\"]"
   ]
  },
  {
   "cell_type": "code",
   "execution_count": 88,
   "id": "7209367f-d8be-4774-90a9-345ae342de3c",
   "metadata": {},
   "outputs": [],
   "source": [
    "student[\"student3\"].clear()"
   ]
  },
  {
   "cell_type": "code",
   "execution_count": 89,
   "id": "31d3dbf1-a762-4177-b0e0-7a8e6f158996",
   "metadata": {},
   "outputs": [
    {
     "data": {
      "text/plain": [
       "{'student1': {'name': 'Amruta', 'age': 20},\n",
       " 'student2': {'name': 'Karishma', 'age': 24},\n",
       " 'student3': {}}"
      ]
     },
     "execution_count": 89,
     "metadata": {},
     "output_type": "execute_result"
    }
   ],
   "source": [
    "student"
   ]
  },
  {
   "cell_type": "code",
   "execution_count": 90,
   "id": "f2ce2ccb-e60c-473e-90d0-ba6cfc101881",
   "metadata": {},
   "outputs": [],
   "source": [
    "del student[\"student1\"]"
   ]
  },
  {
   "cell_type": "code",
   "execution_count": 91,
   "id": "0a24d194-357b-4960-9252-2780ff0a2d23",
   "metadata": {},
   "outputs": [
    {
     "data": {
      "text/plain": [
       "{'student2': {'name': 'Karishma', 'age': 24}, 'student3': {}}"
      ]
     },
     "execution_count": 91,
     "metadata": {},
     "output_type": "execute_result"
    }
   ],
   "source": [
    "student"
   ]
  },
  {
   "cell_type": "code",
   "execution_count": null,
   "id": "94f46433-a430-425a-bfd8-8198ac6452ce",
   "metadata": {},
   "outputs": [],
   "source": []
  }
 ],
 "metadata": {
  "kernelspec": {
   "display_name": "Python 3 (ipykernel)",
   "language": "python",
   "name": "python3"
  },
  "language_info": {
   "codemirror_mode": {
    "name": "ipython",
    "version": 3
   },
   "file_extension": ".py",
   "mimetype": "text/x-python",
   "name": "python",
   "nbconvert_exporter": "python",
   "pygments_lexer": "ipython3",
   "version": "3.13.1"
  }
 },
 "nbformat": 4,
 "nbformat_minor": 5
}
