{
 "cells": [
  {
   "cell_type": "markdown",
   "id": "f391b4e8-8b61-42af-ae1b-24c1fe22f797",
   "metadata": {},
   "source": [
    "# Demonstrates creating a class in a python"
   ]
  },
  {
   "cell_type": "markdown",
   "id": "022711c9-df4b-4edf-96f4-95c5360d91be",
   "metadata": {},
   "source": [
    "#  syntax\n",
    "#  class class_name:\n",
    "#    //data member\n",
    "#    //data function"
   ]
  },
  {
   "cell_type": "code",
   "execution_count": 1,
   "id": "34e70f36-b691-4020-a6c9-5e50ff780915",
   "metadata": {},
   "outputs": [],
   "source": [
    "# Creating empty class in python\n",
    "class Student:\n",
    "    pass\n",
    "    "
   ]
  },
  {
   "cell_type": "code",
   "execution_count": 2,
   "id": "1c340b68-db9d-4dbb-886f-1798d5ef3de6",
   "metadata": {},
   "outputs": [],
   "source": [
    "class Student:\n",
    "    ..."
   ]
  },
  {
   "cell_type": "code",
   "execution_count": 3,
   "id": "aa5f0c34-fd85-4fda-8fbf-e3e828649d99",
   "metadata": {},
   "outputs": [
    {
     "ename": "_IncompleteInputError",
     "evalue": "incomplete input (3608864750.py, line 1)",
     "output_type": "error",
     "traceback": [
      "\u001b[1;36m  Cell \u001b[1;32mIn[3], line 1\u001b[1;36m\u001b[0m\n\u001b[1;33m    class Student:\u001b[0m\n\u001b[1;37m                  ^\u001b[0m\n\u001b[1;31m_IncompleteInputError\u001b[0m\u001b[1;31m:\u001b[0m incomplete input\n"
     ]
    }
   ],
   "source": [
    "class Student:"
   ]
  },
  {
   "cell_type": "code",
   "execution_count": 8,
   "id": "003d0da1-7a85-4ca6-b4b0-ff3fe65c600c",
   "metadata": {},
   "outputs": [],
   "source": [
    "class Student:\n",
    "    name=\"Amruta\"\n",
    "    city=\"Nagar\"\n",
    "\n",
    "    def display(self):\n",
    "        print(\"welcome to itshaala\")"
   ]
  },
  {
   "cell_type": "code",
   "execution_count": 9,
   "id": "56d76110-27fd-4291-a949-fb086453d53d",
   "metadata": {},
   "outputs": [],
   "source": [
    "s1=Student()"
   ]
  },
  {
   "cell_type": "code",
   "execution_count": 10,
   "id": "2f0347f9-e288-434f-9cdb-211ac01282ed",
   "metadata": {},
   "outputs": [
    {
     "data": {
      "text/plain": [
       "'Amruta'"
      ]
     },
     "execution_count": 10,
     "metadata": {},
     "output_type": "execute_result"
    }
   ],
   "source": [
    "s1.name"
   ]
  },
  {
   "cell_type": "code",
   "execution_count": 7,
   "id": "ffe5fa17-ac70-4f7b-9e02-4b424f6268fd",
   "metadata": {},
   "outputs": [
    {
     "data": {
      "text/plain": [
       "'Nagar'"
      ]
     },
     "execution_count": 7,
     "metadata": {},
     "output_type": "execute_result"
    }
   ],
   "source": [
    "s1.city"
   ]
  },
  {
   "cell_type": "code",
   "execution_count": 14,
   "id": "0475d32d-0e21-456c-8b6a-d4abe8e36438",
   "metadata": {},
   "outputs": [],
   "source": [
    "class Number:\n",
    "    a=20\n",
    "    b=30\n"
   ]
  },
  {
   "cell_type": "code",
   "execution_count": 16,
   "id": "272a3098-a293-4584-b842-13ccd3bd10e4",
   "metadata": {},
   "outputs": [
    {
     "data": {
      "text/plain": [
       "20"
      ]
     },
     "execution_count": 16,
     "metadata": {},
     "output_type": "execute_result"
    }
   ],
   "source": [
    "Number.a"
   ]
  },
  {
   "cell_type": "code",
   "execution_count": 17,
   "id": "b05fe4e0-948c-4adf-8072-815a26fb25ac",
   "metadata": {},
   "outputs": [
    {
     "data": {
      "text/plain": [
       "30"
      ]
     },
     "execution_count": 17,
     "metadata": {},
     "output_type": "execute_result"
    }
   ],
   "source": [
    "Number.b"
   ]
  },
  {
   "cell_type": "code",
   "execution_count": 18,
   "id": "b2ee2d52-bca0-49cd-aa01-9fb43e2f9ce5",
   "metadata": {},
   "outputs": [],
   "source": [
    "n1=Number()"
   ]
  },
  {
   "cell_type": "code",
   "execution_count": 19,
   "id": "2bde9dbe-2aff-4578-9e65-2deb12413434",
   "metadata": {},
   "outputs": [
    {
     "data": {
      "text/plain": [
       "20"
      ]
     },
     "execution_count": 19,
     "metadata": {},
     "output_type": "execute_result"
    }
   ],
   "source": [
    "n1.a"
   ]
  },
  {
   "cell_type": "code",
   "execution_count": 20,
   "id": "3465d19b-e91d-41d9-80fa-9fc9dce9bbe0",
   "metadata": {},
   "outputs": [
    {
     "data": {
      "text/plain": [
       "30"
      ]
     },
     "execution_count": 20,
     "metadata": {},
     "output_type": "execute_result"
    }
   ],
   "source": [
    "n1.b"
   ]
  },
  {
   "cell_type": "code",
   "execution_count": 22,
   "id": "264ec53e-6a1a-4dc6-b68c-34490f4edd52",
   "metadata": {},
   "outputs": [],
   "source": [
    "class Student:\n",
    "    def __init__(self, name, city):\n",
    "        self.name=name\n",
    "        self.city=city"
   ]
  },
  {
   "cell_type": "code",
   "execution_count": 24,
   "id": "cd9d371f-7e54-4683-97fa-81cb6bb17847",
   "metadata": {},
   "outputs": [],
   "source": [
    "s1=Student(\"Amruta\",\"Nagar\")"
   ]
  },
  {
   "cell_type": "code",
   "execution_count": 25,
   "id": "e9bab32a-51cd-432f-8695-fa6171f6b942",
   "metadata": {},
   "outputs": [
    {
     "data": {
      "text/plain": [
       "'Amruta'"
      ]
     },
     "execution_count": 25,
     "metadata": {},
     "output_type": "execute_result"
    }
   ],
   "source": [
    "s1.name"
   ]
  },
  {
   "cell_type": "code",
   "execution_count": 26,
   "id": "6eab96c8-bc76-4437-b047-18de58101336",
   "metadata": {},
   "outputs": [
    {
     "data": {
      "text/plain": [
       "'Nagar'"
      ]
     },
     "execution_count": 26,
     "metadata": {},
     "output_type": "execute_result"
    }
   ],
   "source": [
    "s1.city"
   ]
  },
  {
   "cell_type": "code",
   "execution_count": 27,
   "id": "f1947b9c-26d3-4918-b2d6-c1f85fd8faeb",
   "metadata": {},
   "outputs": [],
   "source": [
    "s2=Student(\"Pooja\",\"Pune\")"
   ]
  },
  {
   "cell_type": "code",
   "execution_count": 28,
   "id": "2c7d798a-34e6-49f9-ad66-c00f4162da33",
   "metadata": {},
   "outputs": [
    {
     "data": {
      "text/plain": [
       "'Pooja'"
      ]
     },
     "execution_count": 28,
     "metadata": {},
     "output_type": "execute_result"
    }
   ],
   "source": [
    "s2.name"
   ]
  },
  {
   "cell_type": "code",
   "execution_count": 29,
   "id": "07a30980-d888-4d8e-832d-df57a33bc4e3",
   "metadata": {},
   "outputs": [
    {
     "data": {
      "text/plain": [
       "'Pune'"
      ]
     },
     "execution_count": 29,
     "metadata": {},
     "output_type": "execute_result"
    }
   ],
   "source": [
    "s2.city"
   ]
  },
  {
   "cell_type": "code",
   "execution_count": 30,
   "id": "964219a1-7c7c-4620-a62f-1f4bd3839bd8",
   "metadata": {},
   "outputs": [],
   "source": [
    "s2.name=\"Karishma\""
   ]
  },
  {
   "cell_type": "code",
   "execution_count": 31,
   "id": "f4c18f03-15e2-46de-95da-fdd5d8a95d54",
   "metadata": {},
   "outputs": [
    {
     "data": {
      "text/plain": [
       "'Karishma'"
      ]
     },
     "execution_count": 31,
     "metadata": {},
     "output_type": "execute_result"
    }
   ],
   "source": [
    "s2.name"
   ]
  },
  {
   "cell_type": "code",
   "execution_count": 32,
   "id": "d1d2ad27-c0fa-477e-a561-3c7788844cc0",
   "metadata": {},
   "outputs": [],
   "source": [
    "s2.city=\"Puna\""
   ]
  },
  {
   "cell_type": "code",
   "execution_count": 33,
   "id": "c71caf22-ad64-4340-8597-358381681064",
   "metadata": {},
   "outputs": [
    {
     "data": {
      "text/plain": [
       "'Puna'"
      ]
     },
     "execution_count": 33,
     "metadata": {},
     "output_type": "execute_result"
    }
   ],
   "source": [
    "s2.city"
   ]
  },
  {
   "cell_type": "code",
   "execution_count": 44,
   "id": "d743a145-acef-4d6b-9b1f-f41a9829f1b4",
   "metadata": {},
   "outputs": [],
   "source": [
    "class Student:\n",
    "    def __init__(self,name,city):\n",
    "        self.name=name\n",
    "        self.city=city\n",
    "\n",
    "    def __str__(self):\n",
    "        return self.name + \" \" + self.city"
   ]
  },
  {
   "cell_type": "code",
   "execution_count": 45,
   "id": "70046cd1-2002-43b4-85b1-f3495cf26863",
   "metadata": {},
   "outputs": [],
   "source": [
    "s1 = Student(\"Amruta\",\"Pune\")"
   ]
  },
  {
   "cell_type": "code",
   "execution_count": 46,
   "id": "b2010ab2-43b5-412f-9e3c-f336d49c5152",
   "metadata": {},
   "outputs": [
    {
     "data": {
      "text/plain": [
       "'Amruta'"
      ]
     },
     "execution_count": 46,
     "metadata": {},
     "output_type": "execute_result"
    }
   ],
   "source": [
    "s1.name"
   ]
  },
  {
   "cell_type": "code",
   "execution_count": 47,
   "id": "6c0e6165-62d4-4814-9667-5b6a73d0e05d",
   "metadata": {},
   "outputs": [
    {
     "data": {
      "text/plain": [
       "'Pune'"
      ]
     },
     "execution_count": 47,
     "metadata": {},
     "output_type": "execute_result"
    }
   ],
   "source": [
    "s1.city"
   ]
  },
  {
   "cell_type": "code",
   "execution_count": 48,
   "id": "bc7f9d49-b7f2-4d5b-8daa-75117cf8b10e",
   "metadata": {},
   "outputs": [
    {
     "name": "stdout",
     "output_type": "stream",
     "text": [
      "Amruta Pune\n"
     ]
    }
   ],
   "source": [
    "print(s1)"
   ]
  },
  {
   "cell_type": "code",
   "execution_count": 49,
   "id": "d62be7bd-b825-4f24-a32a-2ee5f25be497",
   "metadata": {},
   "outputs": [],
   "source": [
    "s2 = Student(\"Karishma\",\"Pune\")"
   ]
  },
  {
   "cell_type": "code",
   "execution_count": 50,
   "id": "d81b442f-f160-4168-b0bc-dca1f7f7735a",
   "metadata": {},
   "outputs": [
    {
     "data": {
      "text/plain": [
       "'Karishma'"
      ]
     },
     "execution_count": 50,
     "metadata": {},
     "output_type": "execute_result"
    }
   ],
   "source": [
    "s2.name"
   ]
  },
  {
   "cell_type": "code",
   "execution_count": 51,
   "id": "298df756-30d4-487a-b879-8b9af6c913f2",
   "metadata": {},
   "outputs": [
    {
     "data": {
      "text/plain": [
       "'Pune'"
      ]
     },
     "execution_count": 51,
     "metadata": {},
     "output_type": "execute_result"
    }
   ],
   "source": [
    "s2.city"
   ]
  },
  {
   "cell_type": "code",
   "execution_count": 52,
   "id": "1b0e9420-9a7f-4d0e-a422-886bc0294652",
   "metadata": {},
   "outputs": [
    {
     "name": "stdout",
     "output_type": "stream",
     "text": [
      "Karishma Pune\n"
     ]
    }
   ],
   "source": [
    "print(s2)"
   ]
  },
  {
   "cell_type": "code",
   "execution_count": null,
   "id": "e21e1fb4-c36c-43ca-9be4-55ea1385f982",
   "metadata": {},
   "outputs": [],
   "source": []
  },
  {
   "cell_type": "markdown",
   "id": "1bb875b2-7b33-4e97-b169-680833627140",
   "metadata": {},
   "source": [
    "# create a class called as Employee- name, city, salary, email. create three object and display it"
   ]
  },
  {
   "cell_type": "code",
   "execution_count": 1,
   "id": "189bc5ac-9d02-4903-b12a-021a8670f88c",
   "metadata": {},
   "outputs": [],
   "source": [
    "class Employee:\n",
    "    def __init__(self,name,city,salary,email):\n",
    "        self.name=name\n",
    "        self.city=city\n",
    "        self.salary=salary\n",
    "        self.email=email\n",
    "\n",
    "    def __str__(self):\n",
    "        return self.name + \" \" + self.city + \" \" + self.salary + \" \" +self.email"
   ]
  },
  {
   "cell_type": "code",
   "execution_count": 2,
   "id": "0adbd627-0cb4-4e61-83f7-2e72e4df7c79",
   "metadata": {},
   "outputs": [],
   "source": [
    "E1=Employee(\"Amruta\",\"Nagar\",\"45000\",\"amrutapotphode001@gmail.com\")"
   ]
  },
  {
   "cell_type": "code",
   "execution_count": 55,
   "id": "bf7dabca-fb67-4182-a2ab-d1c35a104786",
   "metadata": {},
   "outputs": [
    {
     "data": {
      "text/plain": [
       "'Amruta'"
      ]
     },
     "execution_count": 55,
     "metadata": {},
     "output_type": "execute_result"
    }
   ],
   "source": [
    "E1.name"
   ]
  },
  {
   "cell_type": "code",
   "execution_count": 56,
   "id": "16feb64c-c37c-4e28-ba8f-0271e1632cb8",
   "metadata": {},
   "outputs": [
    {
     "data": {
      "text/plain": [
       "45000"
      ]
     },
     "execution_count": 56,
     "metadata": {},
     "output_type": "execute_result"
    }
   ],
   "source": [
    "E1.salary"
   ]
  },
  {
   "cell_type": "code",
   "execution_count": 3,
   "id": "35027abb-e0ae-4de5-960a-b26ea43abfe2",
   "metadata": {},
   "outputs": [
    {
     "name": "stdout",
     "output_type": "stream",
     "text": [
      "Amruta Nagar 45000 amrutapotphode001@gmail.com\n"
     ]
    }
   ],
   "source": [
    "print(E1)"
   ]
  },
  {
   "cell_type": "code",
   "execution_count": 4,
   "id": "d70cafd2-3e7e-487b-9c0d-2e894263e963",
   "metadata": {},
   "outputs": [],
   "source": [
    "E2=Employee(\"Pooja\",\"Pune\",\"30000\",\"sldkfjksaf.com\")"
   ]
  },
  {
   "cell_type": "code",
   "execution_count": 5,
   "id": "0f0d4cc4-4b23-46ee-bd6e-c15d3f03fd24",
   "metadata": {},
   "outputs": [
    {
     "data": {
      "text/plain": [
       "'Pooja'"
      ]
     },
     "execution_count": 5,
     "metadata": {},
     "output_type": "execute_result"
    }
   ],
   "source": [
    "E2.name"
   ]
  },
  {
   "cell_type": "code",
   "execution_count": 6,
   "id": "693caa9b-3c38-4c86-b9c8-3572253b2a0f",
   "metadata": {},
   "outputs": [
    {
     "name": "stdout",
     "output_type": "stream",
     "text": [
      "Pooja Pune 30000 sldkfjksaf.com\n"
     ]
    }
   ],
   "source": [
    "print(E2)"
   ]
  },
  {
   "cell_type": "code",
   "execution_count": 7,
   "id": "f6677bb9-f2db-4f08-abb9-5742c57236b4",
   "metadata": {},
   "outputs": [],
   "source": [
    "E3=Employee(\"Karishma\",\"Pune\",\"43000\",\"dslfjkasldfh.com\")"
   ]
  },
  {
   "cell_type": "code",
   "execution_count": 8,
   "id": "430f40b2-cbb4-4bce-9468-61f7e202ba24",
   "metadata": {},
   "outputs": [
    {
     "name": "stdout",
     "output_type": "stream",
     "text": [
      "Karishma Pune 43000 dslfjkasldfh.com\n"
     ]
    }
   ],
   "source": [
    "print(E3)"
   ]
  },
  {
   "cell_type": "code",
   "execution_count": null,
   "id": "96edfb67-2039-4081-bd77-ccb1e7fbe8b5",
   "metadata": {},
   "outputs": [],
   "source": []
  }
 ],
 "metadata": {
  "kernelspec": {
   "display_name": "Python 3 (ipykernel)",
   "language": "python",
   "name": "python3"
  },
  "language_info": {
   "codemirror_mode": {
    "name": "ipython",
    "version": 3
   },
   "file_extension": ".py",
   "mimetype": "text/x-python",
   "name": "python",
   "nbconvert_exporter": "python",
   "pygments_lexer": "ipython3",
   "version": "3.13.1"
  }
 },
 "nbformat": 4,
 "nbformat_minor": 5
}
