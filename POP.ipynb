{
 "cells": [
  {
   "cell_type": "markdown",
   "id": "6a8fe4c8-5202-4eb1-a5fe-8d4ebed3d567",
   "metadata": {},
   "source": [
    "# procedure oriented"
   ]
  },
  {
   "cell_type": "code",
   "execution_count": 2,
   "id": "62c28454-3319-4ec8-8031-7c6a160cb2b9",
   "metadata": {},
   "outputs": [
    {
     "name": "stdin",
     "output_type": "stream",
     "text": [
      "Name: Amruta\n",
      "City : Ahmednagar\n"
     ]
    },
    {
     "name": "stdout",
     "output_type": "stream",
     "text": [
      "Amruta from Ahmednagar\n"
     ]
    }
   ],
   "source": [
    "name=input(\"Name:\")\n",
    "city=input(\"City :\")\n",
    "print(f\"{name} from {city}\")"
   ]
  },
  {
   "cell_type": "markdown",
   "id": "5a5f9235-c7a7-42ce-a6b9-ec9baead416e",
   "metadata": {},
   "source": [
    "# function oriented"
   ]
  },
  {
   "cell_type": "code",
   "execution_count": 2,
   "id": "1537a9c2-23c1-40f8-947c-b678f92ee473",
   "metadata": {},
   "outputs": [],
   "source": [
    "def get_name():\n",
    "    return input(\"Name: \")\n",
    "\n",
    "def get_city():\n",
    "    return input(\"city:\")\n",
    "\n",
    "def display(name,city):\n",
    "    print(f\"{name} from {city}\")"
   ]
  },
  {
   "cell_type": "code",
   "execution_count": 4,
   "id": "5069af2c-acdc-4669-83e0-903fbc87ee66",
   "metadata": {},
   "outputs": [
    {
     "name": "stdin",
     "output_type": "stream",
     "text": [
      "Name:  karishma\n"
     ]
    }
   ],
   "source": [
    "name=get_name()"
   ]
  },
  {
   "cell_type": "code",
   "execution_count": 5,
   "id": "ec98adad-9b06-44cb-94c5-867bca1cb3dd",
   "metadata": {},
   "outputs": [
    {
     "name": "stdin",
     "output_type": "stream",
     "text": [
      "city: pune\n"
     ]
    }
   ],
   "source": [
    "city=get_city()"
   ]
  },
  {
   "cell_type": "code",
   "execution_count": 6,
   "id": "b259becb-3fc2-4105-bee5-c63cf987f755",
   "metadata": {},
   "outputs": [
    {
     "name": "stdout",
     "output_type": "stream",
     "text": [
      "karishma from pune\n"
     ]
    }
   ],
   "source": [
    "display(name,city)"
   ]
  },
  {
   "cell_type": "code",
   "execution_count": 7,
   "id": "d5392907-d8ee-4e5b-9157-0bf73a985a93",
   "metadata": {},
   "outputs": [
    {
     "name": "stdin",
     "output_type": "stream",
     "text": [
      "Name:  karishma\n",
      "city: pune\n"
     ]
    },
    {
     "name": "stdout",
     "output_type": "stream",
     "text": [
      "karishma from pune\n"
     ]
    }
   ],
   "source": [
    "name:get_name()\n",
    "city:get_city()\n",
    "display(name,city)"
   ]
  },
  {
   "cell_type": "markdown",
   "id": "441b65eb-cba0-4989-a1da-4bbba481de3d",
   "metadata": {},
   "source": [
    "# modularizes gettings student's name and city"
   ]
  },
  {
   "cell_type": "code",
   "execution_count": 8,
   "id": "a61216e4-7459-4533-bd53-e90ec8d98cbd",
   "metadata": {},
   "outputs": [],
   "source": [
    "def main():\n",
    "    name=get_name()\n",
    "    city=get_city()\n",
    "    print(f\"{name} from {city}\")\n",
    "\n",
    "def get_name():\n",
    "    return input(\"Name: \")\n",
    "def get_city():\n",
    "    return input(\"city: \")"
   ]
  },
  {
   "cell_type": "code",
   "execution_count": 9,
   "id": "ba60cd51-d38b-4144-b24d-8efc62153aa6",
   "metadata": {},
   "outputs": [
    {
     "name": "stdin",
     "output_type": "stream",
     "text": [
      "Name:  Amruta\n",
      "city:  Ahilyanagar\n"
     ]
    },
    {
     "name": "stdout",
     "output_type": "stream",
     "text": [
      "Amruta from Ahilyanagar\n"
     ]
    }
   ],
   "source": [
    "main()"
   ]
  },
  {
   "cell_type": "code",
   "execution_count": 10,
   "id": "13fef461-a3d1-4c13-83ca-e58f2665dbcb",
   "metadata": {},
   "outputs": [],
   "source": [
    "def main():   #search for main definition step 2\n",
    "    name, city = get_student()    #student function got called step 3\n",
    "    print(f\"{name} from {city}\")\n",
    "\n",
    "def get_student():   # look for definition of get_student() step 4\n",
    "    name=input(\"Name: \")\n",
    "    city=input(\"City: \")\n",
    "    return name, city"
   ]
  },
  {
   "cell_type": "code",
   "execution_count": 12,
   "id": "73644950-ae01-4d56-8cc0-3b16521a280d",
   "metadata": {},
   "outputs": [
    {
     "name": "stdin",
     "output_type": "stream",
     "text": [
      "Name:  pooja\n",
      "City:  pune\n"
     ]
    },
    {
     "name": "stdout",
     "output_type": "stream",
     "text": [
      "pooja from pune\n"
     ]
    }
   ],
   "source": [
    "main()  #made a call to main() function "
   ]
  },
  {
   "cell_type": "markdown",
   "id": "39240c36-da98-4da1-958c-00ec25e2ead0",
   "metadata": {},
   "source": [
    "# returns student as tuple, unpacking it "
   ]
  },
  {
   "cell_type": "code",
   "execution_count": 1,
   "id": "56c58239-4c8a-42a3-bcd3-89d359975349",
   "metadata": {},
   "outputs": [],
   "source": [
    "def main():\n",
    "    name,city = get_student()\n",
    "    print(f\"{name} from {city}\")\n",
    "\n",
    "def get_student():\n",
    "    name=input(\"Name : \")\n",
    "    city=input(\"City : \")\n",
    "    return (name,city)\n",
    "    \n",
    "    "
   ]
  },
  {
   "cell_type": "code",
   "execution_count": 2,
   "id": "ff706cd3-8bfb-4374-9140-2690f63b9690",
   "metadata": {},
   "outputs": [
    {
     "name": "stdin",
     "output_type": "stream",
     "text": [
      "Name :  Amruta\n",
      "City :  Nagar\n"
     ]
    },
    {
     "name": "stdout",
     "output_type": "stream",
     "text": [
      "Amruta from Nagar\n"
     ]
    }
   ],
   "source": [
    "main()"
   ]
  },
  {
   "cell_type": "markdown",
   "id": "a65502dd-f946-4837-ab69-293fe0bc77d8",
   "metadata": {},
   "source": [
    "# Demonstrates student as tuple, without unpacking it"
   ]
  },
  {
   "cell_type": "code",
   "execution_count": 5,
   "id": "6bde75a9-ec72-435d-9638-89fd36c9b0b0",
   "metadata": {},
   "outputs": [],
   "source": [
    "def main():\n",
    "    student = get_student()\n",
    "    print(f\"{student[0]} from {student[1]}\")\n",
    "\n",
    "def get_student():\n",
    "    name=input(\"Name : \")\n",
    "    city=input(\"City : \")\n",
    "    return (name,city)"
   ]
  },
  {
   "cell_type": "code",
   "execution_count": 6,
   "id": "9a893989-c07d-41cf-9494-a02305cbc10d",
   "metadata": {},
   "outputs": [
    {
     "name": "stdin",
     "output_type": "stream",
     "text": [
      "Name :  Suvarna\n",
      "City :  pune\n"
     ]
    },
    {
     "name": "stdout",
     "output_type": "stream",
     "text": [
      "Suvarna from pune\n"
     ]
    }
   ],
   "source": [
    "main()"
   ]
  },
  {
   "cell_type": "markdown",
   "id": "08650a8c-ca9a-44b3-9a2f-032def91ec6f",
   "metadata": {},
   "source": [
    "# Demonstrates immutability of tuples, remove parenthesis"
   ]
  },
  {
   "cell_type": "code",
   "execution_count": 7,
   "id": "b81f7318-c3a4-4bd8-8682-ba77eb0facfc",
   "metadata": {},
   "outputs": [],
   "source": [
    "def main():\n",
    "    student = get_student()\n",
    "    if student[0]==\"Amruta\":\n",
    "        student[1]=\"Nagar\"\n",
    "    print(f\"{student[0]} from {student[1]}\")\n",
    "\n",
    "def get_student():\n",
    "    name=input(\"Name : \")\n",
    "    city=input(\"City : \")\n",
    "    return name, city"
   ]
  },
  {
   "cell_type": "code",
   "execution_count": 8,
   "id": "d4cdd8e3-1a28-4629-b233-d32debcb9bfb",
   "metadata": {},
   "outputs": [
    {
     "name": "stdin",
     "output_type": "stream",
     "text": [
      "Name :  Amruta\n",
      "City :  pune\n"
     ]
    },
    {
     "ename": "TypeError",
     "evalue": "'tuple' object does not support item assignment",
     "output_type": "error",
     "traceback": [
      "\u001b[1;31m---------------------------------------------------------------------------\u001b[0m",
      "\u001b[1;31mTypeError\u001b[0m                                 Traceback (most recent call last)",
      "Cell \u001b[1;32mIn[8], line 1\u001b[0m\n\u001b[1;32m----> 1\u001b[0m \u001b[43mmain\u001b[49m\u001b[43m(\u001b[49m\u001b[43m)\u001b[49m\n",
      "Cell \u001b[1;32mIn[7], line 4\u001b[0m, in \u001b[0;36mmain\u001b[1;34m()\u001b[0m\n\u001b[0;32m      2\u001b[0m student \u001b[38;5;241m=\u001b[39m get_student()\n\u001b[0;32m      3\u001b[0m \u001b[38;5;28;01mif\u001b[39;00m student[\u001b[38;5;241m0\u001b[39m]\u001b[38;5;241m==\u001b[39m\u001b[38;5;124m\"\u001b[39m\u001b[38;5;124mAmruta\u001b[39m\u001b[38;5;124m\"\u001b[39m:\n\u001b[1;32m----> 4\u001b[0m     \u001b[43mstudent\u001b[49m\u001b[43m[\u001b[49m\u001b[38;5;241;43m1\u001b[39;49m\u001b[43m]\u001b[49m\u001b[38;5;241m=\u001b[39m\u001b[38;5;124m\"\u001b[39m\u001b[38;5;124mNagar\u001b[39m\u001b[38;5;124m\"\u001b[39m\n\u001b[0;32m      5\u001b[0m \u001b[38;5;28mprint\u001b[39m(\u001b[38;5;124mf\u001b[39m\u001b[38;5;124m\"\u001b[39m\u001b[38;5;132;01m{\u001b[39;00mstudent[\u001b[38;5;241m0\u001b[39m]\u001b[38;5;132;01m}\u001b[39;00m\u001b[38;5;124m from \u001b[39m\u001b[38;5;132;01m{\u001b[39;00mstudent[\u001b[38;5;241m1\u001b[39m]\u001b[38;5;132;01m}\u001b[39;00m\u001b[38;5;124m\"\u001b[39m)\n",
      "\u001b[1;31mTypeError\u001b[0m: 'tuple' object does not support item assignment"
     ]
    }
   ],
   "source": [
    "main()"
   ]
  },
  {
   "cell_type": "markdown",
   "id": "43da9b7d-7fa4-4469-9c5b-e5957cb147ac",
   "metadata": {},
   "source": [
    "# stores student as (mutable) list:"
   ]
  },
  {
   "cell_type": "code",
   "execution_count": 9,
   "id": "5081d918-b900-442f-944a-7a8944c17fa4",
   "metadata": {},
   "outputs": [],
   "source": [
    "def main():\n",
    "    student=get_student()\n",
    "    if student[0]==\"Amruta\":\n",
    "        student[1]=\"Nagar\"\n",
    "    print(f\"{student[0]} from {student[1]}\")\n",
    "\n",
    "def get_student():\n",
    "    name = input(\"Name : \")\n",
    "    city = input(\"City :\")\n",
    "    return [name,city]"
   ]
  },
  {
   "cell_type": "code",
   "execution_count": 10,
   "id": "c672b45e-7bbd-4ab0-a158-d16e14aae29e",
   "metadata": {},
   "outputs": [
    {
     "name": "stdin",
     "output_type": "stream",
     "text": [
      "Name :  Amruta\n",
      "City : pune\n"
     ]
    },
    {
     "name": "stdout",
     "output_type": "stream",
     "text": [
      "Amruta from Nagar\n"
     ]
    }
   ],
   "source": [
    "main()"
   ]
  },
  {
   "cell_type": "markdown",
   "id": "3cd2897c-c6ab-4952-84cf-49c3ab59a26b",
   "metadata": {},
   "source": [
    "# Demonstrates student using dictionary"
   ]
  },
  {
   "cell_type": "code",
   "execution_count": 23,
   "id": "c85a884e-f29e-46ee-a0f6-ed220f70c2e5",
   "metadata": {},
   "outputs": [],
   "source": [
    "def main():\n",
    "    student=get_student()\n",
    "    print(f\"{student['Name']} from {student['city']}\") \n",
    "\n",
    "def get_student():\n",
    "    student = {}\n",
    "    student[\"Name\"]=input(\"Name :\")\n",
    "    student[\"city\"]=input(\"City :\")\n",
    "    return student"
   ]
  },
  {
   "cell_type": "code",
   "execution_count": 24,
   "id": "c4f6d1d2-3a3f-4dd6-939b-d56108e4e679",
   "metadata": {},
   "outputs": [
    {
     "name": "stdin",
     "output_type": "stream",
     "text": [
      "Name : Amruta\n",
      "City : pune\n"
     ]
    },
    {
     "name": "stdout",
     "output_type": "stream",
     "text": [
      "Amruta from pune\n"
     ]
    }
   ],
   "source": [
    "main()"
   ]
  },
  {
   "cell_type": "markdown",
   "id": "6367de3a-b90a-4bf6-b189-e133039038aa",
   "metadata": {},
   "source": [
    "# Eliminates unneeded variable"
   ]
  },
  {
   "cell_type": "code",
   "execution_count": 25,
   "id": "153f0f39-493a-4ed5-8ba7-5affc894ec26",
   "metadata": {},
   "outputs": [],
   "source": [
    "def main():\n",
    "    student = get_student()\n",
    "    print(f\"{student[\"name\"]} from {student[\"city\"]}\")\n",
    "\n",
    "def get_student():\n",
    "    name=input(\"name: \")\n",
    "    city=input(\"city: \")\n",
    "    return {\"name\" : name, \"city\" : city}"
   ]
  },
  {
   "cell_type": "code",
   "execution_count": 26,
   "id": "e9122627-4bd2-49df-88d1-42e877c338b0",
   "metadata": {},
   "outputs": [
    {
     "name": "stdin",
     "output_type": "stream",
     "text": [
      "name:  Amruta\n",
      "city:  nagar\n"
     ]
    },
    {
     "name": "stdout",
     "output_type": "stream",
     "text": [
      "Amruta from nagar\n"
     ]
    }
   ],
   "source": [
    "main()"
   ]
  },
  {
   "cell_type": "markdown",
   "id": "5f3045df-7fe5-46ca-b3a8-05d678b21f22",
   "metadata": {},
   "source": [
    "# Demonstrates Mutability of dictionary"
   ]
  },
  {
   "cell_type": "code",
   "execution_count": 27,
   "id": "4a4de7ab-279d-4b86-84ea-ae20db5e482a",
   "metadata": {},
   "outputs": [],
   "source": [
    "def main():\n",
    "    student = get_student()\n",
    "    if student[\"name\"]==\"Amruta\":\n",
    "        student[\"city\"]=\"Nagar\"\n",
    "    print(f\"{student[\"name\"]} from {student[\"city\"]}\")\n",
    "\n",
    "def get_student():\n",
    "    name=input(\"Name:\")\n",
    "    city=input(\"City:\")\n",
    "    return {\"name\":name, \"city\":city}"
   ]
  },
  {
   "cell_type": "code",
   "execution_count": 28,
   "id": "a0f15de7-aa9b-4365-b1ce-3aabff8e29c7",
   "metadata": {},
   "outputs": [
    {
     "name": "stdin",
     "output_type": "stream",
     "text": [
      "Name: Amruta\n",
      "City: pune\n"
     ]
    },
    {
     "name": "stdout",
     "output_type": "stream",
     "text": [
      "Amruta from Nagar\n"
     ]
    }
   ],
   "source": [
    "main()"
   ]
  },
  {
   "cell_type": "code",
   "execution_count": null,
   "id": "e2868d4e-cd68-4a8c-b040-7a9a71e4e5f1",
   "metadata": {},
   "outputs": [],
   "source": []
  }
 ],
 "metadata": {
  "kernelspec": {
   "display_name": "Python 3 (ipykernel)",
   "language": "python",
   "name": "python3"
  },
  "language_info": {
   "codemirror_mode": {
    "name": "ipython",
    "version": 3
   },
   "file_extension": ".py",
   "mimetype": "text/x-python",
   "name": "python",
   "nbconvert_exporter": "python",
   "pygments_lexer": "ipython3",
   "version": "3.13.1"
  }
 },
 "nbformat": 4,
 "nbformat_minor": 5
}
