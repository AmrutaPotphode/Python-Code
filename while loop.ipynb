{
 "cells": [
  {
   "cell_type": "markdown",
   "id": "ebd012fe-f407-44f4-8973-3a47ac9d22a6",
   "metadata": {},
   "source": [
    "#Looping"
   ]
  },
  {
   "cell_type": "code",
   "execution_count": 6,
   "id": "8d16dfce-675f-4261-9b3e-eff35a2ef77a",
   "metadata": {},
   "outputs": [
    {
     "name": "stdout",
     "output_type": "stream",
     "text": [
      "meow\n",
      "meow\n"
     ]
    }
   ],
   "source": [
    "a=1\n",
    "while a!=3:    #1!=3 true, 2!=3 true, 3!=3 false\n",
    "    print(\"meow\")\n",
    "    a=a+1"
   ]
  },
  {
   "cell_type": "code",
   "execution_count": 7,
   "id": "7ebe291d-82c8-4115-8c49-731c1e22da69",
   "metadata": {},
   "outputs": [
    {
     "name": "stdout",
     "output_type": "stream",
     "text": [
      "Meow\n",
      "Meow\n",
      "Meow\n"
     ]
    }
   ],
   "source": [
    "i=3\n",
    "while i!=0:\n",
    "    print(\"Meow\")\n",
    "    i=i-1"
   ]
  },
  {
   "cell_type": "code",
   "execution_count": 8,
   "id": "50c50b16-f323-42f3-87bb-4f1769bc10e2",
   "metadata": {},
   "outputs": [
    {
     "name": "stdout",
     "output_type": "stream",
     "text": [
      "Meow\n",
      "Meow\n",
      "Meow\n",
      "Meow\n",
      "Meow\n"
     ]
    }
   ],
   "source": [
    "i=0\n",
    "while i!=5:\n",
    "    print(\"Meow\")\n",
    "    i=i+1"
   ]
  },
  {
   "cell_type": "code",
   "execution_count": 9,
   "id": "7fe2c3df-6968-45a8-a998-12cb51746cfb",
   "metadata": {},
   "outputs": [
    {
     "name": "stdout",
     "output_type": "stream",
     "text": [
      "Meow\n",
      "Meow\n",
      "Meow\n",
      "Meow\n"
     ]
    }
   ],
   "source": [
    "i=1\n",
    "while i!=5:\n",
    "    print(\"Meow\")\n",
    "    i=i+1"
   ]
  },
  {
   "cell_type": "code",
   "execution_count": 11,
   "id": "597b1a5d-0c15-4d36-bce5-b24285ad4d24",
   "metadata": {},
   "outputs": [
    {
     "name": "stdout",
     "output_type": "stream",
     "text": [
      "1\n",
      "2\n",
      "3\n",
      "4\n",
      "5\n",
      "6\n",
      "7\n",
      "8\n",
      "9\n",
      "10\n"
     ]
    }
   ],
   "source": [
    "i=1\n",
    "while i!=11:\n",
    "    print(i)\n",
    "    i=i+1"
   ]
  },
  {
   "cell_type": "code",
   "execution_count": 1,
   "id": "aa4a7a95-d94d-48bb-bbe2-5477e01f42e3",
   "metadata": {},
   "outputs": [
    {
     "name": "stdout",
     "output_type": "stream",
     "text": [
      "2\n",
      "4\n",
      "6\n",
      "8\n",
      "10\n",
      "12\n",
      "14\n",
      "16\n",
      "18\n",
      "20\n",
      "22\n",
      "24\n",
      "26\n",
      "28\n",
      "30\n",
      "32\n",
      "34\n",
      "36\n",
      "38\n",
      "40\n",
      "42\n",
      "44\n",
      "46\n",
      "48\n",
      "50\n",
      "52\n",
      "54\n",
      "56\n",
      "58\n",
      "60\n",
      "62\n",
      "64\n",
      "66\n",
      "68\n",
      "70\n",
      "72\n",
      "74\n",
      "76\n",
      "78\n",
      "80\n",
      "82\n",
      "84\n",
      "86\n",
      "88\n",
      "90\n",
      "92\n",
      "94\n",
      "96\n",
      "98\n",
      "100\n"
     ]
    }
   ],
   "source": [
    "i=1\n",
    "while i!=101:\n",
    "    if i%2==0:\n",
    "        print(i)\n",
    "    i=i+1"
   ]
  },
  {
   "cell_type": "code",
   "execution_count": 4,
   "id": "f68d7063-16e7-4310-9940-6c6c5744b3a6",
   "metadata": {},
   "outputs": [
    {
     "ename": "IndentationError",
     "evalue": "unindent does not match any outer indentation level (<string>, line 4)",
     "output_type": "error",
     "traceback": [
      "\u001b[1;36m  File \u001b[1;32m<string>:4\u001b[1;36m\u001b[0m\n\u001b[1;33m    i=i+2\u001b[0m\n\u001b[1;37m         ^\u001b[0m\n\u001b[1;31mIndentationError\u001b[0m\u001b[1;31m:\u001b[0m unindent does not match any outer indentation level\n"
     ]
    }
   ],
   "source": [
    "i=2\n",
    "while i!=102:\n",
    "    if\n",
    "        print(i)\n",
    "    i=i+2"
   ]
  },
  {
   "cell_type": "code",
   "execution_count": 2,
   "id": "410aa9db-2999-4c7b-9f22-f35353fa3f26",
   "metadata": {},
   "outputs": [
    {
     "name": "stdout",
     "output_type": "stream",
     "text": [
      "1\n",
      "3\n",
      "5\n",
      "7\n",
      "9\n",
      "11\n",
      "13\n",
      "15\n",
      "17\n",
      "19\n",
      "21\n",
      "23\n",
      "25\n",
      "27\n",
      "29\n",
      "31\n",
      "33\n",
      "35\n",
      "37\n",
      "39\n",
      "41\n",
      "43\n",
      "45\n",
      "47\n",
      "49\n",
      "51\n",
      "53\n",
      "55\n",
      "57\n",
      "59\n",
      "61\n",
      "63\n",
      "65\n",
      "67\n",
      "69\n",
      "71\n",
      "73\n",
      "75\n",
      "77\n",
      "79\n",
      "81\n",
      "83\n",
      "85\n",
      "87\n",
      "89\n",
      "91\n",
      "93\n",
      "95\n",
      "97\n",
      "99\n"
     ]
    }
   ],
   "source": [
    "i=1\n",
    "while i!=101:\n",
    "    if i%2==1:\n",
    "        print(i)\n",
    "    i=i+2"
   ]
  },
  {
   "cell_type": "markdown",
   "id": "f7a50fa5-6ef4-4e3f-9463-cf5044b5429e",
   "metadata": {},
   "source": [
    "# while loop"
   ]
  },
  {
   "cell_type": "code",
   "execution_count": 2,
   "id": "9a49398c-cec0-4683-9cf0-301fe4cb7457",
   "metadata": {},
   "outputs": [
    {
     "name": "stdout",
     "output_type": "stream",
     "text": [
      "Welcome\n",
      "Welcome\n",
      "Welcome\n",
      "Welcome\n"
     ]
    }
   ],
   "source": [
    "i=1\n",
    "while i<=4:\n",
    "    print(\"Welcome\")\n",
    "    i=i+1"
   ]
  },
  {
   "cell_type": "markdown",
   "id": "e292bc2f-b760-47de-93c1-f8207d87eb92",
   "metadata": {},
   "source": [
    "#demonstrates more succients incrementation"
   ]
  },
  {
   "cell_type": "code",
   "execution_count": 4,
   "id": "a37133ba-82db-47f8-8bc0-de13028f4e55",
   "metadata": {},
   "outputs": [
    {
     "name": "stdout",
     "output_type": "stream",
     "text": [
      "welecome\n",
      "welecome\n",
      "welecome\n",
      "welecome\n"
     ]
    }
   ],
   "source": [
    "i=1\n",
    "while i<=4:\n",
    "    print('welecome')\n",
    "    i+=1"
   ]
  },
  {
   "cell_type": "markdown",
   "id": "ce8f2f6e-02ff-452b-ba14-dc5c1b25d3f5",
   "metadata": {},
   "source": [
    "#printing output on same line"
   ]
  },
  {
   "cell_type": "code",
   "execution_count": 10,
   "id": "4b22cc9b-6712-4cfe-bfad-35c460ad07f1",
   "metadata": {},
   "outputs": [
    {
     "name": "stdout",
     "output_type": "stream",
     "text": [
      "welecome , welecome , welecome , welecome , "
     ]
    }
   ],
   "source": [
    "i=1\n",
    "while i<=4:\n",
    "    print('welecome', end = \" , \")\n",
    "    i+=1"
   ]
  },
  {
   "cell_type": "code",
   "execution_count": 11,
   "id": "3ef67504-1aaf-4ab2-b92f-48854c5eacb9",
   "metadata": {},
   "outputs": [
    {
     "name": "stdout",
     "output_type": "stream",
     "text": [
      "1 , 2 , 3 , 4 , "
     ]
    }
   ],
   "source": [
    "i=1\n",
    "while i<=4:\n",
    "    print(i, end = \" , \")\n",
    "    i+=1"
   ]
  },
  {
   "cell_type": "code",
   "execution_count": 14,
   "id": "6b64af8a-afa7-4603-9c31-a87e3133fb47",
   "metadata": {},
   "outputs": [
    {
     "name": "stdout",
     "output_type": "stream",
     "text": [
      "1,3,5,7,9,11,13,15,17,19,21,23,25,27,29,31,33,35,37,39,41,43,45,47,49,"
     ]
    }
   ],
   "source": [
    "i=1\n",
    "while i<=50:\n",
    "    print(i, end= \",\")\n",
    "    i+=2"
   ]
  },
  {
   "cell_type": "code",
   "execution_count": 15,
   "id": "33d0fa97-9689-490f-b05b-b52d2e5f7532",
   "metadata": {},
   "outputs": [
    {
     "name": "stdout",
     "output_type": "stream",
     "text": [
      "49,47,45,43,41,39,37,35,33,31,29,27,25,23,21,19,17,15,13,11,9,7,5,3,1,"
     ]
    }
   ],
   "source": [
    "i=49\n",
    "while i>=1:\n",
    "    print(i, end= \",\")\n",
    "    i-=2"
   ]
  },
  {
   "cell_type": "code",
   "execution_count": 18,
   "id": "52bebe12-ed79-4f7e-b1b7-72594ba195f1",
   "metadata": {},
   "outputs": [
    {
     "name": "stdout",
     "output_type": "stream",
     "text": [
      "3 6 9 12 15 18 21 24 27 30 "
     ]
    }
   ],
   "source": [
    "i=3\n",
    "while i<33:\n",
    "    print(i, end=\" \")\n",
    "    i=i+3"
   ]
  },
  {
   "cell_type": "markdown",
   "id": "1600b2dd-b095-4c22-a68a-d1f1f7822e0d",
   "metadata": {},
   "source": [
    "#write a code no between 1 - 50 and no are odd and also divisible by 7"
   ]
  },
  {
   "cell_type": "code",
   "execution_count": 21,
   "id": "98443167-081d-4e74-b999-fe6fbc106d67",
   "metadata": {},
   "outputs": [
    {
     "name": "stdout",
     "output_type": "stream",
     "text": [
      "7,21,35,49,"
     ]
    }
   ],
   "source": [
    "i=1\n",
    "while i<51:\n",
    "    if i%2==1:\n",
    "        if i%7==0:\n",
    "            print(i, end= \",\")\n",
    "    i+=1"
   ]
  },
  {
   "cell_type": "code",
   "execution_count": 25,
   "id": "dc8ead3e-e552-4935-824e-a72d666fb9ab",
   "metadata": {},
   "outputs": [
    {
     "name": "stdout",
     "output_type": "stream",
     "text": [
      "7 21 35 49 "
     ]
    }
   ],
   "source": [
    "i=1\n",
    "while i<51:\n",
    "    if i%2==1 and i%7==0:\n",
    "        print(i, end=\" \")\n",
    "    i+=1"
   ]
  },
  {
   "cell_type": "code",
   "execution_count": null,
   "id": "8fd09258-a2c7-4a83-bc34-61f792a80397",
   "metadata": {},
   "outputs": [],
   "source": []
  }
 ],
 "metadata": {
  "kernelspec": {
   "display_name": "Python 3 (ipykernel)",
   "language": "python",
   "name": "python3"
  },
  "language_info": {
   "codemirror_mode": {
    "name": "ipython",
    "version": 3
   },
   "file_extension": ".py",
   "mimetype": "text/x-python",
   "name": "python",
   "nbconvert_exporter": "python",
   "pygments_lexer": "ipython3",
   "version": "3.13.1"
  }
 },
 "nbformat": 4,
 "nbformat_minor": 5
}
