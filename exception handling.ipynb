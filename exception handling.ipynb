{
 "cells": [
  {
   "cell_type": "markdown",
   "id": "6d87234f-a9c0-4be3-b670-61de55875a9f",
   "metadata": {},
   "source": [
    "# Exception handling"
   ]
  },
  {
   "cell_type": "code",
   "execution_count": 9,
   "id": "62c28454-3319-4ec8-8031-7c6a160cb2b9",
   "metadata": {},
   "outputs": [
    {
     "name": "stdin",
     "output_type": "stream",
     "text": [
      "enter the num1 10\n",
      "enter the num2 0\n"
     ]
    },
    {
     "name": "stdout",
     "output_type": "stream",
     "text": [
      "Zero Division Error\n",
      "run rest of the code\n"
     ]
    }
   ],
   "source": [
    "num1=int(input(\"enter the num1\"))\n",
    "num2=int(input(\"enter the num2\"))\n",
    "try:\n",
    "    result=num1/num2\n",
    "    print(\"division is:\", result)\n",
    "\n",
    "except:\n",
    "    print(\"Zero Division Error\")\n",
    "\n",
    "print(\"run rest of the code\")"
   ]
  },
  {
   "cell_type": "code",
   "execution_count": 11,
   "id": "9dc0a9e9-9b99-4af1-a313-5347fdce5eae",
   "metadata": {},
   "outputs": [
    {
     "name": "stdin",
     "output_type": "stream",
     "text": [
      "enter the value for x?? jk\n"
     ]
    },
    {
     "name": "stdout",
     "output_type": "stream",
     "text": [
      "x is not an integer. please provide integer value\n",
      "value of x is:  5\n"
     ]
    }
   ],
   "source": [
    "try:\n",
    "    x=int(input(\"enter the value for x??\"))\n",
    "except:\n",
    "    print(\"x is not an integer. please provide integer value\")\n",
    "\n",
    "print(\"value of x is: \", x)"
   ]
  },
  {
   "cell_type": "code",
   "execution_count": 1,
   "id": "0bfe3757-7de5-4059-94e1-f735c8f52152",
   "metadata": {},
   "outputs": [
    {
     "name": "stdin",
     "output_type": "stream",
     "text": [
      "what is x? df\n"
     ]
    },
    {
     "name": "stdout",
     "output_type": "stream",
     "text": [
      "x is not an integer.\n"
     ]
    },
    {
     "name": "stdin",
     "output_type": "stream",
     "text": [
      "what is x? 45\n"
     ]
    },
    {
     "name": "stdout",
     "output_type": "stream",
     "text": [
      "value of x is :  45\n"
     ]
    }
   ],
   "source": [
    "while True:\n",
    "    try:\n",
    "        x=int(input(\"what is x?\"))\n",
    "    except:\n",
    "        print(\"x is not an integer.\")\n",
    "    else:\n",
    "        print(\"value of x is : \", x)\n",
    "        break"
   ]
  },
  {
   "cell_type": "markdown",
   "id": "f15f0e4b-cbbe-4bc2-82c4-6f3ec867dbd4",
   "metadata": {},
   "source": [
    "while True:\n",
    "    try:\n",
    "        x=int(input(\"what is x\"))\n",
    "    except:\n",
    "        print(\"x is not a integer\")\n",
    "    else:\n",
    "        print(\"value of x is : \", x)\n",
    "        break\n",
    "\n",
    "print(\"run the rest of the code\")"
   ]
  },
  {
   "cell_type": "markdown",
   "id": "46de96df-00f0-4cf4-8370-d0eff219c06a",
   "metadata": {},
   "source": [
    "# example of try..except and final"
   ]
  },
  {
   "cell_type": "code",
   "execution_count": 7,
   "id": "6ca98f02-3872-4f80-815d-74bba0168b0f",
   "metadata": {},
   "outputs": [
    {
     "name": "stdin",
     "output_type": "stream",
     "text": [
      "enter value of num1 10\n",
      "enter value of num2 0\n"
     ]
    },
    {
     "name": "stdout",
     "output_type": "stream",
     "text": [
      "zero division error\n",
      "i will always get executed not matter try block generate or not exception\n"
     ]
    }
   ],
   "source": [
    "num1=int(input(\"enter value of num1\"))\n",
    "num2=int(input(\"enter value of num2\"))\n",
    "\n",
    "try:\n",
    "    result=num1/num2\n",
    "except:\n",
    "    print(\"zero division error\")\n",
    "else:\n",
    "    print(f\"div of {num1} and {num2} is:\", result)\n",
    "finally:\n",
    "    print(\"i will always get executed not matter try block generate or not exception\")"
   ]
  },
  {
   "cell_type": "code",
   "execution_count": 2,
   "id": "3301677b-9929-462a-aaa3-6ef79b1b32e5",
   "metadata": {},
   "outputs": [
    {
     "name": "stdin",
     "output_type": "stream",
     "text": [
      "enter your name dgfkuoloiuoiyuftyrsrefggjhkioliuiuttyfgkh\n"
     ]
    },
    {
     "name": "stdout",
     "output_type": "stream",
     "text": [
      "e\n",
      "no matter i will get exectuted\n"
     ]
    }
   ],
   "source": [
    "try:\n",
    "    name=input(\"enter your name\")\n",
    "    print(name[20])\n",
    "        \n",
    "except:\n",
    "    print(\"index out of bound exception\")\n",
    "finally:\n",
    "    print(\"no matter i will get exectuted\")\n"
   ]
  },
  {
   "cell_type": "markdown",
   "id": "39721076-236a-43bc-a523-6eca43d99146",
   "metadata": {},
   "source": [
    "# write a python program to implement exception handling mechanism1. 1.use case of -try except 2. try except else 3. try, except else finally"
   ]
  },
  {
   "cell_type": "code",
   "execution_count": 8,
   "id": "ae62ef4a-d540-401a-928e-a2677742e2bd",
   "metadata": {},
   "outputs": [
    {
     "name": "stdin",
     "output_type": "stream",
     "text": [
      "enter num 12\n"
     ]
    }
   ],
   "source": [
    "num=int(input(\"enter num\"))\n",
    "try:\n",
    "    if num%2==1:\n",
    "        print(\"number is odd\")\n",
    "except:\n",
    "    print(\"even number\")\n"
   ]
  },
  {
   "cell_type": "code",
   "execution_count": 22,
   "id": "ae8ec681-4513-40db-96c9-f1998fa3086f",
   "metadata": {},
   "outputs": [
    {
     "name": "stdin",
     "output_type": "stream",
     "text": [
      "enter num 13\n"
     ]
    }
   ],
   "source": [
    "num=int(input(\"enter num\"))\n",
    "try:\n",
    "    if num%2==0:\n",
    "        print(\"even number\")\n",
    "except:\n",
    "    print(\"odd number\")"
   ]
  },
  {
   "cell_type": "code",
   "execution_count": 28,
   "id": "82701679-34f5-4ac7-b4fa-f9758c1b1567",
   "metadata": {},
   "outputs": [
    {
     "name": "stdin",
     "output_type": "stream",
     "text": [
      "enter num v\n"
     ]
    },
    {
     "ename": "ValueError",
     "evalue": "invalid literal for int() with base 10: 'v'",
     "output_type": "error",
     "traceback": [
      "\u001b[1;31m---------------------------------------------------------------------------\u001b[0m",
      "\u001b[1;31mValueError\u001b[0m                                Traceback (most recent call last)",
      "Cell \u001b[1;32mIn[28], line 1\u001b[0m\n\u001b[1;32m----> 1\u001b[0m num\u001b[38;5;241m=\u001b[39m\u001b[38;5;28;43mint\u001b[39;49m\u001b[43m(\u001b[49m\u001b[38;5;28;43minput\u001b[39;49m\u001b[43m(\u001b[49m\u001b[38;5;124;43m\"\u001b[39;49m\u001b[38;5;124;43menter num\u001b[39;49m\u001b[38;5;124;43m\"\u001b[39;49m\u001b[43m)\u001b[49m\u001b[43m)\u001b[49m\n\u001b[0;32m      2\u001b[0m \u001b[38;5;28;01mtry\u001b[39;00m:\n\u001b[0;32m      3\u001b[0m     result\u001b[38;5;241m=\u001b[39m\u001b[38;5;241m10\u001b[39m\u001b[38;5;241m/\u001b[39mnum\n",
      "\u001b[1;31mValueError\u001b[0m: invalid literal for int() with base 10: 'v'"
     ]
    }
   ],
   "source": [
    "num=int(input(\"enter num\"))\n",
    "try:\n",
    "    num=int(\n",
    "    result=10/num\n",
    "\n",
    "except ZeroDivisionError:\n",
    "    print(\"invalid input: please enter a valid input\")\n",
    "except ValueError:\n",
    "    print(\"divisible by zero\")\n",
    "\n",
    "else:\n",
    "    print(\"division is: \", result)"
   ]
  },
  {
   "cell_type": "code",
   "execution_count": null,
   "id": "a3a7cb4e-5e79-4de8-94a7-176b0803aec1",
   "metadata": {},
   "outputs": [],
   "source": []
  }
 ],
 "metadata": {
  "kernelspec": {
   "display_name": "Python 3 (ipykernel)",
   "language": "python",
   "name": "python3"
  },
  "language_info": {
   "codemirror_mode": {
    "name": "ipython",
    "version": 3
   },
   "file_extension": ".py",
   "mimetype": "text/x-python",
   "name": "python",
   "nbconvert_exporter": "python",
   "pygments_lexer": "ipython3",
   "version": "3.13.1"
  }
 },
 "nbformat": 4,
 "nbformat_minor": 5
}
