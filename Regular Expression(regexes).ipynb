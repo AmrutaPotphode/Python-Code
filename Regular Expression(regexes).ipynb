{
 "cells": [
  {
   "cell_type": "markdown",
   "id": "bc32bf24-ff23-45a7-ba30-9cdfe35a7d62",
   "metadata": {},
   "source": [
    "# Regular Expression"
   ]
  },
  {
   "cell_type": "markdown",
   "id": "92dad314-4d4b-489f-af7e-e1327daf29d8",
   "metadata": {},
   "source": [
    "# validates email address by checking for @"
   ]
  },
  {
   "cell_type": "code",
   "execution_count": 1,
   "id": "7b2c8307-0206-4150-acd7-ea2e841d10fb",
   "metadata": {},
   "outputs": [
    {
     "name": "stdin",
     "output_type": "stream",
     "text": [
      "What is your email?? amruta@123\n"
     ]
    },
    {
     "name": "stdout",
     "output_type": "stream",
     "text": [
      "Valid email\n"
     ]
    }
   ],
   "source": [
    "email = input(\"What is your email??\").strip()\n",
    "if \"@\" in email:\n",
    "    print(\"Valid email\")\n",
    "else:\n",
    "    print(\"Invalid email\")"
   ]
  },
  {
   "cell_type": "markdown",
   "id": "5311204d-1bba-4896-9d77-1b153575a38a",
   "metadata": {},
   "source": [
    "# validates email address by checking @ and \".\" too"
   ]
  },
  {
   "cell_type": "code",
   "execution_count": 3,
   "id": "de26a544-32b0-405a-b9a6-7982d3260aa9",
   "metadata": {},
   "outputs": [
    {
     "name": "stdin",
     "output_type": "stream",
     "text": [
      "what is your Email?? amruta@f.ad\n"
     ]
    },
    {
     "name": "stdout",
     "output_type": "stream",
     "text": [
      "Valid email\n"
     ]
    }
   ],
   "source": [
    "email = input(\"what is your Email??\").strip()\n",
    "if \"@\" and \".\" in email:\n",
    "    print(\"Valid email\")\n",
    "else:\n",
    "    print(\"Invalid email\")  "
   ]
  },
  {
   "cell_type": "code",
   "execution_count": 4,
   "id": "077aee04-9b58-443c-ad1e-c1fd95379804",
   "metadata": {},
   "outputs": [
    {
     "name": "stdin",
     "output_type": "stream",
     "text": [
      "what is your Email?? adhfl@fdk.dkfj\n"
     ]
    },
    {
     "name": "stdout",
     "output_type": "stream",
     "text": [
      "Valid email\n"
     ]
    }
   ],
   "source": [
    "email = input(\"what is your Email??\").strip()\n",
    "if \"@\" in email and \".\" in email:\n",
    "    print(\"Valid email\")\n",
    "else:\n",
    "    print(\"Invalid email\")  "
   ]
  },
  {
   "cell_type": "markdown",
   "id": "05e640e7-dba1-4916-9344-7c019921fc7f",
   "metadata": {},
   "source": [
    "# validates email address by checking username and domain separately"
   ]
  },
  {
   "cell_type": "code",
   "execution_count": 10,
   "id": "e17d7510-c747-4d05-9b3c-7f7401208659",
   "metadata": {},
   "outputs": [
    {
     "name": "stdin",
     "output_type": "stream",
     "text": [
      "What is your email?? dslfjdsl.kfd\n"
     ]
    },
    {
     "name": "stdout",
     "output_type": "stream",
     "text": [
      "@ not in email\n",
      "valid email\n"
     ]
    }
   ],
   "source": [
    "try:\n",
    "    email = input(\"What is your email??\").strip()\n",
    "    username, domain = email.split(\"@\")\n",
    "except:\n",
    "    print(\"@ not in email\")\n",
    "    \n",
    "if username and \".\" in domain:\n",
    "    print(\"valid email\")\n",
    "else:\n",
    "    print(\"invalid email\")"
   ]
  },
  {
   "cell_type": "markdown",
   "id": "b257880f-4446-4da5-b9a5-8f6c82c04292",
   "metadata": {},
   "source": [
    "# validates email address by checking whether domain end with .com"
   ]
  },
  {
   "cell_type": "code",
   "execution_count": 21,
   "id": "e8f23d31-1d22-450c-b0c4-f2ce5caf9fde",
   "metadata": {},
   "outputs": [
    {
     "name": "stdin",
     "output_type": "stream",
     "text": [
      "what is your email?? amruta@matoshri.edu.in\n"
     ]
    },
    {
     "name": "stdout",
     "output_type": "stream",
     "text": [
      "username is : amruta\n",
      "domain name is:  matoshri.edu.in\n",
      "Valid email\n"
     ]
    }
   ],
   "source": [
    "email = input(\"what is your email??\")\n",
    "username, domain = email.split(\"@\")\n",
    "print(\"username is :\", username)\n",
    "print(\"domain name is: \", domain)\n",
    "\n",
    "if username and domain.endswith(\".com\") or domain.endswith(\".in\") or domain.endswith(\".org\") or domain.endswith(\".edu\"):\n",
    "    print(\"Valid email\")\n",
    "else:\n",
    "    print(\"Invalid email\")\n"
   ]
  },
  {
   "cell_type": "markdown",
   "id": "95b4d13e-77ff-49f1-bf7c-2fd77d4278b1",
   "metadata": {},
   "source": [
    "# validates email address by checking @ with regex library(regular expression)"
   ]
  },
  {
   "cell_type": "code",
   "execution_count": 23,
   "id": "79b82db0-fd24-446a-a025-1e6c51d1b4ae",
   "metadata": {},
   "outputs": [
    {
     "name": "stdin",
     "output_type": "stream",
     "text": [
      "what is your email? dskfh\n"
     ]
    },
    {
     "name": "stdout",
     "output_type": "stream",
     "text": [
      "Invalid Email\n"
     ]
    }
   ],
   "source": [
    "import re\n",
    "\n",
    "email = input(\"what is your email?\").strip()\n",
    "\n",
    "if re.search(\"@\",email):\n",
    "    print(\"Valid Email\")\n",
    "else:\n",
    "    print(\"Invalid Email\")"
   ]
  },
  {
   "cell_type": "markdown",
   "id": "bea59ceb-012c-4bf9-87d5-1f6fa82b61c8",
   "metadata": {},
   "source": [
    "# adds .* - zero or more character"
   ]
  },
  {
   "cell_type": "code",
   "execution_count": 24,
   "id": "08050ea2-2b54-438a-b733-de337eb4257e",
   "metadata": {},
   "outputs": [
    {
     "name": "stdin",
     "output_type": "stream",
     "text": [
      "what is your email? @\n"
     ]
    },
    {
     "name": "stdout",
     "output_type": "stream",
     "text": [
      "Valid Email\n"
     ]
    }
   ],
   "source": [
    "email = input(\"what is your email?\").strip()\n",
    "\n",
    "if re.search(\".*@.*\",email):\n",
    "    print(\"Valid Email\")\n",
    "else:\n",
    "    print(\"Invalid Email\")"
   ]
  },
  {
   "cell_type": "markdown",
   "id": "4853283b-ced8-4a98-9148-91357aed85a0",
   "metadata": {},
   "source": [
    "# changes * to +  - atleast 1 character before and after @"
   ]
  },
  {
   "cell_type": "code",
   "execution_count": 27,
   "id": "149cd67e-11e7-4db3-9109-f852224cae8c",
   "metadata": {},
   "outputs": [
    {
     "name": "stdin",
     "output_type": "stream",
     "text": [
      "what is your email? @@@\n"
     ]
    },
    {
     "name": "stdout",
     "output_type": "stream",
     "text": [
      "Valid Email\n"
     ]
    }
   ],
   "source": [
    "email = input(\"what is your email?\").strip()\n",
    "\n",
    "if re.search(\".+@.+\",email):\n",
    "    print(\"Valid Email\")\n",
    "else:\n",
    "    print(\"Invalid Email\")"
   ]
  },
  {
   "cell_type": "markdown",
   "id": "249097e2-28d0-43a9-97ac-d6c14917fedd",
   "metadata": {},
   "source": [
    "# Adds \\.com"
   ]
  },
  {
   "cell_type": "code",
   "execution_count": 28,
   "id": "139f8985-4a89-480c-a4f4-e6135601f198",
   "metadata": {},
   "outputs": [
    {
     "name": "stdin",
     "output_type": "stream",
     "text": [
      "What is your email?? sdf@lsdkf.com\n"
     ]
    },
    {
     "name": "stdout",
     "output_type": "stream",
     "text": [
      "valid email\n"
     ]
    }
   ],
   "source": [
    "import re\n",
    "email=input(\"What is your email??\").strip()\n",
    "\n",
    "if re.search(r\".+@.+\\.com\", email):\n",
    "    print(\"valid email\")\n",
    "else:\n",
    "    print(\"invalid email\")"
   ]
  },
  {
   "cell_type": "markdown",
   "id": "0dc49aff-f9e6-4e99-9844-715db803b2b3",
   "metadata": {},
   "source": [
    "# adds ^ and $ to regex"
   ]
  },
  {
   "cell_type": "code",
   "execution_count": 33,
   "id": "b3aace51-884d-4ab1-9827-ec91318e5b9f",
   "metadata": {},
   "outputs": [
    {
     "name": "stdin",
     "output_type": "stream",
     "text": [
      "What is your email fdoej@dsfjl.edu\n"
     ]
    },
    {
     "name": "stdout",
     "output_type": "stream",
     "text": [
      "valid email\n"
     ]
    }
   ],
   "source": [
    "import re\n",
    "email = input(\"What is your email\").strip()\n",
    "if re.search(r\"^.+@.+\\.edu$\",email):\n",
    "    print(\"valid email\")\n",
    "else:\n",
    "    print(\"invalid email\")"
   ]
  },
  {
   "cell_type": "code",
   "execution_count": 34,
   "id": "3d3e76ff-e532-46e7-b13c-0e302f5b6ce8",
   "metadata": {},
   "outputs": [
    {
     "name": "stdin",
     "output_type": "stream",
     "text": [
      "What is your email @@@\n"
     ]
    },
    {
     "name": "stdout",
     "output_type": "stream",
     "text": [
      "invalid email\n"
     ]
    }
   ],
   "source": [
    "import re\n",
    "email = input(\"What is your email\").strip()\n",
    "if re.search(r\"^[^@]+@[^@]+\\.edu$\",email):\n",
    "    print(\"valid email\")\n",
    "else:\n",
    "    print(\"invalid email\")"
   ]
  },
  {
   "cell_type": "markdown",
   "id": "50335153-68a2-4793-9f41-29ed2fd34e48",
   "metadata": {},
   "source": [
    "# adds character class"
   ]
  },
  {
   "cell_type": "code",
   "execution_count": 37,
   "id": "4a16c1b7-9849-4583-a633-d19fa25b3832",
   "metadata": {},
   "outputs": [
    {
     "name": "stdin",
     "output_type": "stream",
     "text": [
      "What is your email?? _amruta25@gmail.com\n"
     ]
    },
    {
     "name": "stdout",
     "output_type": "stream",
     "text": [
      "valid email\n"
     ]
    }
   ],
   "source": [
    "import re\n",
    "email = input(\"What is your email??\").strip()\n",
    "if re.search(r\"^[a-z A-Z 0-9_]+@[a-z A-Z 0-9_]+\\.com$\", email):\n",
    "    print(\"valid email\")\n",
    "else:\n",
    "    print(\"invalid email\")\n",
    "    "
   ]
  },
  {
   "cell_type": "markdown",
   "id": "4885d087-a393-44c8-a08a-6ea6455a1874",
   "metadata": {},
   "source": [
    "# replace character class with \\w"
   ]
  },
  {
   "cell_type": "code",
   "execution_count": 43,
   "id": "d92fa960-7013-41c0-b86b-7a2473d41eab",
   "metadata": {},
   "outputs": [
    {
     "name": "stdin",
     "output_type": "stream",
     "text": [
      "what is your email? amruta@dlsfk.edu\n"
     ]
    },
    {
     "name": "stdout",
     "output_type": "stream",
     "text": [
      "valid email\n"
     ]
    }
   ],
   "source": [
    "import re\n",
    "email = input(\"what is your email?\").strip()\n",
    "\n",
    "if re.search(r\"^\\w+@\\w+\\.(com|in|org|edu)$\", email):\n",
    "    print(\"valid email\")\n",
    "else:\n",
    "    print(\"invalid email\")"
   ]
  },
  {
   "cell_type": "code",
   "execution_count": 1,
   "id": "7d335a17-d096-4958-8508-0bc4170f3ad3",
   "metadata": {},
   "outputs": [
    {
     "name": "stdin",
     "output_type": "stream",
     "text": [
      "what is your email? amruta@gmail.COm\n"
     ]
    },
    {
     "name": "stdout",
     "output_type": "stream",
     "text": [
      "valid email\n"
     ]
    }
   ],
   "source": [
    "import re\n",
    "email = input(\"what is your email?\").strip()\n",
    "\n",
    "if re.search(r\"^\\w+@\\w+\\.(com|in|org|edu)$\", email,re.IGNORECASE):\n",
    "    print(\"valid email\")\n",
    "else:\n",
    "    print(\"invalid email\")"
   ]
  },
  {
   "cell_type": "code",
   "execution_count": 13,
   "id": "24b7e830-f658-4908-878a-8a77d9234c9a",
   "metadata": {},
   "outputs": [
    {
     "name": "stdin",
     "output_type": "stream",
     "text": [
      "what is your email?? sdkjfh@glf.com\n"
     ]
    },
    {
     "name": "stdout",
     "output_type": "stream",
     "text": [
      "Invalid email\n"
     ]
    }
   ],
   "source": [
    "import re\n",
    "email = input(\"what is your email??\")\n",
    "if re.search(r\"[^[a-zA-Z0-9.!#$%&'*+\\/=?^_`{|}~-]+@[a-zA-Z0-9](?:[a-zA-Z0-9-]{0,61}[a-zAZ0-9])?(?:\\.[a-zA-Z0-9](?:[a-zA-Z0-9-]{0,61}[a-zA-Z0-9])?)*$\", email, re.IGNORECASE):\n",
    "    print(\"valid email\")\n",
    "else:\n",
    "    print(\"Invalid email\")"
   ]
  },
  {
   "cell_type": "code",
   "execution_count": null,
   "id": "45763644-ea34-4097-a200-5df561a6327c",
   "metadata": {},
   "outputs": [],
   "source": []
  }
 ],
 "metadata": {
  "kernelspec": {
   "display_name": "Python 3 (ipykernel)",
   "language": "python",
   "name": "python3"
  },
  "language_info": {
   "codemirror_mode": {
    "name": "ipython",
    "version": 3
   },
   "file_extension": ".py",
   "mimetype": "text/x-python",
   "name": "python",
   "nbconvert_exporter": "python",
   "pygments_lexer": "ipython3",
   "version": "3.13.1"
  }
 },
 "nbformat": 4,
 "nbformat_minor": 5
}
