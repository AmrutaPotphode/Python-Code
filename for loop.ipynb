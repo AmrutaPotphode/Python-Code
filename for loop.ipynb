{
 "cells": [
  {
   "cell_type": "markdown",
   "id": "c94e6cef-ee53-4e46-bfe5-7b6064b4e178",
   "metadata": {},
   "source": [
    "# for loop"
   ]
  },
  {
   "cell_type": "code",
   "execution_count": 2,
   "id": "774eb713-5fed-429d-aba1-b9293ea947c6",
   "metadata": {},
   "outputs": [
    {
     "name": "stdout",
     "output_type": "stream",
     "text": [
      "IT 3\n",
      "Shaala 5\n",
      "IT 6\n",
      "IT 9\n",
      "Shaala 10\n",
      "IT 12\n",
      "Welcome to IT Shaala : 15\n",
      "IT 18\n",
      "Shaala 20\n",
      "IT 21\n",
      "IT 24\n",
      "Shaala 25\n",
      "IT 27\n",
      "Welcome to IT Shaala : 30\n",
      "IT 33\n",
      "Shaala 35\n",
      "IT 36\n",
      "IT 39\n",
      "Shaala 40\n",
      "IT 42\n",
      "Welcome to IT Shaala : 45\n",
      "IT 48\n"
     ]
    }
   ],
   "source": [
    "for i in range(1,50):\n",
    "    if i%3==0 and i%5==0:\n",
    "        print(\"Welcome to IT Shaala :\", i)\n",
    "    elif i%3==0:\n",
    "        print(\"IT\", i)\n",
    "    elif i%5==0:\n",
    "        print(\"Shaala\", i)"
   ]
  },
  {
   "cell_type": "markdown",
   "id": "328f3281-0a55-4516-9db6-87f6bafe43b4",
   "metadata": {},
   "source": [
    "# introduce continue and break"
   ]
  },
  {
   "cell_type": "code",
   "execution_count": 5,
   "id": "d29f974a-6310-4bda-b2dd-6807fe290081",
   "metadata": {},
   "outputs": [
    {
     "name": "stdin",
     "output_type": "stream",
     "text": [
      "Enter any number 0\n",
      "Enter any number 6\n"
     ]
    },
    {
     "name": "stdout",
     "output_type": "stream",
     "text": [
      "meow\n",
      "meow\n",
      "meow\n",
      "meow\n",
      "meow\n",
      "meow\n"
     ]
    }
   ],
   "source": [
    "while True:\n",
    "    number=int(input(\"Enter any number\"))\n",
    "    if number<=0:\n",
    "        continue\n",
    "    if number>0:\n",
    "        break\n",
    "for i in range(number):\n",
    "    print(\"meow\")\n"
   ]
  },
  {
   "cell_type": "code",
   "execution_count": 6,
   "id": "39181627-ee97-4c38-a5d1-5dada782ba17",
   "metadata": {},
   "outputs": [
    {
     "name": "stdin",
     "output_type": "stream",
     "text": [
      "enter a number 0\n",
      "enter a number 4\n"
     ]
    },
    {
     "name": "stdout",
     "output_type": "stream",
     "text": [
      "Meow\n",
      "Meow\n",
      "Meow\n",
      "Meow\n"
     ]
    }
   ],
   "source": [
    "while True:\n",
    "    number=int(input(\"enter a number\"))\n",
    "    if number>0:\n",
    "        break\n",
    "\n",
    "for i in range(number):\n",
    "    print(\"Meow\")"
   ]
  },
  {
   "cell_type": "code",
   "execution_count": null,
   "id": "a8d666e3-6f3e-4508-8e1b-5caf5dc61ccf",
   "metadata": {},
   "outputs": [],
   "source": []
  }
 ],
 "metadata": {
  "kernelspec": {
   "display_name": "Python 3 (ipykernel)",
   "language": "python",
   "name": "python3"
  },
  "language_info": {
   "codemirror_mode": {
    "name": "ipython",
    "version": 3
   },
   "file_extension": ".py",
   "mimetype": "text/x-python",
   "name": "python",
   "nbconvert_exporter": "python",
   "pygments_lexer": "ipython3",
   "version": "3.13.1"
  }
 },
 "nbformat": 4,
 "nbformat_minor": 5
}
