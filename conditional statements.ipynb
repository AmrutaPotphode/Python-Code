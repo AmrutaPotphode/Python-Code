{
 "cells": [
  {
   "cell_type": "markdown",
   "id": "0134618e-bce7-44a9-b8c1-502c22bd5893",
   "metadata": {},
   "source": [
    "# Conditional statements / decision making staements / control staements\n",
    "# if"
   ]
  },
  {
   "cell_type": "code",
   "execution_count": 1,
   "id": "aa1244e4-347f-4fba-a1d0-51e104cafc1c",
   "metadata": {},
   "outputs": [
    {
     "name": "stdout",
     "output_type": "stream",
     "text": [
      "india has won the toss\n"
     ]
    }
   ],
   "source": [
    "toss=\"head\" #india and pakistan\n",
    "if toss==\"head\":\n",
    "    print(\"india has won the toss\")\n",
    "    "
   ]
  },
  {
   "cell_type": "code",
   "execution_count": 4,
   "id": "a033de94-29af-44ca-a3d3-3be13c0bcb90",
   "metadata": {},
   "outputs": [
    {
     "name": "stdout",
     "output_type": "stream",
     "text": [
      "light is off\n"
     ]
    }
   ],
   "source": [
    "light_button =False\n",
    "if light_button==True:\n",
    "    print(\"light is on\")\n",
    "if light_button==False:\n",
    "    print(\"light is off\")\n"
   ]
  },
  {
   "cell_type": "code",
   "execution_count": 7,
   "id": "29f1b59f-675d-4cd6-a594-6d1b218fdeeb",
   "metadata": {},
   "outputs": [
    {
     "name": "stdin",
     "output_type": "stream",
     "text": [
      "tell me whether ligth is on or off off\n"
     ]
    },
    {
     "name": "stdout",
     "output_type": "stream",
     "text": [
      "light is off\n"
     ]
    }
   ],
   "source": [
    "light=input(\"tell me whether ligth is on or off\")\n",
    "if light==\"off\":\n",
    "    print(\"light is off\")\n",
    "if light==\"on\":\n",
    "    print(\"light is on\")"
   ]
  },
  {
   "cell_type": "markdown",
   "id": "3ee5a215-97fc-4e2d-b1fa-77093ba6860e",
   "metadata": {},
   "source": [
    "# if else"
   ]
  },
  {
   "cell_type": "code",
   "execution_count": 9,
   "id": "7257af95-2ad4-47ed-ae90-9c3072d824f7",
   "metadata": {},
   "outputs": [
    {
     "name": "stdin",
     "output_type": "stream",
     "text": [
      "enter the value for x 67\n",
      "enter the value for y 87\n"
     ]
    },
    {
     "name": "stdout",
     "output_type": "stream",
     "text": [
      "x is not equal to y\n"
     ]
    }
   ],
   "source": [
    "x=int(input(\"enter the value for x\"))\n",
    "y=int(input(\"enter the value for y\"))\n",
    "\n",
    "if x<y or x>y:\n",
    "    print(\"x is not equal to y\")\n",
    "else:\n",
    "    print(\"both are same\")"
   ]
  },
  {
   "cell_type": "code",
   "execution_count": 10,
   "id": "4f88c737-70d0-4f3c-9315-e097f897708c",
   "metadata": {},
   "outputs": [
    {
     "name": "stdin",
     "output_type": "stream",
     "text": [
      "enter the value for x 12\n",
      "enter the value for y 31\n"
     ]
    },
    {
     "name": "stdout",
     "output_type": "stream",
     "text": [
      "x is not equal to y\n"
     ]
    }
   ],
   "source": [
    "x=int(input(\"enter the value for x\"))\n",
    "y=int(input(\"enter the value for y\"))\n",
    "\n",
    "if x!=y:\n",
    "    print(\"x is not equal to y\")\n",
    "else:\n",
    "    print(\"both are same\")"
   ]
  },
  {
   "cell_type": "code",
   "execution_count": 12,
   "id": "e8399fbd-970f-4edb-afcc-be4756bea46b",
   "metadata": {},
   "outputs": [
    {
     "name": "stdin",
     "output_type": "stream",
     "text": [
      "enter the value for x 67\n",
      "enter the value for y 67\n"
     ]
    },
    {
     "name": "stdout",
     "output_type": "stream",
     "text": [
      "x is equal to y\n"
     ]
    }
   ],
   "source": [
    "\n",
    "x=int(input(\"enter the value for x\"))\n",
    "y=int(input(\"enter the value for y\"))\n",
    "\n",
    "if x==y:\n",
    "    print(\"x is equal to y\")\n",
    "else:\n",
    "    print(\"x and y are not same\")"
   ]
  },
  {
   "cell_type": "markdown",
   "id": "5eaf17e7-858a-422d-931c-25c5000337ea",
   "metadata": {},
   "source": [
    "# if elif else"
   ]
  },
  {
   "cell_type": "markdown",
   "id": "9d2e43c6-36df-405e-bec6-bddec42bcca0",
   "metadata": {},
   "source": [
    " #demonstrates the inequalities and logical operators"
   ]
  },
  {
   "cell_type": "code",
   "execution_count": 18,
   "id": "c421c00c-7e95-4bca-9a6b-2d7d69a03d96",
   "metadata": {},
   "outputs": [
    {
     "name": "stdin",
     "output_type": "stream",
     "text": [
      "Enter your score :  7\n"
     ]
    },
    {
     "name": "stdout",
     "output_type": "stream",
     "text": [
      "Grade: F\n"
     ]
    }
   ],
   "source": [
    "score=float(input(\"Enter your score : \"))\n",
    "\n",
    "if score>=90 and score<=100:\n",
    "    print(\"Grade: A\")\n",
    "elif score>=80 and score<90:\n",
    "    print(\"Grade: B\")\n",
    "elif score>=70 and score<80:\n",
    "    print(\"Grade: C\")\n",
    "elif score>=60 and score<70:\n",
    "    print(\"Grade: D\")\n",
    "else:\n",
    "    print(\"Grade: F\")\n"
   ]
  },
  {
   "cell_type": "code",
   "execution_count": 13,
   "id": "5fc6f516-1a73-4868-bdff-89c1a79721ac",
   "metadata": {},
   "outputs": [
    {
     "name": "stdin",
     "output_type": "stream",
     "text": [
      "Enter your Score :  45\n"
     ]
    },
    {
     "name": "stdout",
     "output_type": "stream",
     "text": [
      "Grade: F\n"
     ]
    }
   ],
   "source": [
    "Score = float(input(\"Enter your Score : \"))\n",
    "\n",
    "if 90<=Score and Score<=100:\n",
    "    print(\"Grade: A\")\n",
    "elif 80<=Score and Score<90:\n",
    "    print(\"Grade: B\")\n",
    "elif 70<=Score and Score<80:\n",
    "    print(\"Grade: C\")\n",
    "else:\n",
    "    print(\"Grade: F\")"
   ]
  },
  {
   "cell_type": "markdown",
   "id": "16507edf-2b9c-4e32-a615-ad81f822b7c0",
   "metadata": {},
   "source": [
    "# Demonstrates chain comparison"
   ]
  },
  {
   "cell_type": "code",
   "execution_count": 17,
   "id": "d3830122-c5e7-4879-9a0c-8e89855fc887",
   "metadata": {},
   "outputs": [
    {
     "name": "stdin",
     "output_type": "stream",
     "text": [
      "Please enter your score 56\n"
     ]
    },
    {
     "name": "stdout",
     "output_type": "stream",
     "text": [
      "Grade: F\n"
     ]
    }
   ],
   "source": [
    "score= float(input(\"Please enter your score\"))\n",
    "\n",
    "if 90<=score<=100:\n",
    "    print(\"Grade: A\")\n",
    "elif 80<=score<90:\n",
    "    print(\"Grade: B\")\n",
    "elif 70<=score<80:\n",
    "    print(\"Grade: C\")\n",
    "elif 60<=score<70:\n",
    "    print(\"Grade: D\")\n",
    "else:\n",
    "    print(\"Grade: F\")"
   ]
  },
  {
   "cell_type": "markdown",
   "id": "e6012186-15c3-407a-9d9b-e93a25430e99",
   "metadata": {},
   "source": [
    "# Demonstrates fewer comparisons"
   ]
  },
  {
   "cell_type": "code",
   "execution_count": 24,
   "id": "f9737ff5-002d-4dff-bd7d-0d11b2ade764",
   "metadata": {},
   "outputs": [
    {
     "name": "stdin",
     "output_type": "stream",
     "text": [
      "Enter your score 67\n"
     ]
    },
    {
     "name": "stdout",
     "output_type": "stream",
     "text": [
      "Grade: D\n"
     ]
    }
   ],
   "source": [
    "score = float(input(\"Enter your score\"))\n",
    "\n",
    "if score<=100:\n",
    "    if 90<=score<=100:\n",
    "        print(\"Grade: A\")\n",
    "    elif score>=80:\n",
    "        print(\"Grade: B\")\n",
    "    elif score>=70:\n",
    "        print(\"Grade: C\")\n",
    "    elif score>=60:\n",
    "        print(\"Grade: D\")\n",
    "    else:\n",
    "        print(\"Grade: F\")\n",
    "else:\n",
    "    print(\"Please enter valid score\")"
   ]
  },
  {
   "cell_type": "markdown",
   "id": "8804cae3-9157-4614-9a58-db9e3e8c9f1c",
   "metadata": {},
   "source": [
    "# Compare strings"
   ]
  },
  {
   "cell_type": "code",
   "execution_count": 32,
   "id": "e588a758-4125-4c05-90d9-2f7491c1a6fd",
   "metadata": {},
   "outputs": [
    {
     "name": "stdin",
     "output_type": "stream",
     "text": [
      "Do you agree?? y\n"
     ]
    },
    {
     "name": "stdout",
     "output_type": "stream",
     "text": [
      "y\n",
      "Not Agreed\n"
     ]
    }
   ],
   "source": [
    "answer = input(\"Do you agree??\").strip().lower()\n",
    "print(answer)\n",
    "if answer==\"yes\":\n",
    "    print(\"Agreed\")\n",
    "else:\n",
    "    print(\"Not Agreed\")"
   ]
  },
  {
   "cell_type": "code",
   "execution_count": 34,
   "id": "6f184bb8-5e34-4864-88a6-5393ab4d4566",
   "metadata": {},
   "outputs": [
    {
     "name": "stdin",
     "output_type": "stream",
     "text": [
      "Do you agree?? yaah\n"
     ]
    },
    {
     "name": "stdout",
     "output_type": "stream",
     "text": [
      "Agreed\n"
     ]
    }
   ],
   "source": [
    "#uses of or operator\n",
    "answer = input(\"Do you agree??\").strip().lower()\n",
    "\n",
    "if answer == \"yes\" or answer == \"y\" or answer ==\"yaah\":\n",
    "    print(\"Agreed\")\n",
    "else:\n",
    "    print(\"Not Agreed\")"
   ]
  },
  {
   "cell_type": "code",
   "execution_count": 35,
   "id": "ae38ca42-c84e-410e-a489-c1fcc36b6f93",
   "metadata": {},
   "outputs": [
    {
     "name": "stdin",
     "output_type": "stream",
     "text": [
      "Do you agree?? ye\n"
     ]
    },
    {
     "name": "stdout",
     "output_type": "stream",
     "text": [
      "Agreed\n"
     ]
    }
   ],
   "source": [
    "#startswith\n",
    "answer = input(\"Do you agree??\").strip().lower()\n",
    "\n",
    "if answer.startswith(\"y\"):\n",
    "    print(\"Agreed\")\n",
    "else:\n",
    "    print(\"Not Agreed\")"
   ]
  },
  {
   "cell_type": "markdown",
   "id": "1e9cb513-f030-4a79-814e-cf3ae480842a",
   "metadata": {},
   "source": [
    "# compare multiple strings using if/elif/else"
   ]
  },
  {
   "cell_type": "code",
   "execution_count": 38,
   "id": "959f0d78-edb2-4bf6-b71e-787af15811cc",
   "metadata": {},
   "outputs": [
    {
     "name": "stdin",
     "output_type": "stream",
     "text": [
      "What is your Name?? Rushi\n"
     ]
    },
    {
     "name": "stdout",
     "output_type": "stream",
     "text": [
      "Who ??\n"
     ]
    }
   ],
   "source": [
    "name = input(\"What is your Name??\")\n",
    "\n",
    "if name==\"Amruta\":\n",
    "    print(\"Amruta belongs to Shevgaon\")\n",
    "elif name==\"Snehal\":\n",
    "    print(\"Snehal belongs to Nashik\")\n",
    "elif name==\"Karishma\":\n",
    "    print(\"Karishma belongs to Pune\")\n",
    "else:\n",
    "    print(\"Who ??\")\n"
   ]
  },
  {
   "cell_type": "markdown",
   "id": "b1dc37a3-ec13-4b96-8145-2b0dc59aea33",
   "metadata": {},
   "source": [
    "# compare multiple strings using or operator"
   ]
  },
  {
   "cell_type": "code",
   "execution_count": 42,
   "id": "54c08839-a0e7-4cb2-b8e3-505e98fda532",
   "metadata": {},
   "outputs": [
    {
     "name": "stdin",
     "output_type": "stream",
     "text": [
      "What is your Name?? santa\n"
     ]
    },
    {
     "name": "stdout",
     "output_type": "stream",
     "text": [
      "who ??\n"
     ]
    }
   ],
   "source": [
    "name = input(\"What is your Name??\")\n",
    "\n",
    "if name==\"Amruta\" or name==\"Rushi\":\n",
    "    print(\"from Ahmednagar\")\n",
    "elif name==\"Snehal\":\n",
    "    print(\"from Nashik\")\n",
    "else:\n",
    "    print(\"who ??\")"
   ]
  },
  {
   "cell_type": "markdown",
   "id": "ddfece7c-85fc-47ec-9a42-25d0cc35f2a0",
   "metadata": {},
   "source": [
    "# modulus operator(%)"
   ]
  },
  {
   "cell_type": "code",
   "execution_count": 44,
   "id": "7c66c265-89c4-4143-9c0d-1659acd7fcdc",
   "metadata": {},
   "outputs": [
    {
     "name": "stdin",
     "output_type": "stream",
     "text": [
      "enter any number:  67\n"
     ]
    },
    {
     "name": "stdout",
     "output_type": "stream",
     "text": [
      "odd\n"
     ]
    }
   ],
   "source": [
    "num = int(input(\"enter any number: \"))\n",
    "\n",
    "if num%2==0:\n",
    "    print(\"even\")\n",
    "else:\n",
    "    print(\"odd\")"
   ]
  },
  {
   "cell_type": "markdown",
   "id": "8ede35f4-8f1e-4b63-beef-584ff4e5a080",
   "metadata": {},
   "source": [
    "# match cases its similar to switch cases:"
   ]
  },
  {
   "cell_type": "code",
   "execution_count": 48,
   "id": "992f9cf1-591b-4bae-b8b3-578943d3f8f3",
   "metadata": {},
   "outputs": [
    {
     "name": "stdin",
     "output_type": "stream",
     "text": [
      "Please choose your language: \n",
      " 1. Press 1 for Marathi \n",
      " 2. press 2 for Hindi \n",
      " 3. press 3 for English \n",
      " 5\n"
     ]
    },
    {
     "name": "stdout",
     "output_type": "stream",
     "text": [
      "please select valid input or valid choice\n"
     ]
    }
   ],
   "source": [
    "choice = int(input(\"Please choose your language: \\n 1. Press 1 for Marathi \\n 2. press 2 for Hindi \\n 3. press 3 for English \\n\"))\n",
    "\n",
    "match choice:\n",
    "    case 1:\n",
    "        print(\"Customer wants to speak in Marathi\")\n",
    "    case 2:\n",
    "        print(\"Customer wants to speak in Hindi\")\n",
    "    case 3:\n",
    "        print(\"Customer wants to speak in English\")\n",
    "    case _:\n",
    "        print(\"please select valid input or valid choice\")"
   ]
  },
  {
   "cell_type": "code",
   "execution_count": 53,
   "id": "fc8fe3b7-7e9e-4529-bfe4-d348a31a8011",
   "metadata": {},
   "outputs": [
    {
     "name": "stdin",
     "output_type": "stream",
     "text": [
      " 1. press 1 for Addition \n",
      " 2. press 2 for substraction \n",
      " 3. press 3 for multiplication \n",
      " 4. press 4 for division \n",
      " 2\n",
      "Enter number1 23\n",
      "Enter number2 2\n"
     ]
    },
    {
     "name": "stdout",
     "output_type": "stream",
     "text": [
      "Substraction of 23 and 2 is :  21\n"
     ]
    }
   ],
   "source": [
    "choice = int(input(\" 1. press 1 for Addition \\n 2. press 2 for substraction \\n 3. press 3 for multiplication \\n 4. press 4 for division \\n\"))\n",
    "\n",
    "match choice:\n",
    "    case 1:\n",
    "        num1=int(input(\"Enter number1\"))\n",
    "        num2=int(input(\"Enter number2\"))\n",
    "        add = num1+num2\n",
    "        print(f\"addition of {num1} and {num2} is : \", add)\n",
    "    case 2:\n",
    "        num1=int(input(\"Enter number1\"))\n",
    "        num2=int(input(\"Enter number2\"))\n",
    "        substraction = num1-num22\n",
    "        \n",
    "        print(f\"Substraction of {num1} and {num2} is : \",substraction)\n",
    "    case 3:\n",
    "        num1=int(input(\"Enter number1\"))\n",
    "        num2=int(input(\"Enter number2\"))\n",
    "        Multiplication = num1*num2\n",
    "        print(f\"Multiplication of {num1} and {num2} is : \",Multiplication)\n",
    "    case 4:\n",
    "        num1=int(input(\"Enter number1\"))\n",
    "        num2=int(input(\"Enter number2\"))\n",
    "        division = num1/num2\n",
    "        print(f\"division of {num1} and {num2} is : \",division)\n",
    "    case _:\n",
    "        print(\"Please enter a valid choice\")\n",
    "    \n",
    "    "
   ]
  },
  {
   "cell_type": "markdown",
   "id": "ed7855ac-6d85-47b8-9443-4e035f95a18a",
   "metadata": {},
   "source": [
    "#create user defined function"
   ]
  },
  {
   "cell_type": "code",
   "execution_count": 54,
   "id": "739c8b20-88e8-4ce8-9b71-e24e1d7373c3",
   "metadata": {},
   "outputs": [],
   "source": [
    "#function without parameter\n",
    "def hi():\n",
    "    print(\"Good Afternoon\")"
   ]
  },
  {
   "cell_type": "code",
   "execution_count": 55,
   "id": "dec0d6db-3c48-44a7-b23e-e1042052b697",
   "metadata": {},
   "outputs": [
    {
     "name": "stdout",
     "output_type": "stream",
     "text": [
      "Good Afternoon\n"
     ]
    }
   ],
   "source": [
    "hi()"
   ]
  },
  {
   "cell_type": "code",
   "execution_count": 56,
   "id": "273433a8-9ecf-490a-996f-ad9df61f5d58",
   "metadata": {},
   "outputs": [
    {
     "name": "stdout",
     "output_type": "stream",
     "text": [
      "Good Afternoon\n"
     ]
    }
   ],
   "source": [
    "hi()"
   ]
  },
  {
   "cell_type": "code",
   "execution_count": 57,
   "id": "4f4a7767-9479-4f1b-9249-3da950c033c3",
   "metadata": {},
   "outputs": [],
   "source": [
    "#function with parameter\n",
    "def greeting(hi):\n",
    "    print(hi)"
   ]
  },
  {
   "cell_type": "code",
   "execution_count": 58,
   "id": "b58df9c8-747f-4b08-a113-35e7048f6f88",
   "metadata": {},
   "outputs": [
    {
     "name": "stdout",
     "output_type": "stream",
     "text": [
      "Good Afternoon\n"
     ]
    }
   ],
   "source": [
    "greeting(\"Good Afternoon\")"
   ]
  },
  {
   "cell_type": "code",
   "execution_count": 59,
   "id": "96f28564-b480-4c71-998f-b79580bb129c",
   "metadata": {},
   "outputs": [
    {
     "name": "stdout",
     "output_type": "stream",
     "text": [
      "good evening\n"
     ]
    }
   ],
   "source": [
    "greeting(\"good evening\")"
   ]
  },
  {
   "cell_type": "code",
   "execution_count": 60,
   "id": "4f3059b4-8ced-43c3-bb4a-202369f4feca",
   "metadata": {},
   "outputs": [
    {
     "name": "stdout",
     "output_type": "stream",
     "text": [
      "good morning\n"
     ]
    }
   ],
   "source": [
    "greeting(\"good morning\")"
   ]
  },
  {
   "cell_type": "code",
   "execution_count": 61,
   "id": "76f070d3-d1b1-4ac1-8674-6ce0c5743088",
   "metadata": {},
   "outputs": [],
   "source": [
    "def greeting(hi=\"welcometoItshaala\"):\n",
    "    print(hi)"
   ]
  },
  {
   "cell_type": "code",
   "execution_count": 62,
   "id": "5e08b26a-402c-4671-84a9-b4603758779e",
   "metadata": {},
   "outputs": [
    {
     "name": "stdout",
     "output_type": "stream",
     "text": [
      "welcometoItshaala\n"
     ]
    }
   ],
   "source": [
    "greeting()"
   ]
  },
  {
   "cell_type": "code",
   "execution_count": 63,
   "id": "5887f310-01bb-4914-9d29-327382f65cc1",
   "metadata": {},
   "outputs": [
    {
     "name": "stdout",
     "output_type": "stream",
     "text": [
      "good morning\n"
     ]
    }
   ],
   "source": [
    "greeting(\"good morning\")"
   ]
  },
  {
   "cell_type": "code",
   "execution_count": 64,
   "id": "10cf06cc-deb8-4fda-8032-a732f401f13d",
   "metadata": {},
   "outputs": [
    {
     "name": "stdout",
     "output_type": "stream",
     "text": [
      "welcometoItshaala\n"
     ]
    }
   ],
   "source": [
    "greeting()"
   ]
  },
  {
   "cell_type": "code",
   "execution_count": 72,
   "id": "e7c28ae1-e88c-4afb-b77a-ac25e8d27d10",
   "metadata": {},
   "outputs": [],
   "source": [
    "def addition(num1,num2):\n",
    "    return(num1+num2)"
   ]
  },
  {
   "cell_type": "code",
   "execution_count": 67,
   "id": "887dbcab-ac0d-4139-a8cb-6a55028a7a76",
   "metadata": {},
   "outputs": [
    {
     "name": "stdout",
     "output_type": "stream",
     "text": [
      "79\n"
     ]
    }
   ],
   "source": [
    "addition(34,45)"
   ]
  },
  {
   "cell_type": "code",
   "execution_count": 69,
   "id": "85c6b845-ffd9-4615-a5a2-05026af3cd6b",
   "metadata": {},
   "outputs": [
    {
     "name": "stdout",
     "output_type": "stream",
     "text": [
      "15\n"
     ]
    }
   ],
   "source": [
    "addition(10,5)"
   ]
  },
  {
   "cell_type": "code",
   "execution_count": 73,
   "id": "f8d03e53-3407-4c8f-9cbb-c46e00719071",
   "metadata": {},
   "outputs": [
    {
     "name": "stdin",
     "output_type": "stream",
     "text": [
      "enter the number1 98\n",
      "enter the number2 43\n"
     ]
    },
    {
     "name": "stdout",
     "output_type": "stream",
     "text": [
      "addition of two numbers 141\n"
     ]
    }
   ],
   "source": [
    "num1 = int(input(\"enter the number1\"))\n",
    "num2 = int(input(\"enter the number2\"))\n",
    "\n",
    "print(\"addition of two numbers\",addition(num1,num2))"
   ]
  },
  {
   "cell_type": "code",
   "execution_count": null,
   "id": "e079cbbf-7204-412d-b207-f524a0aa4952",
   "metadata": {},
   "outputs": [],
   "source": []
  }
 ],
 "metadata": {
  "kernelspec": {
   "display_name": "Python 3 (ipykernel)",
   "language": "python",
   "name": "python3"
  },
  "language_info": {
   "codemirror_mode": {
    "name": "ipython",
    "version": 3
   },
   "file_extension": ".py",
   "mimetype": "text/x-python",
   "name": "python",
   "nbconvert_exporter": "python",
   "pygments_lexer": "ipython3",
   "version": "3.13.1"
  }
 },
 "nbformat": 4,
 "nbformat_minor": 5
}
