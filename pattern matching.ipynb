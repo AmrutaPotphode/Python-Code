{
 "cells": [
  {
   "cell_type": "markdown",
   "id": "cf7303e3-a3d9-4fae-beb0-2aebad5d3cd6",
   "metadata": {},
   "source": [
    "# right- angled triangle pattern\n",
    "# *\n",
    "# **\n",
    "# ***\n",
    "# ****"
   ]
  },
  {
   "cell_type": "code",
   "execution_count": 11,
   "id": "4b07044b-c698-4987-ab14-52f047675002",
   "metadata": {},
   "outputs": [
    {
     "name": "stdout",
     "output_type": "stream",
     "text": [
      "*\n",
      "**\n",
      "***\n",
      "****\n",
      "*****\n"
     ]
    }
   ],
   "source": [
    "rows = 5\n",
    "for i in range(1, rows+1):\n",
    "    print(\"*\"*i)"
   ]
  },
  {
   "cell_type": "code",
   "execution_count": 28,
   "id": "6d808a07-5ead-42b4-a402-9869405612a8",
   "metadata": {},
   "outputs": [
    {
     "name": "stdout",
     "output_type": "stream",
     "text": [
      "\n",
      "*\n",
      "**\n",
      "***\n",
      "****\n",
      "*****\n"
     ]
    }
   ],
   "source": [
    "i = 0\n",
    "while i<=5:\n",
    "    print(\"*\"*i)\n",
    "    i=i+1"
   ]
  },
  {
   "cell_type": "markdown",
   "id": "e518e4f0-a6c2-4981-917a-b62f67ed9469",
   "metadata": {},
   "source": [
    "# *****\n",
    "# ****\n",
    "# ***\n",
    "# **\n",
    "# *"
   ]
  },
  {
   "cell_type": "code",
   "execution_count": 19,
   "id": "db8aeab8-5358-461d-b89a-71bccadfe320",
   "metadata": {},
   "outputs": [
    {
     "name": "stdout",
     "output_type": "stream",
     "text": [
      "*****\n",
      "****\n",
      "***\n",
      "**\n",
      "*\n"
     ]
    }
   ],
   "source": [
    "rows=5\n",
    "for i in range(rows,0,-1):\n",
    "    print(\"*\"*i)"
   ]
  },
  {
   "cell_type": "code",
   "execution_count": 30,
   "id": "6829e6d2-aad9-4db2-901b-7020c19c6dbb",
   "metadata": {},
   "outputs": [
    {
     "name": "stdout",
     "output_type": "stream",
     "text": [
      "*****\n",
      "****\n",
      "***\n",
      "**\n",
      "*\n"
     ]
    }
   ],
   "source": [
    "i = 5\n",
    "while i>0:\n",
    "    print(\"*\"*i)\n",
    "    i=i-1"
   ]
  },
  {
   "cell_type": "markdown",
   "id": "d8d2060d-bd2f-4d4c-960c-879cc0619842",
   "metadata": {},
   "source": [
    "# pyramid pattern\n",
    "#      *\n",
    "#    * * *\n",
    "#   * * * * *\n",
    "# * * * * * * *"
   ]
  },
  {
   "cell_type": "code",
   "execution_count": 32,
   "id": "3a5a03e5-18ce-4181-8969-256783f163d7",
   "metadata": {},
   "outputs": [
    {
     "name": "stdout",
     "output_type": "stream",
     "text": [
      "    *\n",
      "   ***\n",
      "  *****\n",
      " *******\n",
      "*********\n"
     ]
    }
   ],
   "source": [
    "rows = 5\n",
    "for i in range(1, rows+1):\n",
    "    print(\" \"*(rows-i)+\"*\"*(2*i-1))"
   ]
  },
  {
   "cell_type": "code",
   "execution_count": 4,
   "id": "459b3109-9265-48af-be5c-793cc764e56d",
   "metadata": {},
   "outputs": [],
   "source": [
    "rows=5\n",
    "while rows<=0:\n",
    "    print(\" \"*(rows-i)+\"*\"*(2*i-1))\n",
    "    rows=i+1"
   ]
  },
  {
   "cell_type": "code",
   "execution_count": 1,
   "id": "3974736e-7eec-4dcb-9468-2b944e986278",
   "metadata": {},
   "outputs": [
    {
     "name": "stdout",
     "output_type": "stream",
     "text": [
      "*****\n",
      " ***\n",
      "  *\n"
     ]
    }
   ],
   "source": [
    "rows=3\n",
    "for i in range(rows,0,-1):\n",
    "    print(\" \"*(rows-i)+\"*\"*(2*i-1))"
   ]
  },
  {
   "cell_type": "code",
   "execution_count": null,
   "id": "8613436c-8836-4dae-9bd8-fc458c79e329",
   "metadata": {},
   "outputs": [],
   "source": []
  },
  {
   "cell_type": "markdown",
   "id": "380fe15b-697d-4b01-a4dc-3cc20259eea5",
   "metadata": {},
   "source": [
    "# Diamond pattern\n",
    "#     *\n",
    "#   * * *\n",
    "# * * * * *\n",
    "#   * * *\n",
    "#     *"
   ]
  },
  {
   "cell_type": "code",
   "execution_count": 1,
   "id": "04fbe333-05a2-42f5-a848-396ad0b71a75",
   "metadata": {},
   "outputs": [
    {
     "name": "stdout",
     "output_type": "stream",
     "text": [
      "    *\n",
      "   ***\n",
      "  *****\n",
      " *******\n",
      "*********\n",
      " *******\n",
      "  *****\n",
      "   ***\n",
      "    *\n"
     ]
    }
   ],
   "source": [
    "rows=5\n",
    "for i in range(1, rows+1):\n",
    "    print(\" \"*(rows-i)+\"*\"*(2*i-1))\n",
    "rows=5\n",
    "for i in range(rows-1,0,-1):\n",
    "    print(\" \"*(rows-i)+\"*\"*(2*i-1))\n"
   ]
  },
  {
   "cell_type": "markdown",
   "id": "2c5de2cc-3398-472e-96de-af494f057bb3",
   "metadata": {},
   "source": [
    "# 1\n",
    "# 1 1 \n",
    "# 1 1 1 \n",
    "# 1 1 1 1\n",
    "# 1 1 1 1 1 "
   ]
  },
  {
   "cell_type": "code",
   "execution_count": 53,
   "id": "c9c27806-b632-4363-947a-68b09b15dd52",
   "metadata": {},
   "outputs": [
    {
     "name": "stdout",
     "output_type": "stream",
     "text": [
      "1\n",
      "11\n",
      "111\n",
      "1111\n",
      "11111\n"
     ]
    }
   ],
   "source": [
    "rows=5\n",
    "for i in range(1, rows+1):\n",
    "    print(\"1\"*i)"
   ]
  },
  {
   "cell_type": "code",
   "execution_count": 54,
   "id": "ea1f13d7-bb9b-4279-8bac-6a5def8ec92c",
   "metadata": {},
   "outputs": [
    {
     "name": "stdout",
     "output_type": "stream",
     "text": [
      "11111\n",
      "1111\n",
      "111\n",
      "11\n",
      "1\n"
     ]
    }
   ],
   "source": [
    "rows=5\n",
    "for i in range(rows,0,-1):\n",
    "    print(\"1\"*i)"
   ]
  },
  {
   "cell_type": "markdown",
   "id": "30deac2c-133b-48c9-b83b-10e1896976a6",
   "metadata": {},
   "source": [
    "# 1\n",
    "# 2 3\n",
    "# 3 4 5\n",
    "# 4 5 6 7"
   ]
  },
  {
   "cell_type": "code",
   "execution_count": 26,
   "id": "22d969ae-b523-41c3-a850-67ce2a016fe6",
   "metadata": {},
   "outputs": [
    {
     "name": "stdout",
     "output_type": "stream",
     "text": [
      "1 \n",
      "2 3 \n",
      "3 4 5 \n",
      "4 5 6 7 \n"
     ]
    }
   ],
   "source": [
    "rows=4\n",
    "for i in range(1, rows+1):\n",
    "    for j in range (i):\n",
    "        print(i+j, end=\" \")\n",
    "    print()"
   ]
  },
  {
   "cell_type": "code",
   "execution_count": null,
   "id": "aa7e2d6e-b3f8-4d2c-b719-b5271a5a52f6",
   "metadata": {},
   "outputs": [],
   "source": [
    "rows"
   ]
  },
  {
   "cell_type": "markdown",
   "id": "895527f4-6ad1-4ff2-946b-895305b30c44",
   "metadata": {},
   "source": [
    "# factorial numbers\n",
    "# 2=2* 1\n",
    "# 3=3* 2 *1\n",
    "# 4=4 *3 *2 *1"
   ]
  },
  {
   "cell_type": "code",
   "execution_count": 15,
   "id": "c9c7fc07-8e1c-486a-bb05-cc2d2a920eae",
   "metadata": {},
   "outputs": [
    {
     "name": "stdin",
     "output_type": "stream",
     "text": [
      "Enter any number:  3\n"
     ]
    },
    {
     "name": "stdout",
     "output_type": "stream",
     "text": [
      "The factorial of 3 is 6.\n"
     ]
    }
   ],
   "source": [
    "number = int(input(\"Enter any number: \"))\n",
    "result = 1\n",
    "for i in range(1, number + 1): \n",
    "    result *= i\n",
    "print(f\"The factorial of {number} is {result}.\")\n"
   ]
  },
  {
   "cell_type": "markdown",
   "id": "1310b1fd-fdeb-452a-9fdb-d69cf84a6c3f",
   "metadata": {},
   "source": [
    "# prime numbers\n",
    "# numbers which are divisible by 1 and itself only"
   ]
  },
  {
   "cell_type": "code",
   "execution_count": 13,
   "id": "ce213fdd-8eb1-4fd4-b8fa-8a5498833a82",
   "metadata": {},
   "outputs": [
    {
     "name": "stdin",
     "output_type": "stream",
     "text": [
      "Enter a number to calculate its factorial:  4\n"
     ]
    },
    {
     "name": "stdout",
     "output_type": "stream",
     "text": [
      "The factorial of 4 is 24.\n"
     ]
    }
   ],
   "source": [
    "number=int(input(\"enter any number :\"))\n"
   ]
  },
  {
   "cell_type": "code",
   "execution_count": null,
   "id": "6bf4ee7e-f429-4e29-8cb9-1b6c702d2fa3",
   "metadata": {},
   "outputs": [],
   "source": []
  }
 ],
 "metadata": {
  "kernelspec": {
   "display_name": "Python 3 (ipykernel)",
   "language": "python",
   "name": "python3"
  },
  "language_info": {
   "codemirror_mode": {
    "name": "ipython",
    "version": 3
   },
   "file_extension": ".py",
   "mimetype": "text/x-python",
   "name": "python",
   "nbconvert_exporter": "python",
   "pygments_lexer": "ipython3",
   "version": "3.13.1"
  }
 },
 "nbformat": 4,
 "nbformat_minor": 5
}
