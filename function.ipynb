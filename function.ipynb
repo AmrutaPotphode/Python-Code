{
 "cells": [
  {
   "cell_type": "markdown",
   "id": "03ee3a9f-e3ac-4ccb-9548-ed5df2c11aa2",
   "metadata": {},
   "source": [
    "# Create an user defined function in python"
   ]
  },
  {
   "cell_type": "code",
   "execution_count": 1,
   "id": "8f6059c2-be6d-4c6b-b30f-cb434a8795e3",
   "metadata": {},
   "outputs": [],
   "source": [
    "def hi():\n",
    "    pass"
   ]
  },
  {
   "cell_type": "code",
   "execution_count": 2,
   "id": "e7a25a5b-3197-41c3-84e1-8302fdae0b53",
   "metadata": {},
   "outputs": [],
   "source": [
    "#making call to a function\n",
    "hi()"
   ]
  },
  {
   "cell_type": "markdown",
   "id": "9c141f9e-da34-40e1-ad97-d1590438b9e6",
   "metadata": {},
   "source": [
    "# create a function which will say hii"
   ]
  },
  {
   "cell_type": "code",
   "execution_count": 3,
   "id": "7b5c8d30-8701-4464-bf4c-1dc66bff89f4",
   "metadata": {},
   "outputs": [],
   "source": [
    "def hi():\n",
    "    print(\"hii\")"
   ]
  },
  {
   "cell_type": "code",
   "execution_count": 4,
   "id": "0d4a51bd-8741-4766-9a99-181c35b79bcd",
   "metadata": {},
   "outputs": [
    {
     "name": "stdout",
     "output_type": "stream",
     "text": [
      "hii\n"
     ]
    }
   ],
   "source": [
    "hi()"
   ]
  },
  {
   "cell_type": "markdown",
   "id": "20e6cb66-141d-446d-8ca5-b64b6cc0d995",
   "metadata": {},
   "source": [
    "# create a function greeting which will have one parameter"
   ]
  },
  {
   "cell_type": "code",
   "execution_count": 5,
   "id": "2547f30f-ed5b-42f7-8823-c2cb6fec2913",
   "metadata": {},
   "outputs": [],
   "source": [
    "def greeting(msg):\n",
    "    print(msg)"
   ]
  },
  {
   "cell_type": "code",
   "execution_count": 7,
   "id": "e48cbe43-e554-4964-82f3-6df27ef7ad09",
   "metadata": {},
   "outputs": [
    {
     "name": "stdout",
     "output_type": "stream",
     "text": [
      "Welcome\n"
     ]
    }
   ],
   "source": [
    "greeting(\"Welcome\")"
   ]
  },
  {
   "cell_type": "code",
   "execution_count": 8,
   "id": "3dd5de73-d800-48e3-9f6a-54b88c3b0078",
   "metadata": {},
   "outputs": [
    {
     "name": "stdout",
     "output_type": "stream",
     "text": [
      "congratulations on your success\n"
     ]
    }
   ],
   "source": [
    "greeting(\"congratulations on your success\")"
   ]
  },
  {
   "cell_type": "code",
   "execution_count": 9,
   "id": "0b9925d5-7727-4ae8-884e-d8238a5524ee",
   "metadata": {},
   "outputs": [
    {
     "name": "stdout",
     "output_type": "stream",
     "text": [
      "Good Morning\n"
     ]
    }
   ],
   "source": [
    "greeting(\"Good Morning\")"
   ]
  },
  {
   "cell_type": "markdown",
   "id": "8a0dbe2c-0d74-4dbb-b397-bcd180841737",
   "metadata": {},
   "source": [
    "# Greeting() with parameter and its default value"
   ]
  },
  {
   "cell_type": "code",
   "execution_count": 10,
   "id": "2ddd9b3e-5856-45c7-a3cd-7015a3c4370d",
   "metadata": {},
   "outputs": [],
   "source": [
    "def greeting(msg=\"Welcome\"):\n",
    "    print(msg)"
   ]
  },
  {
   "cell_type": "code",
   "execution_count": 11,
   "id": "b754618c-e46d-4c18-b8dd-5757e366a6f4",
   "metadata": {},
   "outputs": [
    {
     "name": "stdout",
     "output_type": "stream",
     "text": [
      "Welcome\n"
     ]
    }
   ],
   "source": [
    "greeting()"
   ]
  },
  {
   "cell_type": "code",
   "execution_count": 12,
   "id": "bad2448e-bc0b-4049-9c9f-e3a532df91fa",
   "metadata": {},
   "outputs": [
    {
     "name": "stdout",
     "output_type": "stream",
     "text": [
      "Hello\n"
     ]
    }
   ],
   "source": [
    "greeting(\"Hello\")"
   ]
  },
  {
   "cell_type": "code",
   "execution_count": 13,
   "id": "e098ab43-50ba-49ad-9a5c-4624a6a65004",
   "metadata": {},
   "outputs": [
    {
     "name": "stdout",
     "output_type": "stream",
     "text": [
      "Welcome to IT shaala\n"
     ]
    }
   ],
   "source": [
    "greeting(\"Welcome to IT shaala\")"
   ]
  },
  {
   "cell_type": "code",
   "execution_count": 14,
   "id": "3c7e6405-bc45-44ae-9b90-7ff96ee07995",
   "metadata": {},
   "outputs": [
    {
     "name": "stdin",
     "output_type": "stream",
     "text": [
      "Please enter a greeting msg Congratulations on your success\n"
     ]
    },
    {
     "name": "stdout",
     "output_type": "stream",
     "text": [
      "Congratulations on your success\n"
     ]
    }
   ],
   "source": [
    "msg=input(\"Please enter a greeting msg\")\n",
    "greeting(msg)"
   ]
  },
  {
   "cell_type": "markdown",
   "id": "7f73bcea-19e7-4f7f-8645-b66e71781f37",
   "metadata": {},
   "source": [
    "# create a function sum() - task perform two number adition"
   ]
  },
  {
   "cell_type": "code",
   "execution_count": 15,
   "id": "0faeb17f-8b2e-4f18-9638-55aa4fe2c2df",
   "metadata": {},
   "outputs": [
    {
     "name": "stdout",
     "output_type": "stream",
     "text": [
      "30\n"
     ]
    }
   ],
   "source": [
    "def sum(num1, num2):\n",
    "    print(num1+num2)\n",
    "\n",
    "sum(10,20)"
   ]
  },
  {
   "cell_type": "code",
   "execution_count": 16,
   "id": "7070a733-8ee2-409f-bf2b-5335af3bd752",
   "metadata": {},
   "outputs": [
    {
     "name": "stdout",
     "output_type": "stream",
     "text": [
      "150\n"
     ]
    }
   ],
   "source": [
    "sum(50,100)"
   ]
  },
  {
   "cell_type": "code",
   "execution_count": 21,
   "id": "e15787d7-94f5-451c-94f3-b00b3b19081f",
   "metadata": {},
   "outputs": [
    {
     "name": "stdin",
     "output_type": "stream",
     "text": [
      "enter value of num1 23\n",
      "enter value of num2 23\n"
     ]
    },
    {
     "name": "stdout",
     "output_type": "stream",
     "text": [
      "46\n",
      "Addition of two number None\n"
     ]
    }
   ],
   "source": [
    "num1= int(input(\"enter value of num1\"))\n",
    "num2= int(input(\"enter value of num2\"))\n",
    "\n",
    "print(\"Addition of two number\",sum(num1,num2))"
   ]
  },
  {
   "cell_type": "markdown",
   "id": "48c7a951-dc6d-4ace-935b-6cef1618b206",
   "metadata": {},
   "source": [
    "# create a function which will return value"
   ]
  },
  {
   "cell_type": "code",
   "execution_count": 27,
   "id": "2814a745-8e80-41f6-8d0b-f2971f2308a2",
   "metadata": {},
   "outputs": [
    {
     "name": "stdin",
     "output_type": "stream",
     "text": [
      "enter value of num1 12\n",
      "enter value of num2 23\n"
     ]
    },
    {
     "name": "stdout",
     "output_type": "stream",
     "text": [
      "Addition of 12 and 23 is: 35\n"
     ]
    }
   ],
   "source": [
    "def sum(num1, num2):\n",
    "    return num1+num2\n",
    "\n",
    "num1= int(input(\"enter value of num1\"))\n",
    "num2= int(input(\"enter value of num2\"))\n",
    "\n",
    "print(f\"Addition of {num1} and {num2} is:\",sum(num1,num2))"
   ]
  },
  {
   "cell_type": "code",
   "execution_count": 28,
   "id": "1645acb4-457a-47d2-97dd-5a238a4c71c9",
   "metadata": {},
   "outputs": [
    {
     "name": "stdin",
     "output_type": "stream",
     "text": [
      "enter value of num1 23\n",
      "enter value of num2 12\n"
     ]
    },
    {
     "name": "stdout",
     "output_type": "stream",
     "text": [
      "substraction of 23 and 12 is: 11\n"
     ]
    }
   ],
   "source": [
    "def substraction(num1, num2):\n",
    "    return num1-num2\n",
    "\n",
    "num1= int(input(\"enter value of num1\"))\n",
    "num2= int(input(\"enter value of num2\"))\n",
    "\n",
    "print(f\"substraction of {num1} and {num2} is:\",substraction(num1,num2))"
   ]
  },
  {
   "cell_type": "code",
   "execution_count": 29,
   "id": "70171a42-14fa-43a5-a7d9-ee7e10cb5722",
   "metadata": {},
   "outputs": [
    {
     "name": "stdin",
     "output_type": "stream",
     "text": [
      "enter value of num1 23\n",
      "enter value of num2 23\n"
     ]
    },
    {
     "name": "stdout",
     "output_type": "stream",
     "text": [
      "multiplication of 23 and 23 is: 529\n"
     ]
    }
   ],
   "source": [
    "def multiplication(num1, num2):\n",
    "    return num1*num2\n",
    "\n",
    "num1= int(input(\"enter value of num1\"))\n",
    "num2= int(input(\"enter value of num2\"))\n",
    "\n",
    "print(f\"multiplication of {num1} and {num2} is:\",multiplication(num1,num2))"
   ]
  },
  {
   "cell_type": "code",
   "execution_count": 30,
   "id": "a67ea709-aa8b-4db7-8493-8b30ab7caf61",
   "metadata": {},
   "outputs": [
    {
     "name": "stdin",
     "output_type": "stream",
     "text": [
      "enter value of num1 23\n",
      "enter value of num2 2\n"
     ]
    },
    {
     "name": "stdout",
     "output_type": "stream",
     "text": [
      "division of 23 and 2 is: 11.5\n"
     ]
    }
   ],
   "source": [
    "def division(num1, num2):\n",
    "    return num1/num2\n",
    "\n",
    "num1= int(input(\"enter value of num1\"))\n",
    "num2= int(input(\"enter value of num2\"))\n",
    "\n",
    "print(f\"division of {num1} and {num2} is:\",division(num1,num2))"
   ]
  },
  {
   "cell_type": "code",
   "execution_count": 32,
   "id": "1641a657-b627-4a68-a2ce-6b48e979cac7",
   "metadata": {},
   "outputs": [
    {
     "name": "stdin",
     "output_type": "stream",
     "text": [
      "enter value for num1 12\n",
      "enter value for num2 2\n"
     ]
    },
    {
     "name": "stdout",
     "output_type": "stream",
     "text": [
      "Addition of 12 and 2 is: 14\n",
      "substraction of 12 and 2 is: 10\n",
      "multiplication of 12 and 2 is: 24\n",
      "division of 12 and 2 is: 6.0\n"
     ]
    }
   ],
   "source": [
    "def calculator(num1,num2):\n",
    "    return num1+num2\n",
    "    return num1-num2\n",
    "    return num1*num2\n",
    "    return num1/num2\n",
    "\n",
    "num1=int(input(\"enter value for num1\"))\n",
    "num2=int(input(\"enter value for num2\"))\n",
    "\n",
    "print(f\"Addition of {num1} and {num2} is:\",sum(num1,num2))\n",
    "print(f\"substraction of {num1} and {num2} is:\",substraction(num1,num2))\n",
    "print(f\"multiplication of {num1} and {num2} is:\",multiplication(num1,num2))\n",
    "print(f\"division of {num1} and {num2} is:\",division(num1,num2))"
   ]
  },
  {
   "cell_type": "code",
   "execution_count": 33,
   "id": "9556f0aa-4d9a-4f11-9ed7-6ddff92dc69e",
   "metadata": {},
   "outputs": [],
   "source": [
    "def calculator(num1,num2):\n",
    "    add=num1+num2\n",
    "    sub=num1-num2\n",
    "    mult=num1*num2\n",
    "    div=num1/num2\n",
    "    return add, sub, mult, div"
   ]
  },
  {
   "cell_type": "code",
   "execution_count": 34,
   "id": "3fe096f2-08a1-4fbe-95c6-74c13951e957",
   "metadata": {},
   "outputs": [
    {
     "data": {
      "text/plain": [
       "(12, 8, 20, 5.0)"
      ]
     },
     "execution_count": 34,
     "metadata": {},
     "output_type": "execute_result"
    }
   ],
   "source": [
    "calculator(10,2)"
   ]
  },
  {
   "cell_type": "code",
   "execution_count": 35,
   "id": "422372ca-8e1e-4a5f-83ae-110e308c17d3",
   "metadata": {},
   "outputs": [
    {
     "data": {
      "text/plain": [
       "tuple"
      ]
     },
     "execution_count": 35,
     "metadata": {},
     "output_type": "execute_result"
    }
   ],
   "source": [
    "type(calculator(10,2))"
   ]
  },
  {
   "cell_type": "markdown",
   "id": "a4c0024e-b3a8-4e32-bb82-e8293e3ccef3",
   "metadata": {},
   "source": [
    "# create a function which will calculate square of number"
   ]
  },
  {
   "cell_type": "code",
   "execution_count": 38,
   "id": "dd4eef22-c77e-4fae-9467-e4e4977c460a",
   "metadata": {},
   "outputs": [
    {
     "name": "stdin",
     "output_type": "stream",
     "text": [
      "enter any no to square 5\n"
     ]
    },
    {
     "name": "stdout",
     "output_type": "stream",
     "text": [
      "square of5 is 25\n"
     ]
    }
   ],
   "source": [
    "def square(num):\n",
    "    return num*num\n",
    "    \n",
    "num=int(input(\"enter any no to square\"))\n",
    "print(f\"square of{num} is\", square(num))"
   ]
  },
  {
   "cell_type": "markdown",
   "id": "2c9142f4-a9af-428d-9719-086825655282",
   "metadata": {},
   "source": [
    "# Create function which will decide whether number is even or odd"
   ]
  },
  {
   "cell_type": "code",
   "execution_count": 44,
   "id": "f17c48d0-8ca3-4272-9b49-6b53fed8f51b",
   "metadata": {},
   "outputs": [
    {
     "name": "stdin",
     "output_type": "stream",
     "text": [
      "enter no to check even or odd 56\n"
     ]
    },
    {
     "data": {
      "text/plain": [
       "'number is even'"
      ]
     },
     "execution_count": 44,
     "metadata": {},
     "output_type": "execute_result"
    }
   ],
   "source": [
    "def even_odd(number):\n",
    "    if num%2==0:\n",
    "        return(\"number is even\")\n",
    "    else:\n",
    "        return(\"number is odd\")\n",
    "\n",
    "num = int(input(\"enter no to check even or odd\"))\n",
    "even_odd(number)\n"
   ]
  },
  {
   "cell_type": "code",
   "execution_count": null,
   "id": "3fcacd53-b689-45cc-b5f6-50ba875cb44d",
   "metadata": {},
   "outputs": [],
   "source": []
  }
 ],
 "metadata": {
  "kernelspec": {
   "display_name": "Python 3 (ipykernel)",
   "language": "python",
   "name": "python3"
  },
  "language_info": {
   "codemirror_mode": {
    "name": "ipython",
    "version": 3
   },
   "file_extension": ".py",
   "mimetype": "text/x-python",
   "name": "python",
   "nbconvert_exporter": "python",
   "pygments_lexer": "ipython3",
   "version": "3.13.1"
  }
 },
 "nbformat": 4,
 "nbformat_minor": 5
}
