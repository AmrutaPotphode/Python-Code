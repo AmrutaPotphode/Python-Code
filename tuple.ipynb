{
 "cells": [
  {
   "cell_type": "markdown",
   "id": "03c85a61-e58a-4346-8c76-f9174ec6e69f",
   "metadata": {},
   "source": [
    "#Tuple"
   ]
  },
  {
   "cell_type": "code",
   "execution_count": 2,
   "id": "624df2f0-7d55-4d5f-8d4c-073862319020",
   "metadata": {},
   "outputs": [
    {
     "data": {
      "text/plain": [
       "('apple', 'banana', 'kiwi', 'dragon', 'apple')"
      ]
     },
     "execution_count": 2,
     "metadata": {},
     "output_type": "execute_result"
    }
   ],
   "source": [
    "fruit_tuple = (\"apple\",\"banana\",\"kiwi\",\"dragon\",\"apple\")\n",
    "fruit_tuple"
   ]
  },
  {
   "cell_type": "markdown",
   "id": "600bcfc6-927a-485c-9882-69d8e0c6a638",
   "metadata": {},
   "source": [
    "#different type of data in tuple"
   ]
  },
  {
   "cell_type": "code",
   "execution_count": 3,
   "id": "a18117b6-93e5-4acc-bbe5-79efb6a5eea4",
   "metadata": {},
   "outputs": [
    {
     "data": {
      "text/plain": [
       "('apple', 'banana', 1, 23, 23.5, 50.2, True, False)"
      ]
     },
     "execution_count": 3,
     "metadata": {},
     "output_type": "execute_result"
    }
   ],
   "source": [
    "t2=('apple','banana',1,23,23.5,50.2,True,False)\n",
    "t2"
   ]
  },
  {
   "cell_type": "code",
   "execution_count": 7,
   "id": "d01b2bae-d75f-4c3c-b648-33102fb04115",
   "metadata": {},
   "outputs": [
    {
     "data": {
      "text/plain": [
       "('mon', 'tue', 'wed', 'thrus', 'fri', 'sat', 'sun')"
      ]
     },
     "execution_count": 7,
     "metadata": {},
     "output_type": "execute_result"
    }
   ],
   "source": [
    "days = tuple(('mon','tue','wed','thrus','fri','sat','sun'))\n",
    "days"
   ]
  },
  {
   "cell_type": "code",
   "execution_count": 8,
   "id": "5d2a89d4-71f4-402d-80f0-d46a4ebf840e",
   "metadata": {},
   "outputs": [
    {
     "name": "stdout",
     "output_type": "stream",
     "text": [
      "(1, 2)\n",
      "(1, 2, 3)\n",
      "1\n",
      "(1, 2, 3, 4)\n",
      "(1,)\n"
     ]
    },
    {
     "data": {
      "text/plain": [
       "tuple"
      ]
     },
     "execution_count": 8,
     "metadata": {},
     "output_type": "execute_result"
    }
   ],
   "source": [
    "t1=(1,2)\n",
    "t2=(1,2,3)\n",
    "t3=(1)\n",
    "t4=(1,2,3,4)\n",
    "t5=(1,)"
   ]
  },
  {
   "cell_type": "code",
   "execution_count": 9,
   "id": "82c6bd5b-03a1-4e44-960e-a93a195716bf",
   "metadata": {},
   "outputs": [
    {
     "name": "stdout",
     "output_type": "stream",
     "text": [
      "(1, 2)\n"
     ]
    },
    {
     "data": {
      "text/plain": [
       "tuple"
      ]
     },
     "execution_count": 9,
     "metadata": {},
     "output_type": "execute_result"
    }
   ],
   "source": [
    "print(t1)\n",
    "type(t1)\n"
   ]
  },
  {
   "cell_type": "code",
   "execution_count": 10,
   "id": "946ffb43-4333-482c-9355-48695962f13e",
   "metadata": {},
   "outputs": [
    {
     "name": "stdout",
     "output_type": "stream",
     "text": [
      "(1, 2, 3)\n"
     ]
    },
    {
     "data": {
      "text/plain": [
       "tuple"
      ]
     },
     "execution_count": 10,
     "metadata": {},
     "output_type": "execute_result"
    }
   ],
   "source": [
    "print(t2)\n",
    "type(t2)"
   ]
  },
  {
   "cell_type": "code",
   "execution_count": 11,
   "id": "70a650a9-7a4b-435e-9439-4fb0e5edc22c",
   "metadata": {},
   "outputs": [
    {
     "name": "stdout",
     "output_type": "stream",
     "text": [
      "1\n"
     ]
    },
    {
     "data": {
      "text/plain": [
       "int"
      ]
     },
     "execution_count": 11,
     "metadata": {},
     "output_type": "execute_result"
    }
   ],
   "source": [
    "print(t3)\n",
    "type(t3)\n"
   ]
  },
  {
   "cell_type": "code",
   "execution_count": 12,
   "id": "897ff8ee-6f83-401e-ba04-af9c5487be33",
   "metadata": {},
   "outputs": [
    {
     "name": "stdout",
     "output_type": "stream",
     "text": [
      "(1, 2, 3, 4)\n"
     ]
    },
    {
     "data": {
      "text/plain": [
       "tuple"
      ]
     },
     "execution_count": 12,
     "metadata": {},
     "output_type": "execute_result"
    }
   ],
   "source": [
    "print(t4)\n",
    "type(t4)\n",
    "\n"
   ]
  },
  {
   "cell_type": "code",
   "execution_count": 13,
   "id": "3ea5575e-6c66-4ea8-b260-cf77e67cd869",
   "metadata": {},
   "outputs": [
    {
     "name": "stdout",
     "output_type": "stream",
     "text": [
      "(1,)\n"
     ]
    },
    {
     "data": {
      "text/plain": [
       "tuple"
      ]
     },
     "execution_count": 13,
     "metadata": {},
     "output_type": "execute_result"
    }
   ],
   "source": [
    "print(t5)\n",
    "type(t5)"
   ]
  },
  {
   "cell_type": "code",
   "execution_count": 15,
   "id": "c7e43a8c-adf1-4c6e-bae8-a15f5633a4d3",
   "metadata": {},
   "outputs": [
    {
     "data": {
      "text/plain": [
       "1"
      ]
     },
     "execution_count": 15,
     "metadata": {},
     "output_type": "execute_result"
    }
   ],
   "source": [
    "t6=(1,2,3,4,5,6,7,8,9,10)\n",
    "t6[0]"
   ]
  },
  {
   "cell_type": "code",
   "execution_count": 16,
   "id": "0e58c07b-9aa4-4dc6-8bf8-439d68e4141c",
   "metadata": {},
   "outputs": [
    {
     "data": {
      "text/plain": [
       "(1, 2)"
      ]
     },
     "execution_count": 16,
     "metadata": {},
     "output_type": "execute_result"
    }
   ],
   "source": [
    "t6[0:2]"
   ]
  },
  {
   "cell_type": "code",
   "execution_count": 18,
   "id": "1ef1c716-e1b4-4bb8-907f-b2e17af136f6",
   "metadata": {},
   "outputs": [
    {
     "data": {
      "text/plain": [
       "(4, 5, 6)"
      ]
     },
     "execution_count": 18,
     "metadata": {},
     "output_type": "execute_result"
    }
   ],
   "source": [
    "t6[3:6]"
   ]
  },
  {
   "cell_type": "code",
   "execution_count": 20,
   "id": "690492de-47da-4ef3-a57a-53c4aa300656",
   "metadata": {},
   "outputs": [
    {
     "data": {
      "text/plain": [
       "(1, 2, 3, 4, 5)"
      ]
     },
     "execution_count": 20,
     "metadata": {},
     "output_type": "execute_result"
    }
   ],
   "source": [
    "t6[:5]"
   ]
  },
  {
   "cell_type": "code",
   "execution_count": 21,
   "id": "3ca1639f-7a4f-417f-bf76-742a318539cf",
   "metadata": {},
   "outputs": [
    {
     "data": {
      "text/plain": [
       "(10, 9, 8, 7, 6, 5, 4, 3, 2, 1)"
      ]
     },
     "execution_count": 21,
     "metadata": {},
     "output_type": "execute_result"
    }
   ],
   "source": [
    "t6[::-1]"
   ]
  },
  {
   "cell_type": "code",
   "execution_count": 23,
   "id": "9bb3fd4a-1ac6-4f50-afbc-5b39c7c187bb",
   "metadata": {},
   "outputs": [
    {
     "ename": "AttributeError",
     "evalue": "'tuple' object has no attribute 'remove'",
     "output_type": "error",
     "traceback": [
      "\u001b[1;31m---------------------------------------------------------------------------\u001b[0m",
      "\u001b[1;31mAttributeError\u001b[0m                            Traceback (most recent call last)",
      "Cell \u001b[1;32mIn[23], line 1\u001b[0m\n\u001b[1;32m----> 1\u001b[0m \u001b[43mt6\u001b[49m\u001b[38;5;241;43m.\u001b[39;49m\u001b[43mremove\u001b[49m(\u001b[38;5;241m11\u001b[39m)\n",
      "\u001b[1;31mAttributeError\u001b[0m: 'tuple' object has no attribute 'remove'"
     ]
    }
   ],
   "source": [
    "t6.remove(11)"
   ]
  },
  {
   "cell_type": "markdown",
   "id": "20ba1270-e9be-4b95-9ce9-6f7fe96d7bc3",
   "metadata": {},
   "source": [
    "#convert tuple into list"
   ]
  },
  {
   "cell_type": "code",
   "execution_count": 1,
   "id": "7471d4ec-ffad-4081-8562-18cc1703b6dd",
   "metadata": {},
   "outputs": [
    {
     "data": {
      "text/plain": [
       "tuple"
      ]
     },
     "execution_count": 1,
     "metadata": {},
     "output_type": "execute_result"
    }
   ],
   "source": [
    "category=tuple((\"lower class\",\"middle class\",\"upper class\"))\n",
    "category\n",
    "type(category)"
   ]
  },
  {
   "cell_type": "raw",
   "id": "d5f76419-cbe4-4f57-846b-e44f95979e4b",
   "metadata": {},
   "source": [
    "category = list(category)"
   ]
  },
  {
   "cell_type": "code",
   "execution_count": 28,
   "id": "bcb748a7-804f-4dd8-ba27-1872586f7e6f",
   "metadata": {},
   "outputs": [
    {
     "data": {
      "text/plain": [
       "tuple"
      ]
     },
     "execution_count": 28,
     "metadata": {},
     "output_type": "execute_result"
    }
   ],
   "source": [
    "type(category)"
   ]
  },
  {
   "cell_type": "markdown",
   "id": "5f21a6b8-32e0-46c0-87b2-5a338e6b88b6",
   "metadata": {},
   "source": [
    "#tuple packing"
   ]
  },
  {
   "cell_type": "code",
   "execution_count": 4,
   "id": "cff68025-34d8-4131-b2a9-d74eb4c37d12",
   "metadata": {},
   "outputs": [],
   "source": [
    "a=10\n",
    "b=20\n",
    "c=30"
   ]
  },
  {
   "cell_type": "code",
   "execution_count": 5,
   "id": "e403af7d-9ab4-4670-8476-14543ef11a3e",
   "metadata": {},
   "outputs": [],
   "source": [
    "t1=a,b,c"
   ]
  },
  {
   "cell_type": "code",
   "execution_count": null,
   "id": "5de740dd-f6c4-42b4-a8ae-49a82172c11f",
   "metadata": {},
   "outputs": [],
   "source": []
  }
 ],
 "metadata": {
  "kernelspec": {
   "display_name": "Python 3 (ipykernel)",
   "language": "python",
   "name": "python3"
  },
  "language_info": {
   "codemirror_mode": {
    "name": "ipython",
    "version": 3
   },
   "file_extension": ".py",
   "mimetype": "text/x-python",
   "name": "python",
   "nbconvert_exporter": "python",
   "pygments_lexer": "ipython3",
   "version": "3.13.1"
  }
 },
 "nbformat": 4,
 "nbformat_minor": 5
}
