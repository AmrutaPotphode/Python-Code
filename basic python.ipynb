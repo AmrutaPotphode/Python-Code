{
 "cells": [
  {
   "cell_type": "code",
   "execution_count": 1,
   "id": "72d6708f-ea2f-416b-aa51-f6831a4c6596",
   "metadata": {},
   "outputs": [
    {
     "data": {
      "text/plain": [
       "20"
      ]
     },
     "execution_count": 1,
     "metadata": {},
     "output_type": "execute_result"
    }
   ],
   "source": [
    "number=20\n",
    "number"
   ]
  },
  {
   "cell_type": "code",
   "execution_count": 2,
   "id": "a08606d5-dffc-4e44-ae70-c1a5e1c69b8b",
   "metadata": {},
   "outputs": [
    {
     "data": {
      "text/plain": [
       "int"
      ]
     },
     "execution_count": 2,
     "metadata": {},
     "output_type": "execute_result"
    }
   ],
   "source": [
    "type(number)"
   ]
  },
  {
   "cell_type": "code",
   "execution_count": 4,
   "id": "d514527f-3438-4acb-a259-669cbde9492c",
   "metadata": {},
   "outputs": [
    {
     "data": {
      "text/plain": [
       "-39"
      ]
     },
     "execution_count": 4,
     "metadata": {},
     "output_type": "execute_result"
    }
   ],
   "source": [
    "num1=-39\n",
    "num1"
   ]
  },
  {
   "cell_type": "code",
   "execution_count": 5,
   "id": "9970dee2-2d01-4b51-8756-258fccc0f9bd",
   "metadata": {},
   "outputs": [
    {
     "data": {
      "text/plain": [
       "int"
      ]
     },
     "execution_count": 5,
     "metadata": {},
     "output_type": "execute_result"
    }
   ],
   "source": [
    "type(num1)"
   ]
  },
  {
   "cell_type": "code",
   "execution_count": 7,
   "id": "40dbf362-ce14-478f-b197-5c92fdbb7f27",
   "metadata": {},
   "outputs": [
    {
     "data": {
      "text/plain": [
       "10.5"
      ]
     },
     "execution_count": 7,
     "metadata": {},
     "output_type": "execute_result"
    }
   ],
   "source": [
    "a=10.5\n",
    "a"
   ]
  },
  {
   "cell_type": "code",
   "execution_count": 8,
   "id": "e5cddd0a-945b-4ee0-82e0-f019929a1b55",
   "metadata": {},
   "outputs": [
    {
     "data": {
      "text/plain": [
       "float"
      ]
     },
     "execution_count": 8,
     "metadata": {},
     "output_type": "execute_result"
    }
   ],
   "source": [
    "type(a)"
   ]
  },
  {
   "cell_type": "code",
   "execution_count": 11,
   "id": "5294114e-5481-4f22-89c8-29aa11a68041",
   "metadata": {},
   "outputs": [
    {
     "data": {
      "text/plain": [
       "complex"
      ]
     },
     "execution_count": 11,
     "metadata": {},
     "output_type": "execute_result"
    }
   ],
   "source": [
    "a=1+2j\n",
    "type(a)"
   ]
  },
  {
   "cell_type": "code",
   "execution_count": 13,
   "id": "1da0a0bb-4654-4379-ba81-96d62d1a7486",
   "metadata": {},
   "outputs": [
    {
     "data": {
      "text/plain": [
       "'ITSHAALA'"
      ]
     },
     "execution_count": 13,
     "metadata": {},
     "output_type": "execute_result"
    }
   ],
   "source": [
    "institute=\"ITSHAALA\"\n",
    "institute"
   ]
  },
  {
   "cell_type": "code",
   "execution_count": 14,
   "id": "72588cf7-462c-438f-9d7a-8158ea379d85",
   "metadata": {},
   "outputs": [
    {
     "data": {
      "text/plain": [
       "str"
      ]
     },
     "execution_count": 14,
     "metadata": {},
     "output_type": "execute_result"
    }
   ],
   "source": [
    "type(institute)"
   ]
  },
  {
   "cell_type": "code",
   "execution_count": 15,
   "id": "79d617a0-3fe8-44a2-8e29-fa64a2ec62d7",
   "metadata": {},
   "outputs": [
    {
     "data": {
      "text/plain": [
       "'I'"
      ]
     },
     "execution_count": 15,
     "metadata": {},
     "output_type": "execute_result"
    }
   ],
   "source": [
    "institute[0]"
   ]
  },
  {
   "cell_type": "code",
   "execution_count": 16,
   "id": "66cac0a2-37cb-4e2d-b96f-c83517a18be6",
   "metadata": {},
   "outputs": [
    {
     "data": {
      "text/plain": [
       "'A'"
      ]
     },
     "execution_count": 16,
     "metadata": {},
     "output_type": "execute_result"
    }
   ],
   "source": [
    "institute[-1]"
   ]
  },
  {
   "cell_type": "code",
   "execution_count": 18,
   "id": "d1828718-bfc9-4deb-a9de-209380af0829",
   "metadata": {},
   "outputs": [
    {
     "data": {
      "text/plain": [
       "('I', 'T')"
      ]
     },
     "execution_count": 18,
     "metadata": {},
     "output_type": "execute_result"
    }
   ],
   "source": [
    "institute[0],institute[1]"
   ]
  },
  {
   "cell_type": "code",
   "execution_count": 19,
   "id": "f200b73f-a758-4387-bb5e-33c8e7e33864",
   "metadata": {},
   "outputs": [
    {
     "data": {
      "text/plain": [
       "'IT'"
      ]
     },
     "execution_count": 19,
     "metadata": {},
     "output_type": "execute_result"
    }
   ],
   "source": [
    "institute[0:2]"
   ]
  },
  {
   "cell_type": "code",
   "execution_count": 21,
   "id": "e2b71839-5526-4389-adab-226081b219e1",
   "metadata": {},
   "outputs": [
    {
     "data": {
      "text/plain": [
       "'SHAALA'"
      ]
     },
     "execution_count": 21,
     "metadata": {},
     "output_type": "execute_result"
    }
   ],
   "source": [
    "institute[2:]"
   ]
  },
  {
   "cell_type": "code",
   "execution_count": 22,
   "id": "0061b44d-7edc-43af-95ca-957eeaa657e5",
   "metadata": {},
   "outputs": [
    {
     "data": {
      "text/plain": [
       "'SHA'"
      ]
     },
     "execution_count": 22,
     "metadata": {},
     "output_type": "execute_result"
    }
   ],
   "source": [
    "institute[2:5]"
   ]
  },
  {
   "cell_type": "code",
   "execution_count": 23,
   "id": "719dcc2f-3346-4c90-840d-e8f547d5ff62",
   "metadata": {},
   "outputs": [
    {
     "data": {
      "text/plain": [
       "'ITSH'"
      ]
     },
     "execution_count": 23,
     "metadata": {},
     "output_type": "execute_result"
    }
   ],
   "source": [
    "institute[:4]"
   ]
  },
  {
   "cell_type": "code",
   "execution_count": 24,
   "id": "05daf007-e492-40dc-926f-876090db837d",
   "metadata": {},
   "outputs": [
    {
     "data": {
      "text/plain": [
       "'ITSHAALA'"
      ]
     },
     "execution_count": 24,
     "metadata": {},
     "output_type": "execute_result"
    }
   ],
   "source": [
    "institute[::]"
   ]
  },
  {
   "cell_type": "code",
   "execution_count": 27,
   "id": "31810785-265c-4044-a955-7f479b05b19d",
   "metadata": {},
   "outputs": [
    {
     "data": {
      "text/plain": [
       "8"
      ]
     },
     "execution_count": 27,
     "metadata": {},
     "output_type": "execute_result"
    }
   ],
   "source": [
    "len(institute)"
   ]
  },
  {
   "cell_type": "markdown",
   "id": "3c85d0f4-d4a9-4a62-a53c-b1356bb66622",
   "metadata": {},
   "source": [
    "name=\"Amruta\"\n",
    "upper(name)"
   ]
  },
  {
   "cell_type": "code",
   "execution_count": 29,
   "id": "a0a21595-84be-45b0-9b19-dff317b9f602",
   "metadata": {},
   "outputs": [
    {
     "data": {
      "text/plain": [
       "'amruta'"
      ]
     },
     "execution_count": 29,
     "metadata": {},
     "output_type": "execute_result"
    }
   ],
   "source": [
    "name=\"Amruta\"\n",
    "name.lower()"
   ]
  },
  {
   "cell_type": "code",
   "execution_count": 30,
   "id": "a21a20d7-2856-4684-83ca-80014f9eab4d",
   "metadata": {},
   "outputs": [
    {
     "data": {
      "text/plain": [
       "'AMRUTA'"
      ]
     },
     "execution_count": 30,
     "metadata": {},
     "output_type": "execute_result"
    }
   ],
   "source": [
    "name.upper()"
   ]
  },
  {
   "cell_type": "code",
   "execution_count": 31,
   "id": "1b773143-9009-4f7e-884e-ffa1c68347ff",
   "metadata": {},
   "outputs": [
    {
     "data": {
      "text/plain": [
       "'aturmA'"
      ]
     },
     "execution_count": 31,
     "metadata": {},
     "output_type": "execute_result"
    }
   ],
   "source": [
    "name[::-1]"
   ]
  },
  {
   "cell_type": "code",
   "execution_count": 36,
   "id": "deebf80f-02f9-430d-9025-8497ab39dc84",
   "metadata": {},
   "outputs": [
    {
     "data": {
      "text/plain": [
       "<reversed at 0x15dcbf13a00>"
      ]
     },
     "execution_count": 36,
     "metadata": {},
     "output_type": "execute_result"
    }
   ],
   "source": [
    "reversed(name)"
   ]
  },
  {
   "cell_type": "code",
   "execution_count": 38,
   "id": "6bb6f6dd-86f0-4a9d-8ccb-b8740efd0478",
   "metadata": {},
   "outputs": [
    {
     "data": {
      "text/plain": [
       "bool"
      ]
     },
     "execution_count": 38,
     "metadata": {},
     "output_type": "execute_result"
    }
   ],
   "source": [
    "on=True\n",
    "off=False\n",
    "type(on)\n",
    "type(off)"
   ]
  },
  {
   "cell_type": "code",
   "execution_count": 2,
   "id": "ae5eee15-ad4c-47ef-b441-e0e7b492938f",
   "metadata": {},
   "outputs": [
    {
     "ename": "NameError",
     "evalue": "name 'off' is not defined",
     "output_type": "error",
     "traceback": [
      "\u001b[1;31m---------------------------------------------------------------------------\u001b[0m",
      "\u001b[1;31mNameError\u001b[0m                                 Traceback (most recent call last)",
      "Cell \u001b[1;32mIn[2], line 1\u001b[0m\n\u001b[1;32m----> 1\u001b[0m (\u001b[43moff\u001b[49m\u001b[38;5;241m==\u001b[39m\u001b[38;5;28;01mFalse\u001b[39;00m)\n",
      "\u001b[1;31mNameError\u001b[0m: name 'off' is not defined"
     ]
    }
   ],
   "source": [
    "(off==False)"
   ]
  },
  {
   "cell_type": "code",
   "execution_count": 40,
   "id": "7ea72134-3f60-4407-9ee7-dbe466f43f95",
   "metadata": {},
   "outputs": [
    {
     "name": "stdout",
     "output_type": "stream",
     "text": [
      "light is on\n"
     ]
    }
   ],
   "source": [
    "light=True\n",
    "if light==True:\n",
    "    print(\"light is on\")"
   ]
  },
  {
   "cell_type": "code",
   "execution_count": 41,
   "id": "d89fe8a8-0278-411a-a5a9-24fc1f491ae2",
   "metadata": {},
   "outputs": [
    {
     "name": "stdout",
     "output_type": "stream",
     "text": [
      "light is off\n"
     ]
    }
   ],
   "source": [
    "light=False\n",
    "if light==False:\n",
    "    print(\"light is off\")"
   ]
  },
  {
   "cell_type": "code",
   "execution_count": 43,
   "id": "5227864d-6f36-4df7-9fe1-e03e60d2d00d",
   "metadata": {},
   "outputs": [
    {
     "data": {
      "text/plain": [
       "['wheat', 'rice', 'catburry', '2kg', '3kg', 3.5, 3.6, True, False]"
      ]
     },
     "execution_count": 43,
     "metadata": {},
     "output_type": "execute_result"
    }
   ],
   "source": [
    "listitem=[\"wheat\",\"rice\",\"catburry\",'2kg',\"3kg\",3.5,3.6,True,False]\n",
    "listitem"
   ]
  },
  {
   "cell_type": "code",
   "execution_count": 45,
   "id": "f9a773c2-c507-4436-aced-d8cf3e7d2eb5",
   "metadata": {},
   "outputs": [
    {
     "data": {
      "text/plain": [
       "['apple', 'kiwi', 'dragon', 'banana']"
      ]
     },
     "execution_count": 45,
     "metadata": {},
     "output_type": "execute_result"
    }
   ],
   "source": [
    "fruit_list=[\"apple\",\"kiwi\",\"dragon\",\"banana\"]\n",
    "fruit_list"
   ]
  },
  {
   "cell_type": "code",
   "execution_count": 46,
   "id": "e5793b50-7f8b-4979-89cf-d669d3638d5a",
   "metadata": {},
   "outputs": [
    {
     "data": {
      "text/plain": [
       "4"
      ]
     },
     "execution_count": 46,
     "metadata": {},
     "output_type": "execute_result"
    }
   ],
   "source": [
    "len(fruit_list)"
   ]
  },
  {
   "cell_type": "code",
   "execution_count": 47,
   "id": "cca11fcb-be91-4f7c-8def-4b04fd73f9e5",
   "metadata": {},
   "outputs": [
    {
     "data": {
      "text/plain": [
       "['mango', 'kiwi', 'dragon', 'banana']"
      ]
     },
     "execution_count": 47,
     "metadata": {},
     "output_type": "execute_result"
    }
   ],
   "source": [
    "fruit_list[0]=\"mango\"\n",
    "fruit_list"
   ]
  },
  {
   "cell_type": "code",
   "execution_count": 48,
   "id": "4d707dc5-42b5-4a50-b1f8-11d95994461f",
   "metadata": {},
   "outputs": [
    {
     "data": {
      "text/plain": [
       "['mango', 'kiwi', 'dragon', 'banana', 'apple']"
      ]
     },
     "execution_count": 48,
     "metadata": {},
     "output_type": "execute_result"
    }
   ],
   "source": [
    "fruit_list.append(\"apple\")\n",
    "fruit_list"
   ]
  },
  {
   "cell_type": "code",
   "execution_count": 49,
   "id": "1320e274-03fe-414d-9dca-bb2543fb48d3",
   "metadata": {},
   "outputs": [
    {
     "data": {
      "text/plain": [
       "['mango', 'kiwi', 'dragon', 'banana', 'apple', 'mango']"
      ]
     },
     "execution_count": 49,
     "metadata": {},
     "output_type": "execute_result"
    }
   ],
   "source": [
    "fruit_list.append(\"mango\")\n",
    "fruit_list"
   ]
  },
  {
   "cell_type": "code",
   "execution_count": 53,
   "id": "afcb1be0-bdb2-4ca8-bfa2-49fd5ae3d2a1",
   "metadata": {},
   "outputs": [
    {
     "data": {
      "text/plain": [
       "'mango'"
      ]
     },
     "execution_count": 53,
     "metadata": {},
     "output_type": "execute_result"
    }
   ],
   "source": [
    "fruit_list[-1]"
   ]
  },
  {
   "cell_type": "code",
   "execution_count": 54,
   "id": "4d7d6ed8-f8b9-40e0-b340-9dda5040c106",
   "metadata": {},
   "outputs": [
    {
     "data": {
      "text/plain": [
       "['mango', 'kiwi']"
      ]
     },
     "execution_count": 54,
     "metadata": {},
     "output_type": "execute_result"
    }
   ],
   "source": [
    "fruit_list[0:2]"
   ]
  },
  {
   "cell_type": "code",
   "execution_count": 55,
   "id": "7c100087-90a3-41db-9228-672d026db734",
   "metadata": {},
   "outputs": [
    {
     "data": {
      "text/plain": [
       "['banana', 'apple', 'mango']"
      ]
     },
     "execution_count": 55,
     "metadata": {},
     "output_type": "execute_result"
    }
   ],
   "source": [
    "fruit_list[3:]"
   ]
  },
  {
   "cell_type": "code",
   "execution_count": 56,
   "id": "b99fd702-dac7-4cf5-ac4c-86df4a9676d0",
   "metadata": {},
   "outputs": [
    {
     "data": {
      "text/plain": [
       "['dragon', 'banana', 'apple']"
      ]
     },
     "execution_count": 56,
     "metadata": {},
     "output_type": "execute_result"
    }
   ],
   "source": [
    "fruit_list[2:5]"
   ]
  },
  {
   "cell_type": "code",
   "execution_count": 57,
   "id": "b3bc9cc7-0ac4-4c53-af26-2e9dca5aaeac",
   "metadata": {},
   "outputs": [
    {
     "data": {
      "text/plain": [
       "['mango', 'apple', 'banana', 'dragon', 'kiwi', 'mango']"
      ]
     },
     "execution_count": 57,
     "metadata": {},
     "output_type": "execute_result"
    }
   ],
   "source": [
    "fruit_list[::-1]"
   ]
  },
  {
   "cell_type": "code",
   "execution_count": 60,
   "id": "ec5c96f7-7482-4718-a578-656d21de8394",
   "metadata": {},
   "outputs": [
    {
     "name": "stdout",
     "output_type": "stream",
     "text": [
      "mango\n",
      "apple\n",
      "banana\n",
      "dragon\n",
      "kiwi\n",
      "mango\n"
     ]
    }
   ],
   "source": [
    "rev=reversed(fruit_list)\n",
    "for i in rev:\n",
    "    print(i)"
   ]
  },
  {
   "cell_type": "code",
   "execution_count": 61,
   "id": "4c527695-e3f2-47d7-af2a-69465292664a",
   "metadata": {},
   "outputs": [
    {
     "data": {
      "text/plain": [
       "'mango'"
      ]
     },
     "execution_count": 61,
     "metadata": {},
     "output_type": "execute_result"
    }
   ],
   "source": [
    "fruit_list.pop()"
   ]
  },
  {
   "cell_type": "code",
   "execution_count": 62,
   "id": "075a1f8a-561a-4e3f-a995-e0f93942ca9a",
   "metadata": {},
   "outputs": [
    {
     "data": {
      "text/plain": [
       "['mango', 'kiwi', 'dragon', 'banana', 'apple']"
      ]
     },
     "execution_count": 62,
     "metadata": {},
     "output_type": "execute_result"
    }
   ],
   "source": [
    "fruit_list"
   ]
  },
  {
   "cell_type": "code",
   "execution_count": 64,
   "id": "a17a5ee1-210a-4b70-906f-027e91c1bf5b",
   "metadata": {},
   "outputs": [
    {
     "data": {
      "text/plain": [
       "'kiwi'"
      ]
     },
     "execution_count": 64,
     "metadata": {},
     "output_type": "execute_result"
    }
   ],
   "source": [
    "fruit_list.pop(1)"
   ]
  },
  {
   "cell_type": "code",
   "execution_count": 65,
   "id": "73aa3edb-840e-43c5-bd8b-893297eb4966",
   "metadata": {},
   "outputs": [
    {
     "data": {
      "text/plain": [
       "['mango', 'dragon', 'banana']"
      ]
     },
     "execution_count": 65,
     "metadata": {},
     "output_type": "execute_result"
    }
   ],
   "source": [
    "fruit_list"
   ]
  },
  {
   "cell_type": "code",
   "execution_count": 66,
   "id": "75e1e2cd-6f9b-43ff-937d-be8049f6a25e",
   "metadata": {},
   "outputs": [],
   "source": [
    "fruit_list.remove(\"dragon\")"
   ]
  },
  {
   "cell_type": "code",
   "execution_count": 67,
   "id": "e383934b-8b2b-4192-ad80-6fb1a366670d",
   "metadata": {},
   "outputs": [
    {
     "data": {
      "text/plain": [
       "['mango', 'banana']"
      ]
     },
     "execution_count": 67,
     "metadata": {},
     "output_type": "execute_result"
    }
   ],
   "source": [
    "fruit_list"
   ]
  },
  {
   "cell_type": "code",
   "execution_count": 69,
   "id": "bb858c99-1ea3-4b46-ae76-0f399dd261c2",
   "metadata": {},
   "outputs": [],
   "source": [
    "fruit_list.clear()"
   ]
  },
  {
   "cell_type": "code",
   "execution_count": 70,
   "id": "cda66e51-ff52-4d79-9b78-d05d6689c13c",
   "metadata": {},
   "outputs": [
    {
     "data": {
      "text/plain": [
       "[]"
      ]
     },
     "execution_count": 70,
     "metadata": {},
     "output_type": "execute_result"
    }
   ],
   "source": [
    "fruit_list"
   ]
  },
  {
   "cell_type": "code",
   "execution_count": 71,
   "id": "c9cd1ff0-6475-4a18-b753-340ac7ae8d1e",
   "metadata": {},
   "outputs": [
    {
     "data": {
      "text/plain": [
       "['Mango', 'banana', 'rice', 'wheat', 'sugar']"
      ]
     },
     "execution_count": 71,
     "metadata": {},
     "output_type": "execute_result"
    }
   ],
   "source": [
    "fruit=[\"Mango\",\"banana\"]\n",
    "grocerry=[\"rice\",\"wheat\",\"sugar\"]\n",
    "fulllist=fruit+grocerry\n",
    "fulllist"
   ]
  },
  {
   "cell_type": "code",
   "execution_count": 72,
   "id": "97cef7ae-8716-4339-ab9a-6bc59b7e7c00",
   "metadata": {},
   "outputs": [
    {
     "name": "stdout",
     "output_type": "stream",
     "text": [
      "['Mango', 'banana']\n",
      "['rice', 'wheat', 'sugar']\n",
      "['Mango', 'banana', 'rice', 'wheat', 'sugar']\n"
     ]
    }
   ],
   "source": [
    "fruit=[\"Mango\",\"banana\"]\n",
    "grocerry=[\"rice\",\"wheat\",\"sugar\"]\n",
    "fulllist=fruit+grocerry\n",
    "print(fruit)\n",
    "print(grocerry)\n",
    "print(fulllist)"
   ]
  },
  {
   "cell_type": "code",
   "execution_count": 74,
   "id": "ac1f6179-fa70-446d-9440-ed6864ae2df0",
   "metadata": {},
   "outputs": [
    {
     "name": "stdout",
     "output_type": "stream",
     "text": [
      "['Mango', 'banana']\n"
     ]
    }
   ],
   "source": [
    "print(sorted(fruit))"
   ]
  },
  {
   "cell_type": "code",
   "execution_count": 75,
   "id": "809a4662-dcf0-4c07-a5ca-d6d33dc834a8",
   "metadata": {},
   "outputs": [
    {
     "name": "stdout",
     "output_type": "stream",
     "text": [
      "['rice', 'sugar', 'wheat']\n"
     ]
    }
   ],
   "source": [
    "print(sorted(grocerry))"
   ]
  },
  {
   "cell_type": "code",
   "execution_count": 76,
   "id": "486f8d1b-4e65-42f2-bd35-d5215af2ffa8",
   "metadata": {},
   "outputs": [
    {
     "name": "stdout",
     "output_type": "stream",
     "text": [
      "['Mango', 'banana', 'rice', 'sugar', 'wheat']\n"
     ]
    }
   ],
   "source": [
    "print(sorted(fulllist))"
   ]
  },
  {
   "cell_type": "code",
   "execution_count": 78,
   "id": "f0184c8e-abb8-4176-a248-75af88f8532c",
   "metadata": {},
   "outputs": [],
   "source": [
    "number=[[1,2,3],[4,5,6]]"
   ]
  },
  {
   "cell_type": "code",
   "execution_count": 79,
   "id": "50170168-31b4-4db5-8ee6-b93ed0c87b28",
   "metadata": {},
   "outputs": [
    {
     "data": {
      "text/plain": [
       "[[1, 2, 3], [4, 5, 6]]"
      ]
     },
     "execution_count": 79,
     "metadata": {},
     "output_type": "execute_result"
    }
   ],
   "source": [
    "number"
   ]
  },
  {
   "cell_type": "code",
   "execution_count": 3,
   "id": "be5c100d-3730-4439-b388-62032d0b19f9",
   "metadata": {},
   "outputs": [],
   "source": [
    "fruit=list([\"mango\",\"banana\",\"kiwi\",\"orange\"])"
   ]
  },
  {
   "cell_type": "code",
   "execution_count": 4,
   "id": "bd8ded73-73d4-4b44-b946-31435be769f0",
   "metadata": {},
   "outputs": [
    {
     "data": {
      "text/plain": [
       "['mango', 'banana', 'kiwi', 'orange']"
      ]
     },
     "execution_count": 4,
     "metadata": {},
     "output_type": "execute_result"
    }
   ],
   "source": [
    "fruit"
   ]
  },
  {
   "cell_type": "markdown",
   "id": "ac472b0e-a2ee-483b-928c-2a5672fb5b2f",
   "metadata": {},
   "source": [
    "#membership operator --in and not in"
   ]
  },
  {
   "cell_type": "code",
   "execution_count": 82,
   "id": "0bf3fd25-948b-406e-a53b-ff443f0f653d",
   "metadata": {},
   "outputs": [
    {
     "data": {
      "text/plain": [
       "True"
      ]
     },
     "execution_count": 82,
     "metadata": {},
     "output_type": "execute_result"
    }
   ],
   "source": [
    "\"mango\" in fruit"
   ]
  },
  {
   "cell_type": "code",
   "execution_count": 83,
   "id": "bb81ef26-40b0-46ee-ac86-c200e109a43b",
   "metadata": {},
   "outputs": [
    {
     "data": {
      "text/plain": [
       "False"
      ]
     },
     "execution_count": 83,
     "metadata": {},
     "output_type": "execute_result"
    }
   ],
   "source": [
    "\"dragon\" in fruit"
   ]
  },
  {
   "cell_type": "code",
   "execution_count": 5,
   "id": "a8cc65f7-8642-4d42-bc1f-a78b003bfba2",
   "metadata": {},
   "outputs": [
    {
     "name": "stdin",
     "output_type": "stream",
     "text": [
      "enter name of fruit mango\n"
     ]
    },
    {
     "name": "stdout",
     "output_type": "stream",
     "text": [
      "fruit name is present in list\n"
     ]
    }
   ],
   "source": [
    "name=input(\"enter name of fruit\")\n",
    "if name in fruit:\n",
    "    print(\"fruit name is present in list\")\n",
    "else:\n",
    "    print(\"not present in a fruit list\")\n",
    "    "
   ]
  },
  {
   "cell_type": "code",
   "execution_count": 2,
   "id": "8e7270ba-1916-4ce3-925e-d90cd88580c0",
   "metadata": {},
   "outputs": [
    {
     "name": "stdin",
     "output_type": "stream",
     "text": [
      "enter the value for num1 56\n",
      "enter the value for num2 3\n"
     ]
    },
    {
     "name": "stdout",
     "output_type": "stream",
     "text": [
      "addition of 56 and 3 is : 59\n",
      "substraction of 56 and 3 is : 53\n",
      "multiplication of 56 and 3 is : 168\n",
      "Division of 56 and 3 is : 18.666666666666668\n",
      "remainder of 56 and 3 is : 2\n"
     ]
    }
   ],
   "source": [
    "num1= int(input(\"enter the value for num1\"))\n",
    "num2= int(input(\"enter the value for num2\"))\n",
    "\n",
    "addition = num1 + num2\n",
    "substraction = num1-num2\n",
    "multiplication = num1 * num2\n",
    "division = num1 / num2\n",
    "remainder = num1%num2\n",
    "\n",
    "print(f\"addition of {num1} and {num2} is : {addition}\")\n",
    "print(f\"substraction of {num1} and {num2} is : {substraction}\")\n",
    "print(f\"multiplication of {num1} and {num2} is : {multiplication}\")\n",
    "print(f\"Division of {num1} and {num2} is : {division}\")\n",
    "print(f\"remainder of {num1} and {num2} is : {remainder}\")"
   ]
  },
  {
   "cell_type": "code",
   "execution_count": null,
   "id": "737229cc-9f60-4a3b-8652-9c6648015e41",
   "metadata": {},
   "outputs": [],
   "source": []
  }
 ],
 "metadata": {
  "kernelspec": {
   "display_name": "Python 3 (ipykernel)",
   "language": "python",
   "name": "python3"
  },
  "language_info": {
   "codemirror_mode": {
    "name": "ipython",
    "version": 3
   },
   "file_extension": ".py",
   "mimetype": "text/x-python",
   "name": "python",
   "nbconvert_exporter": "python",
   "pygments_lexer": "ipython3",
   "version": "3.13.1"
  }
 },
 "nbformat": 4,
 "nbformat_minor": 5
}
